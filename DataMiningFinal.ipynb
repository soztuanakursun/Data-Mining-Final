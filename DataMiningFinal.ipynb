{
  "nbformat": 4,
  "nbformat_minor": 0,
  "metadata": {
    "colab": {
      "name": "DataMiningFinal.ipynb",
      "provenance": [],
      "collapsed_sections": []
    },
    "kernelspec": {
      "name": "python3",
      "display_name": "Python 3"
    }
  },
  "cells": [
    {
      "cell_type": "markdown",
      "metadata": {
        "id": "qiYIHJ5I1If_"
      },
      "source": [
        "#Data Mining Project"
      ]
    },
    {
      "cell_type": "markdown",
      "metadata": {
        "id": "8zEedCrNvgXP"
      },
      "source": [
        "##Libraries"
      ]
    },
    {
      "cell_type": "code",
      "metadata": {
        "id": "4XdK_5NAWPNr"
      },
      "source": [
        "import numpy as np\r\n",
        "import pandas as pd\r\n",
        "import seaborn as sns\r\n",
        "from sklearn.model_selection import cross_val_score\r\n",
        "from sklearn.model_selection import train_test_split\r\n",
        "from sklearn.linear_model import LogisticRegression\r\n",
        "from sklearn.ensemble import RandomForestClassifier\r\n",
        "from sklearn.linear_model import LinearRegression\r\n",
        "from sklearn.neighbors import KNeighborsClassifier\r\n",
        "from sklearn.metrics import roc_curve\r\n",
        "from sklearn.metrics import roc_auc_score\r\n",
        "from matplotlib import pyplot\r\n",
        "import matplotlib.pyplot as plt\r\n",
        "from sklearn.cluster import KMeans\r\n",
        "from sklearn.ensemble import ExtraTreesClassifier\r\n",
        "import warnings\r\n",
        "import scipy.stats\r\n",
        "warnings.filterwarnings('ignore')"
      ],
      "execution_count": null,
      "outputs": []
    },
    {
      "cell_type": "markdown",
      "metadata": {
        "id": "CJ3zcAlOvi7K"
      },
      "source": [
        "##Editing Data"
      ]
    },
    {
      "cell_type": "code",
      "metadata": {
        "colab": {
          "base_uri": "https://localhost:8080/",
          "height": 195
        },
        "id": "Livp_sdXu22i",
        "outputId": "07ad4cba-76ea-4f84-98ca-45604d4343a0"
      },
      "source": [
        "#We called our dataset and visualized it with the data.head() command.\r\n",
        "data = pd.read_csv(\"diabetes.csv\")\r\n",
        "data.head()"
      ],
      "execution_count": null,
      "outputs": [
        {
          "output_type": "execute_result",
          "data": {
            "text/html": [
              "<div>\n",
              "<style scoped>\n",
              "    .dataframe tbody tr th:only-of-type {\n",
              "        vertical-align: middle;\n",
              "    }\n",
              "\n",
              "    .dataframe tbody tr th {\n",
              "        vertical-align: top;\n",
              "    }\n",
              "\n",
              "    .dataframe thead th {\n",
              "        text-align: right;\n",
              "    }\n",
              "</style>\n",
              "<table border=\"1\" class=\"dataframe\">\n",
              "  <thead>\n",
              "    <tr style=\"text-align: right;\">\n",
              "      <th></th>\n",
              "      <th>Pregnancies</th>\n",
              "      <th>Glucose</th>\n",
              "      <th>BloodPressure</th>\n",
              "      <th>SkinThickness</th>\n",
              "      <th>Insulin</th>\n",
              "      <th>BMI</th>\n",
              "      <th>DiabetesPedigreeFunction</th>\n",
              "      <th>Age</th>\n",
              "      <th>Outcome</th>\n",
              "    </tr>\n",
              "  </thead>\n",
              "  <tbody>\n",
              "    <tr>\n",
              "      <th>0</th>\n",
              "      <td>6</td>\n",
              "      <td>148</td>\n",
              "      <td>72</td>\n",
              "      <td>35</td>\n",
              "      <td>0</td>\n",
              "      <td>33.6</td>\n",
              "      <td>0.627</td>\n",
              "      <td>50</td>\n",
              "      <td>1</td>\n",
              "    </tr>\n",
              "    <tr>\n",
              "      <th>1</th>\n",
              "      <td>1</td>\n",
              "      <td>85</td>\n",
              "      <td>66</td>\n",
              "      <td>29</td>\n",
              "      <td>0</td>\n",
              "      <td>26.6</td>\n",
              "      <td>0.351</td>\n",
              "      <td>31</td>\n",
              "      <td>0</td>\n",
              "    </tr>\n",
              "    <tr>\n",
              "      <th>2</th>\n",
              "      <td>8</td>\n",
              "      <td>183</td>\n",
              "      <td>64</td>\n",
              "      <td>0</td>\n",
              "      <td>0</td>\n",
              "      <td>23.3</td>\n",
              "      <td>0.672</td>\n",
              "      <td>32</td>\n",
              "      <td>1</td>\n",
              "    </tr>\n",
              "    <tr>\n",
              "      <th>3</th>\n",
              "      <td>1</td>\n",
              "      <td>89</td>\n",
              "      <td>66</td>\n",
              "      <td>23</td>\n",
              "      <td>94</td>\n",
              "      <td>28.1</td>\n",
              "      <td>0.167</td>\n",
              "      <td>21</td>\n",
              "      <td>0</td>\n",
              "    </tr>\n",
              "    <tr>\n",
              "      <th>4</th>\n",
              "      <td>0</td>\n",
              "      <td>137</td>\n",
              "      <td>40</td>\n",
              "      <td>35</td>\n",
              "      <td>168</td>\n",
              "      <td>43.1</td>\n",
              "      <td>2.288</td>\n",
              "      <td>33</td>\n",
              "      <td>1</td>\n",
              "    </tr>\n",
              "  </tbody>\n",
              "</table>\n",
              "</div>"
            ],
            "text/plain": [
              "   Pregnancies  Glucose  BloodPressure  ...  DiabetesPedigreeFunction  Age  Outcome\n",
              "0            6      148             72  ...                     0.627   50        1\n",
              "1            1       85             66  ...                     0.351   31        0\n",
              "2            8      183             64  ...                     0.672   32        1\n",
              "3            1       89             66  ...                     0.167   21        0\n",
              "4            0      137             40  ...                     2.288   33        1\n",
              "\n",
              "[5 rows x 9 columns]"
            ]
          },
          "metadata": {
            "tags": []
          },
          "execution_count": 41
        }
      ]
    },
    {
      "cell_type": "code",
      "metadata": {
        "colab": {
          "base_uri": "https://localhost:8080/"
        },
        "id": "rrGCo6LPvfVN",
        "outputId": "4555c9c0-f97d-435a-94d5-afb37a64ba6a"
      },
      "source": [
        "#We decided whether it is true or false by looking at the types in the data set.\r\n",
        "data.info()"
      ],
      "execution_count": null,
      "outputs": [
        {
          "output_type": "stream",
          "text": [
            "<class 'pandas.core.frame.DataFrame'>\n",
            "RangeIndex: 768 entries, 0 to 767\n",
            "Data columns (total 9 columns):\n",
            " #   Column                    Non-Null Count  Dtype  \n",
            "---  ------                    --------------  -----  \n",
            " 0   Pregnancies               768 non-null    int64  \n",
            " 1   Glucose                   768 non-null    int64  \n",
            " 2   BloodPressure             768 non-null    int64  \n",
            " 3   SkinThickness             768 non-null    int64  \n",
            " 4   Insulin                   768 non-null    int64  \n",
            " 5   BMI                       768 non-null    float64\n",
            " 6   DiabetesPedigreeFunction  768 non-null    float64\n",
            " 7   Age                       768 non-null    int64  \n",
            " 8   Outcome                   768 non-null    int64  \n",
            "dtypes: float64(2), int64(7)\n",
            "memory usage: 54.1 KB\n"
          ],
          "name": "stdout"
        }
      ]
    },
    {
      "cell_type": "code",
      "metadata": {
        "colab": {
          "base_uri": "https://localhost:8080/",
          "height": 284
        },
        "id": "zoJu_mWpWEna",
        "outputId": "b81eca51-2056-4723-dd05-d2ad4bc5a54e"
      },
      "source": [
        "#Statistical data brought.\r\n",
        "data.describe()"
      ],
      "execution_count": null,
      "outputs": [
        {
          "output_type": "execute_result",
          "data": {
            "text/html": [
              "<div>\n",
              "<style scoped>\n",
              "    .dataframe tbody tr th:only-of-type {\n",
              "        vertical-align: middle;\n",
              "    }\n",
              "\n",
              "    .dataframe tbody tr th {\n",
              "        vertical-align: top;\n",
              "    }\n",
              "\n",
              "    .dataframe thead th {\n",
              "        text-align: right;\n",
              "    }\n",
              "</style>\n",
              "<table border=\"1\" class=\"dataframe\">\n",
              "  <thead>\n",
              "    <tr style=\"text-align: right;\">\n",
              "      <th></th>\n",
              "      <th>Pregnancies</th>\n",
              "      <th>Glucose</th>\n",
              "      <th>BloodPressure</th>\n",
              "      <th>SkinThickness</th>\n",
              "      <th>Insulin</th>\n",
              "      <th>BMI</th>\n",
              "      <th>DiabetesPedigreeFunction</th>\n",
              "      <th>Age</th>\n",
              "      <th>Outcome</th>\n",
              "    </tr>\n",
              "  </thead>\n",
              "  <tbody>\n",
              "    <tr>\n",
              "      <th>count</th>\n",
              "      <td>768.000000</td>\n",
              "      <td>768.000000</td>\n",
              "      <td>768.000000</td>\n",
              "      <td>768.000000</td>\n",
              "      <td>768.000000</td>\n",
              "      <td>768.000000</td>\n",
              "      <td>768.000000</td>\n",
              "      <td>768.000000</td>\n",
              "      <td>768.000000</td>\n",
              "    </tr>\n",
              "    <tr>\n",
              "      <th>mean</th>\n",
              "      <td>3.845052</td>\n",
              "      <td>120.894531</td>\n",
              "      <td>69.105469</td>\n",
              "      <td>20.536458</td>\n",
              "      <td>79.799479</td>\n",
              "      <td>31.992578</td>\n",
              "      <td>0.471876</td>\n",
              "      <td>33.240885</td>\n",
              "      <td>0.348958</td>\n",
              "    </tr>\n",
              "    <tr>\n",
              "      <th>std</th>\n",
              "      <td>3.369578</td>\n",
              "      <td>31.972618</td>\n",
              "      <td>19.355807</td>\n",
              "      <td>15.952218</td>\n",
              "      <td>115.244002</td>\n",
              "      <td>7.884160</td>\n",
              "      <td>0.331329</td>\n",
              "      <td>11.760232</td>\n",
              "      <td>0.476951</td>\n",
              "    </tr>\n",
              "    <tr>\n",
              "      <th>min</th>\n",
              "      <td>0.000000</td>\n",
              "      <td>0.000000</td>\n",
              "      <td>0.000000</td>\n",
              "      <td>0.000000</td>\n",
              "      <td>0.000000</td>\n",
              "      <td>0.000000</td>\n",
              "      <td>0.078000</td>\n",
              "      <td>21.000000</td>\n",
              "      <td>0.000000</td>\n",
              "    </tr>\n",
              "    <tr>\n",
              "      <th>25%</th>\n",
              "      <td>1.000000</td>\n",
              "      <td>99.000000</td>\n",
              "      <td>62.000000</td>\n",
              "      <td>0.000000</td>\n",
              "      <td>0.000000</td>\n",
              "      <td>27.300000</td>\n",
              "      <td>0.243750</td>\n",
              "      <td>24.000000</td>\n",
              "      <td>0.000000</td>\n",
              "    </tr>\n",
              "    <tr>\n",
              "      <th>50%</th>\n",
              "      <td>3.000000</td>\n",
              "      <td>117.000000</td>\n",
              "      <td>72.000000</td>\n",
              "      <td>23.000000</td>\n",
              "      <td>30.500000</td>\n",
              "      <td>32.000000</td>\n",
              "      <td>0.372500</td>\n",
              "      <td>29.000000</td>\n",
              "      <td>0.000000</td>\n",
              "    </tr>\n",
              "    <tr>\n",
              "      <th>75%</th>\n",
              "      <td>6.000000</td>\n",
              "      <td>140.250000</td>\n",
              "      <td>80.000000</td>\n",
              "      <td>32.000000</td>\n",
              "      <td>127.250000</td>\n",
              "      <td>36.600000</td>\n",
              "      <td>0.626250</td>\n",
              "      <td>41.000000</td>\n",
              "      <td>1.000000</td>\n",
              "    </tr>\n",
              "    <tr>\n",
              "      <th>max</th>\n",
              "      <td>17.000000</td>\n",
              "      <td>199.000000</td>\n",
              "      <td>122.000000</td>\n",
              "      <td>99.000000</td>\n",
              "      <td>846.000000</td>\n",
              "      <td>67.100000</td>\n",
              "      <td>2.420000</td>\n",
              "      <td>81.000000</td>\n",
              "      <td>1.000000</td>\n",
              "    </tr>\n",
              "  </tbody>\n",
              "</table>\n",
              "</div>"
            ],
            "text/plain": [
              "       Pregnancies     Glucose  ...         Age     Outcome\n",
              "count   768.000000  768.000000  ...  768.000000  768.000000\n",
              "mean      3.845052  120.894531  ...   33.240885    0.348958\n",
              "std       3.369578   31.972618  ...   11.760232    0.476951\n",
              "min       0.000000    0.000000  ...   21.000000    0.000000\n",
              "25%       1.000000   99.000000  ...   24.000000    0.000000\n",
              "50%       3.000000  117.000000  ...   29.000000    0.000000\n",
              "75%       6.000000  140.250000  ...   41.000000    1.000000\n",
              "max      17.000000  199.000000  ...   81.000000    1.000000\n",
              "\n",
              "[8 rows x 9 columns]"
            ]
          },
          "metadata": {
            "tags": []
          },
          "execution_count": 43
        }
      ]
    },
    {
      "cell_type": "code",
      "metadata": {
        "colab": {
          "base_uri": "https://localhost:8080/"
        },
        "id": "bxd7f4fLWJ1y",
        "outputId": "d2ee47d3-45bd-4735-ccf9-d0a59d802c55"
      },
      "source": [
        "#Of the 768 patients, 500 are not sick.\r\n",
        "data.shape"
      ],
      "execution_count": null,
      "outputs": [
        {
          "output_type": "execute_result",
          "data": {
            "text/plain": [
              "(768, 9)"
            ]
          },
          "metadata": {
            "tags": []
          },
          "execution_count": 44
        }
      ]
    },
    {
      "cell_type": "code",
      "metadata": {
        "colab": {
          "base_uri": "https://localhost:8080/"
        },
        "id": "QPMEBrt7vyjr",
        "outputId": "b73dddcd-9b81-4242-aeec-f65ee8d3377a"
      },
      "source": [
        "#we looked for empty data, lost data.\r\n",
        "data.isna().sum()"
      ],
      "execution_count": null,
      "outputs": [
        {
          "output_type": "execute_result",
          "data": {
            "text/plain": [
              "Pregnancies                 0\n",
              "Glucose                     0\n",
              "BloodPressure               0\n",
              "SkinThickness               0\n",
              "Insulin                     0\n",
              "BMI                         0\n",
              "DiabetesPedigreeFunction    0\n",
              "Age                         0\n",
              "Outcome                     0\n",
              "dtype: int64"
            ]
          },
          "metadata": {
            "tags": []
          },
          "execution_count": 45
        }
      ]
    },
    {
      "cell_type": "code",
      "metadata": {
        "colab": {
          "base_uri": "https://localhost:8080/"
        },
        "id": "UU-YxWq6wUb5",
        "outputId": "59d7be08-0b1e-4336-e2ad-d23f1e72590f"
      },
      "source": [
        "#Values ​​like glucose,bloodpressure etc. can not be 0, we have to regulate them.\r\n",
        "data.eq(0).sum()  "
      ],
      "execution_count": null,
      "outputs": [
        {
          "output_type": "execute_result",
          "data": {
            "text/plain": [
              "Pregnancies                 111\n",
              "Glucose                       5\n",
              "BloodPressure                35\n",
              "SkinThickness               227\n",
              "Insulin                     374\n",
              "BMI                          11\n",
              "DiabetesPedigreeFunction      0\n",
              "Age                           0\n",
              "Outcome                     500\n",
              "dtype: int64"
            ]
          },
          "metadata": {
            "tags": []
          },
          "execution_count": 46
        }
      ]
    },
    {
      "cell_type": "markdown",
      "metadata": {
        "id": "0U4utI95vucT"
      },
      "source": [
        "##Change 0 values (Linear Regression)"
      ]
    },
    {
      "cell_type": "code",
      "metadata": {
        "id": "RppKI7GMwbdP"
      },
      "source": [
        "#Missing Data Imputation Using Regression\r\n",
        "\r\n",
        "\r\n",
        "def ImputeZeroValuesWithRegression(dataset):\r\n",
        "\r\n",
        "  columnsToBeImputed = ['Glucose','Insulin','SkinThickness','BMI']\r\n",
        "  for column in columnsToBeImputed:\r\n",
        "\r\n",
        "    test_df = dataset[dataset[column]==0]\r\n",
        "\r\n",
        "\r\n",
        "    y_train= dataset[column]\r\n",
        "    x_train= dataset.drop(column,axis=1)\r\n",
        "\r\n",
        "    X_test = test_df.drop(column, axis=1)\r\n",
        "\r\n",
        "    lr=LinearRegression()\r\n",
        "    lr.fit(x_train,y_train)\r\n",
        "    y_pred=lr.predict(X_test)\r\n",
        "\r\n",
        "\r\n",
        "    dataset.loc[dataset[column]==0,column] = y_pred\r\n",
        "\r\n",
        "  return dataset\r\n",
        "df=ImputeZeroValuesWithRegression(dataset=data)"
      ],
      "execution_count": null,
      "outputs": []
    },
    {
      "cell_type": "code",
      "metadata": {
        "id": "tWirtZKkykmG",
        "colab": {
          "base_uri": "https://localhost:8080/",
          "height": 402
        },
        "outputId": "6c892a18-b43d-4575-cbc0-a2fc9f455fe0"
      },
      "source": [
        "df"
      ],
      "execution_count": null,
      "outputs": [
        {
          "output_type": "execute_result",
          "data": {
            "text/html": [
              "<div>\n",
              "<style scoped>\n",
              "    .dataframe tbody tr th:only-of-type {\n",
              "        vertical-align: middle;\n",
              "    }\n",
              "\n",
              "    .dataframe tbody tr th {\n",
              "        vertical-align: top;\n",
              "    }\n",
              "\n",
              "    .dataframe thead th {\n",
              "        text-align: right;\n",
              "    }\n",
              "</style>\n",
              "<table border=\"1\" class=\"dataframe\">\n",
              "  <thead>\n",
              "    <tr style=\"text-align: right;\">\n",
              "      <th></th>\n",
              "      <th>Pregnancies</th>\n",
              "      <th>Glucose</th>\n",
              "      <th>BloodPressure</th>\n",
              "      <th>SkinThickness</th>\n",
              "      <th>Insulin</th>\n",
              "      <th>BMI</th>\n",
              "      <th>DiabetesPedigreeFunction</th>\n",
              "      <th>Age</th>\n",
              "      <th>Outcome</th>\n",
              "    </tr>\n",
              "  </thead>\n",
              "  <tbody>\n",
              "    <tr>\n",
              "      <th>0</th>\n",
              "      <td>6</td>\n",
              "      <td>148.0</td>\n",
              "      <td>72</td>\n",
              "      <td>35.000000</td>\n",
              "      <td>140.472103</td>\n",
              "      <td>33.6</td>\n",
              "      <td>0.627</td>\n",
              "      <td>50</td>\n",
              "      <td>1</td>\n",
              "    </tr>\n",
              "    <tr>\n",
              "      <th>1</th>\n",
              "      <td>1</td>\n",
              "      <td>85.0</td>\n",
              "      <td>66</td>\n",
              "      <td>29.000000</td>\n",
              "      <td>65.823263</td>\n",
              "      <td>26.6</td>\n",
              "      <td>0.351</td>\n",
              "      <td>31</td>\n",
              "      <td>0</td>\n",
              "    </tr>\n",
              "    <tr>\n",
              "      <th>2</th>\n",
              "      <td>8</td>\n",
              "      <td>183.0</td>\n",
              "      <td>64</td>\n",
              "      <td>6.563747</td>\n",
              "      <td>96.262920</td>\n",
              "      <td>23.3</td>\n",
              "      <td>0.672</td>\n",
              "      <td>32</td>\n",
              "      <td>1</td>\n",
              "    </tr>\n",
              "    <tr>\n",
              "      <th>3</th>\n",
              "      <td>1</td>\n",
              "      <td>89.0</td>\n",
              "      <td>66</td>\n",
              "      <td>23.000000</td>\n",
              "      <td>94.000000</td>\n",
              "      <td>28.1</td>\n",
              "      <td>0.167</td>\n",
              "      <td>21</td>\n",
              "      <td>0</td>\n",
              "    </tr>\n",
              "    <tr>\n",
              "      <th>4</th>\n",
              "      <td>0</td>\n",
              "      <td>137.0</td>\n",
              "      <td>40</td>\n",
              "      <td>35.000000</td>\n",
              "      <td>168.000000</td>\n",
              "      <td>43.1</td>\n",
              "      <td>2.288</td>\n",
              "      <td>33</td>\n",
              "      <td>1</td>\n",
              "    </tr>\n",
              "    <tr>\n",
              "      <th>...</th>\n",
              "      <td>...</td>\n",
              "      <td>...</td>\n",
              "      <td>...</td>\n",
              "      <td>...</td>\n",
              "      <td>...</td>\n",
              "      <td>...</td>\n",
              "      <td>...</td>\n",
              "      <td>...</td>\n",
              "      <td>...</td>\n",
              "    </tr>\n",
              "    <tr>\n",
              "      <th>763</th>\n",
              "      <td>10</td>\n",
              "      <td>101.0</td>\n",
              "      <td>76</td>\n",
              "      <td>48.000000</td>\n",
              "      <td>180.000000</td>\n",
              "      <td>32.9</td>\n",
              "      <td>0.171</td>\n",
              "      <td>63</td>\n",
              "      <td>0</td>\n",
              "    </tr>\n",
              "    <tr>\n",
              "      <th>764</th>\n",
              "      <td>2</td>\n",
              "      <td>122.0</td>\n",
              "      <td>70</td>\n",
              "      <td>27.000000</td>\n",
              "      <td>103.754985</td>\n",
              "      <td>36.8</td>\n",
              "      <td>0.340</td>\n",
              "      <td>27</td>\n",
              "      <td>0</td>\n",
              "    </tr>\n",
              "    <tr>\n",
              "      <th>765</th>\n",
              "      <td>5</td>\n",
              "      <td>121.0</td>\n",
              "      <td>72</td>\n",
              "      <td>23.000000</td>\n",
              "      <td>112.000000</td>\n",
              "      <td>26.2</td>\n",
              "      <td>0.245</td>\n",
              "      <td>30</td>\n",
              "      <td>0</td>\n",
              "    </tr>\n",
              "    <tr>\n",
              "      <th>766</th>\n",
              "      <td>1</td>\n",
              "      <td>126.0</td>\n",
              "      <td>60</td>\n",
              "      <td>8.428455</td>\n",
              "      <td>12.303375</td>\n",
              "      <td>30.1</td>\n",
              "      <td>0.349</td>\n",
              "      <td>47</td>\n",
              "      <td>1</td>\n",
              "    </tr>\n",
              "    <tr>\n",
              "      <th>767</th>\n",
              "      <td>1</td>\n",
              "      <td>93.0</td>\n",
              "      <td>70</td>\n",
              "      <td>31.000000</td>\n",
              "      <td>82.956576</td>\n",
              "      <td>30.4</td>\n",
              "      <td>0.315</td>\n",
              "      <td>23</td>\n",
              "      <td>0</td>\n",
              "    </tr>\n",
              "  </tbody>\n",
              "</table>\n",
              "<p>768 rows × 9 columns</p>\n",
              "</div>"
            ],
            "text/plain": [
              "     Pregnancies  Glucose  ...  Age  Outcome\n",
              "0              6    148.0  ...   50        1\n",
              "1              1     85.0  ...   31        0\n",
              "2              8    183.0  ...   32        1\n",
              "3              1     89.0  ...   21        0\n",
              "4              0    137.0  ...   33        1\n",
              "..           ...      ...  ...  ...      ...\n",
              "763           10    101.0  ...   63        0\n",
              "764            2    122.0  ...   27        0\n",
              "765            5    121.0  ...   30        0\n",
              "766            1    126.0  ...   47        1\n",
              "767            1     93.0  ...   23        0\n",
              "\n",
              "[768 rows x 9 columns]"
            ]
          },
          "metadata": {
            "tags": []
          },
          "execution_count": 48
        }
      ]
    },
    {
      "cell_type": "code",
      "metadata": {
        "id": "Xh1i8TmpIeDf"
      },
      "source": [
        "#we changed the 0 values.\r\n",
        "#we filled with linear regression."
      ],
      "execution_count": null,
      "outputs": []
    },
    {
      "cell_type": "markdown",
      "metadata": {
        "id": "JSuOfQ0gSVMR"
      },
      "source": [
        "##Change value (mean)"
      ]
    },
    {
      "cell_type": "code",
      "metadata": {
        "id": "6y0E7nQF_FXP"
      },
      "source": [
        "#we changed the values ​​of the table.\r\n",
        "#NaN instead of 0\r\n",
        "data[[\"Pregnancies\",\"Glucose\",\"BloodPressure\",\"SkinThickness\",\"Insulin\",\"BMI\",\"DiabetesPedigreeFunction\",\"Age\"\r\n",
        "    ]]=data[[\r\n",
        "    \"Pregnancies\",\"Glucose\",\"BloodPressure\",\"SkinThickness\",\"Insulin\",\"BMI\",\"DiabetesPedigreeFunction\",\"Age\"]].replace(0,np.NaN) \r\n",
        "    "
      ],
      "execution_count": null,
      "outputs": []
    },
    {
      "cell_type": "code",
      "metadata": {
        "id": "AheGgJHKWakx"
      },
      "source": [
        "#filling in the missing values\r\n",
        "data.fillna(data.mean(),inplace=True)\r\n"
      ],
      "execution_count": null,
      "outputs": []
    },
    {
      "cell_type": "code",
      "metadata": {
        "colab": {
          "base_uri": "https://localhost:8080/",
          "height": 195
        },
        "id": "mJqhKMXnWbkr",
        "outputId": "5d8c6f93-c74d-4cd6-c037-b87da9d27fa1"
      },
      "source": [
        "#we filled the empty spaces with average.\r\n",
        "data.head()"
      ],
      "execution_count": null,
      "outputs": [
        {
          "output_type": "execute_result",
          "data": {
            "text/html": [
              "<div>\n",
              "<style scoped>\n",
              "    .dataframe tbody tr th:only-of-type {\n",
              "        vertical-align: middle;\n",
              "    }\n",
              "\n",
              "    .dataframe tbody tr th {\n",
              "        vertical-align: top;\n",
              "    }\n",
              "\n",
              "    .dataframe thead th {\n",
              "        text-align: right;\n",
              "    }\n",
              "</style>\n",
              "<table border=\"1\" class=\"dataframe\">\n",
              "  <thead>\n",
              "    <tr style=\"text-align: right;\">\n",
              "      <th></th>\n",
              "      <th>Pregnancies</th>\n",
              "      <th>Glucose</th>\n",
              "      <th>BloodPressure</th>\n",
              "      <th>SkinThickness</th>\n",
              "      <th>Insulin</th>\n",
              "      <th>BMI</th>\n",
              "      <th>DiabetesPedigreeFunction</th>\n",
              "      <th>Age</th>\n",
              "      <th>Outcome</th>\n",
              "    </tr>\n",
              "  </thead>\n",
              "  <tbody>\n",
              "    <tr>\n",
              "      <th>0</th>\n",
              "      <td>6.000000</td>\n",
              "      <td>148.0</td>\n",
              "      <td>72.0</td>\n",
              "      <td>35.000000</td>\n",
              "      <td>140.472103</td>\n",
              "      <td>33.6</td>\n",
              "      <td>0.627</td>\n",
              "      <td>50</td>\n",
              "      <td>1</td>\n",
              "    </tr>\n",
              "    <tr>\n",
              "      <th>1</th>\n",
              "      <td>1.000000</td>\n",
              "      <td>85.0</td>\n",
              "      <td>66.0</td>\n",
              "      <td>29.000000</td>\n",
              "      <td>65.823263</td>\n",
              "      <td>26.6</td>\n",
              "      <td>0.351</td>\n",
              "      <td>31</td>\n",
              "      <td>0</td>\n",
              "    </tr>\n",
              "    <tr>\n",
              "      <th>2</th>\n",
              "      <td>8.000000</td>\n",
              "      <td>183.0</td>\n",
              "      <td>64.0</td>\n",
              "      <td>6.563747</td>\n",
              "      <td>96.262920</td>\n",
              "      <td>23.3</td>\n",
              "      <td>0.672</td>\n",
              "      <td>32</td>\n",
              "      <td>1</td>\n",
              "    </tr>\n",
              "    <tr>\n",
              "      <th>3</th>\n",
              "      <td>1.000000</td>\n",
              "      <td>89.0</td>\n",
              "      <td>66.0</td>\n",
              "      <td>23.000000</td>\n",
              "      <td>94.000000</td>\n",
              "      <td>28.1</td>\n",
              "      <td>0.167</td>\n",
              "      <td>21</td>\n",
              "      <td>0</td>\n",
              "    </tr>\n",
              "    <tr>\n",
              "      <th>4</th>\n",
              "      <td>4.494673</td>\n",
              "      <td>137.0</td>\n",
              "      <td>40.0</td>\n",
              "      <td>35.000000</td>\n",
              "      <td>168.000000</td>\n",
              "      <td>43.1</td>\n",
              "      <td>2.288</td>\n",
              "      <td>33</td>\n",
              "      <td>1</td>\n",
              "    </tr>\n",
              "  </tbody>\n",
              "</table>\n",
              "</div>"
            ],
            "text/plain": [
              "   Pregnancies  Glucose  BloodPressure  ...  DiabetesPedigreeFunction  Age  Outcome\n",
              "0     6.000000    148.0           72.0  ...                     0.627   50        1\n",
              "1     1.000000     85.0           66.0  ...                     0.351   31        0\n",
              "2     8.000000    183.0           64.0  ...                     0.672   32        1\n",
              "3     1.000000     89.0           66.0  ...                     0.167   21        0\n",
              "4     4.494673    137.0           40.0  ...                     2.288   33        1\n",
              "\n",
              "[5 rows x 9 columns]"
            ]
          },
          "metadata": {
            "tags": []
          },
          "execution_count": 52
        }
      ]
    },
    {
      "cell_type": "code",
      "metadata": {
        "id": "mplK4UBKIwZ2"
      },
      "source": [
        "#we changed 0 values.\r\n",
        "#we filled it with average."
      ],
      "execution_count": null,
      "outputs": []
    },
    {
      "cell_type": "markdown",
      "metadata": {
        "id": "vYLw70SMSang"
      },
      "source": [
        "##scatter features"
      ]
    },
    {
      "cell_type": "code",
      "metadata": {
        "colab": {
          "base_uri": "https://localhost:8080/",
          "height": 918
        },
        "id": "q7yg-AJkWVUo",
        "outputId": "a6f58930-bd7c-419d-c4af-786d4a1f2905"
      },
      "source": [
        "#scatter plots of features\r\n",
        "def scatter(ax,axis,name,title):\r\n",
        "  sns.countplot(name,data=data,ax=ax[axis[0]][axis[1]])\r\n",
        "  ax[axis[0],axis[1]].set_title(title)\r\n",
        "\r\n",
        "f,ax=plt.subplots(4,2,figsize=(20,15))\r\n",
        "plt.suptitle(\"Scatter plots of features\")\r\n",
        "\r\n",
        "features = (((0,0),\"Pregnancies\",\"Pregnancy chart feature\"),((0,1),\"Glucose\",\"Glucose chart feature\"),((1,0),\"BloodPressure\",\"BloodPressure chart feature\"),((1,1),\"SkinThickness\",\"SkinThickness chart feature\")\r\n",
        ",((2,0),\"Insulin\",\"Insulin chart feature\"),((2,1),\"BMI\",\"BMI chart feature\"),((3,0),\"DiabetesPedigreeFunction\",\"DiabetesPedigreeFunction chart feature\"),((3,1),\"Age\",\"Age\" \"chart feature\"))\r\n",
        "\r\n",
        "for axis, name, title in features:\r\n",
        "  scatter(ax,axis,name,title)\r\n"
      ],
      "execution_count": null,
      "outputs": [
        {
          "output_type": "display_data",
          "data": {
            "image/png": "[encoded data removed]",
            "text/plain": [
              "<Figure size 1440x1080 with 8 Axes>"
            ]
          },
          "metadata": {
            "tags": [],
            "needs_background": "light"
          }
        }
      ]
    },
    {
      "cell_type": "markdown",
      "metadata": {
        "id": "Fq3xAp_BS0pq"
      },
      "source": [
        "##order of importance"
      ]
    },
    {
      "cell_type": "code",
      "metadata": {
        "colab": {
          "base_uri": "https://localhost:8080/",
          "height": 420
        },
        "id": "2r3QdsP0WBQG",
        "outputId": "ccfe4217-8d04-41a1-f6d6-e085a117c494"
      },
      "source": [
        "#order of importance\r\n",
        "x=data[['Glucose', 'BMI', 'Age', 'Pregnancies', 'SkinThickness',\r\n",
        "       'Insulin', 'DiabetesPedigreeFunction']]\r\n",
        "y=data.iloc[:,8]\r\n",
        "\r\n",
        "model = ExtraTreesClassifier()\r\n",
        "model.fit(x,y)\r\n",
        "print(model.feature_importances_) \r\n",
        "#plot graph of feature importances for better visualization\r\n",
        "feat_importances = pd.Series(model.feature_importances_, index=x.columns)\r\n",
        "feat_importances.nlargest(20).plot(kind='bar')\r\n",
        "plt.show()"
      ],
      "execution_count": null,
      "outputs": [
        {
          "output_type": "stream",
          "text": [
            "[0.25598724 0.14647716 0.14270751 0.11136028 0.10794792 0.11270596\n",
            " 0.12281394]\n"
          ],
          "name": "stdout"
        },
        {
          "output_type": "display_data",
          "data": {
            "image/png": "[encoded data removed]",
            "text/plain": [
              "<Figure size 432x288 with 1 Axes>"
            ]
          },
          "metadata": {
            "tags": [],
            "needs_background": "light"
          }
        }
      ]
    },
    {
      "cell_type": "code",
      "metadata": {
        "id": "AxMnz-LDI9NZ"
      },
      "source": [
        "#we saw glucose affect more diabetes."
      ],
      "execution_count": null,
      "outputs": []
    },
    {
      "cell_type": "markdown",
      "metadata": {
        "id": "T-YDYdufBQpG"
      },
      "source": [
        "##Correlation Analysis"
      ]
    },
    {
      "cell_type": "markdown",
      "metadata": {
        "id": "XPjC1TrfJOTJ"
      },
      "source": [
        ""
      ]
    },
    {
      "cell_type": "code",
      "metadata": {
        "colab": {
          "base_uri": "https://localhost:8080/",
          "height": 314
        },
        "id": "QkDVLzF3AscN",
        "outputId": "cf2f1f21-52de-480a-beec-44e34d967b17"
      },
      "source": [
        "#The measure of the relationship between them.\r\n",
        "data.corr()"
      ],
      "execution_count": null,
      "outputs": [
        {
          "output_type": "execute_result",
          "data": {
            "text/html": [
              "<div>\n",
              "<style scoped>\n",
              "    .dataframe tbody tr th:only-of-type {\n",
              "        vertical-align: middle;\n",
              "    }\n",
              "\n",
              "    .dataframe tbody tr th {\n",
              "        vertical-align: top;\n",
              "    }\n",
              "\n",
              "    .dataframe thead th {\n",
              "        text-align: right;\n",
              "    }\n",
              "</style>\n",
              "<table border=\"1\" class=\"dataframe\">\n",
              "  <thead>\n",
              "    <tr style=\"text-align: right;\">\n",
              "      <th></th>\n",
              "      <th>Pregnancies</th>\n",
              "      <th>Glucose</th>\n",
              "      <th>BloodPressure</th>\n",
              "      <th>SkinThickness</th>\n",
              "      <th>Insulin</th>\n",
              "      <th>BMI</th>\n",
              "      <th>DiabetesPedigreeFunction</th>\n",
              "      <th>Age</th>\n",
              "      <th>Outcome</th>\n",
              "    </tr>\n",
              "  </thead>\n",
              "  <tbody>\n",
              "    <tr>\n",
              "      <th>Pregnancies</th>\n",
              "      <td>1.000000</td>\n",
              "      <td>0.157912</td>\n",
              "      <td>0.259117</td>\n",
              "      <td>-0.021729</td>\n",
              "      <td>-0.069265</td>\n",
              "      <td>0.103917</td>\n",
              "      <td>-0.005658</td>\n",
              "      <td>0.511662</td>\n",
              "      <td>0.248263</td>\n",
              "    </tr>\n",
              "    <tr>\n",
              "      <th>Glucose</th>\n",
              "      <td>0.157912</td>\n",
              "      <td>1.000000</td>\n",
              "      <td>0.220755</td>\n",
              "      <td>0.106347</td>\n",
              "      <td>0.493115</td>\n",
              "      <td>0.244369</td>\n",
              "      <td>0.138798</td>\n",
              "      <td>0.269528</td>\n",
              "      <td>0.495549</td>\n",
              "    </tr>\n",
              "    <tr>\n",
              "      <th>BloodPressure</th>\n",
              "      <td>0.259117</td>\n",
              "      <td>0.220755</td>\n",
              "      <td>1.000000</td>\n",
              "      <td>0.083431</td>\n",
              "      <td>0.005329</td>\n",
              "      <td>0.270627</td>\n",
              "      <td>-0.002763</td>\n",
              "      <td>0.324595</td>\n",
              "      <td>0.166074</td>\n",
              "    </tr>\n",
              "    <tr>\n",
              "      <th>SkinThickness</th>\n",
              "      <td>-0.021729</td>\n",
              "      <td>0.106347</td>\n",
              "      <td>0.083431</td>\n",
              "      <td>1.000000</td>\n",
              "      <td>0.479888</td>\n",
              "      <td>0.567035</td>\n",
              "      <td>0.208902</td>\n",
              "      <td>-0.091770</td>\n",
              "      <td>0.128674</td>\n",
              "    </tr>\n",
              "    <tr>\n",
              "      <th>Insulin</th>\n",
              "      <td>-0.069265</td>\n",
              "      <td>0.493115</td>\n",
              "      <td>0.005329</td>\n",
              "      <td>0.479888</td>\n",
              "      <td>1.000000</td>\n",
              "      <td>0.254467</td>\n",
              "      <td>0.220820</td>\n",
              "      <td>-0.019620</td>\n",
              "      <td>0.202597</td>\n",
              "    </tr>\n",
              "    <tr>\n",
              "      <th>BMI</th>\n",
              "      <td>0.103917</td>\n",
              "      <td>0.244369</td>\n",
              "      <td>0.270627</td>\n",
              "      <td>0.567035</td>\n",
              "      <td>0.254467</td>\n",
              "      <td>1.000000</td>\n",
              "      <td>0.162973</td>\n",
              "      <td>0.032215</td>\n",
              "      <td>0.313984</td>\n",
              "    </tr>\n",
              "    <tr>\n",
              "      <th>DiabetesPedigreeFunction</th>\n",
              "      <td>-0.005658</td>\n",
              "      <td>0.138798</td>\n",
              "      <td>-0.002763</td>\n",
              "      <td>0.208902</td>\n",
              "      <td>0.220820</td>\n",
              "      <td>0.162973</td>\n",
              "      <td>1.000000</td>\n",
              "      <td>0.033561</td>\n",
              "      <td>0.173844</td>\n",
              "    </tr>\n",
              "    <tr>\n",
              "      <th>Age</th>\n",
              "      <td>0.511662</td>\n",
              "      <td>0.269528</td>\n",
              "      <td>0.324595</td>\n",
              "      <td>-0.091770</td>\n",
              "      <td>-0.019620</td>\n",
              "      <td>0.032215</td>\n",
              "      <td>0.033561</td>\n",
              "      <td>1.000000</td>\n",
              "      <td>0.238356</td>\n",
              "    </tr>\n",
              "    <tr>\n",
              "      <th>Outcome</th>\n",
              "      <td>0.248263</td>\n",
              "      <td>0.495549</td>\n",
              "      <td>0.166074</td>\n",
              "      <td>0.128674</td>\n",
              "      <td>0.202597</td>\n",
              "      <td>0.313984</td>\n",
              "      <td>0.173844</td>\n",
              "      <td>0.238356</td>\n",
              "      <td>1.000000</td>\n",
              "    </tr>\n",
              "  </tbody>\n",
              "</table>\n",
              "</div>"
            ],
            "text/plain": [
              "                          Pregnancies   Glucose  ...       Age   Outcome\n",
              "Pregnancies                  1.000000  0.157912  ...  0.511662  0.248263\n",
              "Glucose                      0.157912  1.000000  ...  0.269528  0.495549\n",
              "BloodPressure                0.259117  0.220755  ...  0.324595  0.166074\n",
              "SkinThickness               -0.021729  0.106347  ... -0.091770  0.128674\n",
              "Insulin                     -0.069265  0.493115  ... -0.019620  0.202597\n",
              "BMI                          0.103917  0.244369  ...  0.032215  0.313984\n",
              "DiabetesPedigreeFunction    -0.005658  0.138798  ...  0.033561  0.173844\n",
              "Age                          0.511662  0.269528  ...  1.000000  0.238356\n",
              "Outcome                      0.248263  0.495549  ...  0.238356  1.000000\n",
              "\n",
              "[9 rows x 9 columns]"
            ]
          },
          "metadata": {
            "tags": []
          },
          "execution_count": 57
        }
      ]
    },
    {
      "cell_type": "code",
      "metadata": {
        "colab": {
          "base_uri": "https://localhost:8080/",
          "height": 407
        },
        "id": "eQBx1oQ9AyJ3",
        "outputId": "457331c8-b56e-4a72-9374-b294b7949eb3"
      },
      "source": [
        "#We tried to show each feature among itself.\r\n",
        "sns.heatmap(data.corr(),annot=True)"
      ],
      "execution_count": null,
      "outputs": [
        {
          "output_type": "execute_result",
          "data": {
            "text/plain": [
              "<matplotlib.axes._subplots.AxesSubplot at 0x7f1ad2c72400>"
            ]
          },
          "metadata": {
            "tags": []
          },
          "execution_count": 58
        },
        {
          "output_type": "display_data",
          "data": {
            "image/png": "[encoded data removed]",
            "text/plain": [
              "<Figure size 432x288 with 2 Axes>"
            ]
          },
          "metadata": {
            "tags": [],
            "needs_background": "light"
          }
        }
      ]
    },
    {
      "cell_type": "markdown",
      "metadata": {
        "id": "8n7DBbO_Sx_g"
      },
      "source": [
        "##clustering"
      ]
    },
    {
      "cell_type": "code",
      "metadata": {
        "colab": {
          "base_uri": "https://localhost:8080/"
        },
        "id": "FHmHKChPVtmZ",
        "outputId": "0e48fecb-516f-46d2-fce3-55abb01b58f2"
      },
      "source": [
        "#clustering\r\n",
        "x=data[['Glucose', 'BMI', 'Age', 'Pregnancies', 'SkinThickness',\r\n",
        "       'Insulin', 'DiabetesPedigreeFunction']]\r\n",
        "y=data.iloc[:,8]\r\n",
        "x_train,x_test,y_train,y_test=train_test_split(x,y,test_size=0.10,random_state=0)\r\n",
        "kmeans = KMeans(n_clusters=2, random_state=0).fit(x)\r\n",
        "kmeans.labels_\r\n",
        "count = 0\r\n",
        "for first,second in zip(y,kmeans.labels_):\r\n",
        "  #print(first,second)\r\n",
        "  if first==second:\r\n",
        "      count+=1\r\n",
        "\r\n",
        "print(count)\r\n",
        "print(\"Accuracy: \",(count / len(y)) * 100)"
      ],
      "execution_count": null,
      "outputs": [
        {
          "output_type": "stream",
          "text": [
            "255\n",
            "Accuracy:  33.203125\n"
          ],
          "name": "stdout"
        }
      ]
    },
    {
      "cell_type": "markdown",
      "metadata": {
        "id": "AKreRnmMwnv_"
      },
      "source": [
        "##Classification Task:Logistic Regression"
      ]
    },
    {
      "cell_type": "code",
      "metadata": {
        "id": "6zS_YfCMwcyX"
      },
      "source": [
        "#creation of algorithms.\r\n",
        "x=data[['Glucose', 'BMI', 'Age', 'Pregnancies', 'SkinThickness',\r\n",
        "       'Insulin', 'DiabetesPedigreeFunction']]\r\n",
        "y=data.iloc[:,8]"
      ],
      "execution_count": null,
      "outputs": []
    },
    {
      "cell_type": "code",
      "metadata": {
        "id": "RHLghE4rwsyL"
      },
      "source": [
        "x_train,x_test,y_train,y_test=train_test_split(x,y,test_size=0.10,random_state=0)"
      ],
      "execution_count": null,
      "outputs": []
    },
    {
      "cell_type": "code",
      "metadata": {
        "id": "FxUuySWgww2g"
      },
      "source": [
        "#log reg.\r\n",
        "log_reg = LogisticRegression(random_state=1, max_iter=100).fit(x_train, y_train)\r\n",
        "predict=log_reg.predict(x_test)"
      ],
      "execution_count": null,
      "outputs": []
    },
    {
      "cell_type": "code",
      "metadata": {
        "id": "Nq4yOx4qwxWo",
        "colab": {
          "base_uri": "https://localhost:8080/"
        },
        "outputId": "fc989314-1792-4b5e-8de2-c690481b48b9"
      },
      "source": [
        "#predict for Logistic Reg.\r\n",
        "predict"
      ],
      "execution_count": null,
      "outputs": [
        {
          "output_type": "execute_result",
          "data": {
            "text/plain": [
              "array([1, 0, 0, 1, 0, 0, 1, 1, 0, 0, 1, 1, 0, 0, 0, 0, 1, 0, 0, 0, 1, 0,\n",
              "       0, 0, 0, 0, 0, 1, 0, 0, 0, 0, 0, 0, 0, 1, 1, 0, 0, 1, 0, 0, 0, 1,\n",
              "       1, 0, 0, 0, 0, 0, 0, 0, 1, 0, 0, 0, 0, 1, 0, 0, 1, 0, 0, 1, 1, 1,\n",
              "       1, 0, 0, 0, 0, 0, 0, 1, 1, 0, 0])"
            ]
          },
          "metadata": {
            "tags": []
          },
          "execution_count": 63
        }
      ]
    },
    {
      "cell_type": "code",
      "metadata": {
        "id": "8WUknUV5wyxF",
        "colab": {
          "base_uri": "https://localhost:8080/"
        },
        "outputId": "3ce2fe53-2018-45c9-dea4-703199fe1cb2"
      },
      "source": [
        "print(\"Logistic Regression Classifier Training Accuracy: \",log_reg.score(x_test,y_test))"
      ],
      "execution_count": null,
      "outputs": [
        {
          "output_type": "stream",
          "text": [
            "Logistic Regression Classifier Training Accuracy:  0.8831168831168831\n"
          ],
          "name": "stdout"
        }
      ]
    },
    {
      "cell_type": "markdown",
      "metadata": {
        "id": "bV9dyaS8w2Db"
      },
      "source": [
        "##Classification Task:Random Forest"
      ]
    },
    {
      "cell_type": "code",
      "metadata": {
        "id": "Jm8xsTc9w4xN",
        "colab": {
          "base_uri": "https://localhost:8080/"
        },
        "outputId": "273a7ebc-9d19-4d91-d765-f2761c0c0bfb"
      },
      "source": [
        "#randomforest\r\n",
        "forest=RandomForestClassifier(n_estimators=20,criterion=\"entropy\",random_state=0)\r\n",
        "forest.fit(x_train,y_train)"
      ],
      "execution_count": null,
      "outputs": [
        {
          "output_type": "execute_result",
          "data": {
            "text/plain": [
              "RandomForestClassifier(bootstrap=True, ccp_alpha=0.0, class_weight=None,\n",
              "                       criterion='entropy', max_depth=None, max_features='auto',\n",
              "                       max_leaf_nodes=None, max_samples=None,\n",
              "                       min_impurity_decrease=0.0, min_impurity_split=None,\n",
              "                       min_samples_leaf=1, min_samples_split=2,\n",
              "                       min_weight_fraction_leaf=0.0, n_estimators=20,\n",
              "                       n_jobs=None, oob_score=False, random_state=0, verbose=0,\n",
              "                       warm_start=False)"
            ]
          },
          "metadata": {
            "tags": []
          },
          "execution_count": 65
        }
      ]
    },
    {
      "cell_type": "code",
      "metadata": {
        "id": "pWqMr2qNw6Ob",
        "colab": {
          "base_uri": "https://localhost:8080/"
        },
        "outputId": "fc1f85b2-7aed-4922-be2e-fd2d2d9366e8"
      },
      "source": [
        "#predict for forest classifier.\r\n",
        "y_pred=forest.predict(x_test)\r\n",
        "predict"
      ],
      "execution_count": null,
      "outputs": [
        {
          "output_type": "execute_result",
          "data": {
            "text/plain": [
              "array([1, 0, 0, 1, 0, 0, 1, 1, 0, 0, 1, 1, 0, 0, 0, 0, 1, 0, 0, 0, 1, 0,\n",
              "       0, 0, 0, 0, 0, 1, 0, 0, 0, 0, 0, 0, 0, 1, 1, 0, 0, 1, 0, 0, 0, 1,\n",
              "       1, 0, 0, 0, 0, 0, 0, 0, 1, 0, 0, 0, 0, 1, 0, 0, 1, 0, 0, 1, 1, 1,\n",
              "       1, 0, 0, 0, 0, 0, 0, 1, 1, 0, 0])"
            ]
          },
          "metadata": {
            "tags": []
          },
          "execution_count": 66
        }
      ]
    },
    {
      "cell_type": "code",
      "metadata": {
        "id": "jM0NUlTQw7o1",
        "colab": {
          "base_uri": "https://localhost:8080/"
        },
        "outputId": "1c5f4487-3767-4408-ac48-31fd02ffa2f6"
      },
      "source": [
        "print(\"Random Forest Classifier Training Accuracy: \",forest.score(x_test,y_test))"
      ],
      "execution_count": null,
      "outputs": [
        {
          "output_type": "stream",
          "text": [
            "Random Forest Classifier Training Accuracy:  0.7792207792207793\n"
          ],
          "name": "stdout"
        }
      ]
    },
    {
      "cell_type": "markdown",
      "metadata": {
        "id": "hGB7PY0bw-Iv"
      },
      "source": [
        "##Classification Task:KNN Classifier"
      ]
    },
    {
      "cell_type": "code",
      "metadata": {
        "id": "Oc141ot-xAhd",
        "colab": {
          "base_uri": "https://localhost:8080/"
        },
        "outputId": "d910575c-1c25-4ba8-c6e6-e3b902567a21"
      },
      "source": [
        "#knn\r\n",
        "KNN=KNeighborsClassifier(n_neighbors=1)\r\n",
        "KNN.fit(x_train,y_train)"
      ],
      "execution_count": null,
      "outputs": [
        {
          "output_type": "execute_result",
          "data": {
            "text/plain": [
              "KNeighborsClassifier(algorithm='auto', leaf_size=30, metric='minkowski',\n",
              "                     metric_params=None, n_jobs=None, n_neighbors=1, p=2,\n",
              "                     weights='uniform')"
            ]
          },
          "metadata": {
            "tags": []
          },
          "execution_count": 68
        }
      ]
    },
    {
      "cell_type": "code",
      "metadata": {
        "id": "2O59w6LkxCXA"
      },
      "source": [
        "#predict for KNN.\r\n",
        "y_pred=KNN.predict(x_test)"
      ],
      "execution_count": null,
      "outputs": []
    },
    {
      "cell_type": "code",
      "metadata": {
        "id": "zfVdgKkZxDoE",
        "colab": {
          "base_uri": "https://localhost:8080/"
        },
        "outputId": "218ccb9b-d492-45e8-9d8f-8dbc4a23ef05"
      },
      "source": [
        "from sklearn.metrics import classification_report,confusion_matrix\r\n",
        "print(confusion_matrix(y_test,y_pred))\r\n",
        "print(classification_report(y_test,y_pred))"
      ],
      "execution_count": null,
      "outputs": [
        {
          "output_type": "stream",
          "text": [
            "[[41 10]\n",
            " [14 12]]\n",
            "              precision    recall  f1-score   support\n",
            "\n",
            "           0       0.75      0.80      0.77        51\n",
            "           1       0.55      0.46      0.50        26\n",
            "\n",
            "    accuracy                           0.69        77\n",
            "   macro avg       0.65      0.63      0.64        77\n",
            "weighted avg       0.68      0.69      0.68        77\n",
            "\n"
          ],
          "name": "stdout"
        }
      ]
    },
    {
      "cell_type": "code",
      "metadata": {
        "id": "n72YZ6OOxE4z",
        "colab": {
          "base_uri": "https://localhost:8080/"
        },
        "outputId": "797aaed7-74d5-443f-f833-32737ba5dbf7"
      },
      "source": [
        "print(\"KNN classifier training accuracy: \",KNN.score(x_test,y_test))"
      ],
      "execution_count": null,
      "outputs": [
        {
          "output_type": "stream",
          "text": [
            "KNN classifier training accuracy:  0.6883116883116883\n"
          ],
          "name": "stdout"
        }
      ]
    },
    {
      "cell_type": "markdown",
      "metadata": {
        "id": "Xhik8_jWBMRz"
      },
      "source": [
        "##Compare Performance"
      ]
    },
    {
      "cell_type": "code",
      "metadata": {
        "id": "MOkQY1HLA2PS"
      },
      "source": [
        "#performance\r\n",
        "KNN_predict =[0 for _ in range(len(y_test)) ]\r\n",
        "log_reg_predict=[0 for _ in range(len(y_test)) ]\r\n",
        "forest_predict=[0 for _ in range(len(y_test)) ]"
      ],
      "execution_count": null,
      "outputs": []
    },
    {
      "cell_type": "code",
      "metadata": {
        "id": "_DyXOEEpA4y1"
      },
      "source": [
        "model1=KNN.fit(x_train,y_train)\r\n",
        "model2=log_reg.fit(x_train,y_train)\r\n",
        "model3=forest.fit(x_train,y_train)"
      ],
      "execution_count": null,
      "outputs": []
    },
    {
      "cell_type": "code",
      "metadata": {
        "id": "2PUDLRxnA6Vl"
      },
      "source": [
        "KNN_predict=model1.predict_proba(x_test)\r\n",
        "log_reg_predict=model2.predict_proba(x_test)\r\n",
        "forest_predict=model3.predict_proba(x_test)"
      ],
      "execution_count": null,
      "outputs": []
    },
    {
      "cell_type": "code",
      "metadata": {
        "id": "vu_FKQBUA8JZ"
      },
      "source": [
        "KNN_predict=KNN_predict[:,1]\r\n",
        "log_reg_predict=log_reg_predict[:,1]\r\n",
        "forest_predict=forest_predict[:,1]"
      ],
      "execution_count": null,
      "outputs": []
    },
    {
      "cell_type": "code",
      "metadata": {
        "id": "8ROqNtMvBC97"
      },
      "source": [
        "KNN_auc=roc_auc_score(y_test,KNN_predict)\r\n",
        "log_reg_auc=roc_auc_score(y_test,log_reg_predict)\r\n",
        "forest_auc=roc_auc_score(y_test,forest_predict)"
      ],
      "execution_count": null,
      "outputs": []
    },
    {
      "cell_type": "code",
      "metadata": {
        "id": "xlzljI7SBDYd",
        "colab": {
          "base_uri": "https://localhost:8080/"
        },
        "outputId": "382714bf-f65a-4e80-fe05-c31fd4eb36e1"
      },
      "source": [
        "print(\"KNN:ROC AUC=%.3f\"%(KNN_auc))\r\n",
        "print(\"log_reg:ROC AUC=%.3f\"%(log_reg_auc))\r\n",
        "print(\"forest:ROC AUC=%.3f\"%(forest_auc))"
      ],
      "execution_count": null,
      "outputs": [
        {
          "output_type": "stream",
          "text": [
            "KNN:ROC AUC=0.633\n",
            "log_reg:ROC AUC=0.900\n",
            "forest:ROC AUC=0.840\n"
          ],
          "name": "stdout"
        }
      ]
    },
    {
      "cell_type": "code",
      "metadata": {
        "id": "L9MkbahvBDmo"
      },
      "source": [
        "KNN_fpr,KNN_tpr,_=roc_curve(y_test,KNN_predict)\r\n",
        "log_reg_fpr,log_reg_tpr,_=roc_curve(y_test,log_reg_predict)\r\n",
        "forest_fpr,forest_tpr,_=roc_curve(y_test,forest_predict)"
      ],
      "execution_count": null,
      "outputs": []
    },
    {
      "cell_type": "code",
      "metadata": {
        "id": "7ZhMYj9lBI34",
        "colab": {
          "base_uri": "https://localhost:8080/",
          "height": 265
        },
        "outputId": "8dea92ec-081f-4459-f9e3-754beec4b50d"
      },
      "source": [
        "pyplot.plot(KNN_fpr,KNN_tpr,linestyle=\"--\",label=\"KNN\")\r\n",
        "pyplot.plot(log_reg_fpr,log_reg_tpr,marker=\".\",label=\"log_reg\")\r\n",
        "pyplot.plot(forest_fpr,forest_tpr,marker=\".\",label=\"forest\")\r\n",
        "pyplot.legend()\r\n",
        "pyplot.show()"
      ],
      "execution_count": null,
      "outputs": [
        {
          "output_type": "display_data",
          "data": {
            "image/png": "[encoded data removed]",
            "text/plain": [
              "<Figure size 432x288 with 1 Axes>"
            ]
          },
          "metadata": {
            "tags": [],
            "needs_background": "light"
          }
        }
      ]
    },
    {
      "cell_type": "code",
      "metadata": {
        "id": "JcUqMXznBKyD"
      },
      "source": [
        "#This is the most efficient analysis method, as the most area is under logistic regression.\r\n"
      ],
      "execution_count": null,
      "outputs": []
    }
  ]
}