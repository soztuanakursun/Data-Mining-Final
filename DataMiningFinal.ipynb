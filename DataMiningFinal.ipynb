{
  "nbformat": 4,
  "nbformat_minor": 0,
  "metadata": {
    "colab": {
      "name": "DataMiningFinal.ipynb",
      "provenance": [],
      "collapsed_sections": []
    },
    "kernelspec": {
      "name": "python3",
      "display_name": "Python 3"
    }
  },
  "cells": [
    {
      "cell_type": "markdown",
      "metadata": {
        "id": "qiYIHJ5I1If_"
      },
      "source": [
        "#Data Mining Project"
      ]
    },
    {
      "cell_type": "markdown",
      "metadata": {
        "id": "8zEedCrNvgXP"
      },
      "source": [
        "##Libraries"
      ]
    },
    {
      "cell_type": "code",
      "metadata": {
        "id": "4XdK_5NAWPNr"
      },
      "source": [
        "import numpy as np\r\n",
        "import pandas as pd\r\n",
        "import seaborn as sns\r\n",
<<<<<<< HEAD
<<<<<<< HEAD
        "from sklearn.model_selection import cross_val_score\r\n",
        "from sklearn.model_selection import train_test_split\r\n",
        "from sklearn.linear_model import LogisticRegression\r\n",
        "from sklearn.ensemble import RandomForestClassifier\r\n",
        "from sklearn.linear_model import LinearRegression\r\n",
        "from sklearn.neighbors import KNeighborsClassifier\r\n",
        "from sklearn.metrics import roc_curve\r\n",
        "from sklearn.metrics import roc_auc_score\r\n",
        "from matplotlib import pyplot\r\n",
=======
        "from matplotlib import pyplot\r\n",
        "from sklearn.model_selection import train_test_split\r\n",
>>>>>>> 1dac1c2bf5e988c8e4e9698c94cb84c7c4eb98f2
=======
        "from matplotlib import pyplot\r\n",
        "from sklearn.model_selection import train_test_split\r\n",
>>>>>>> 1dac1c2bf5e988c8e4e9698c94cb84c7c4eb98f2
        "import matplotlib.pyplot as plt\r\n",
        "from sklearn.cluster import KMeans\r\n",
        "import warnings\r\n",
        "import scipy.stats\r\n",
        "warnings.filterwarnings('ignore')"
      ],
      "execution_count": 1,
      "outputs": []
    },
    {
      "cell_type": "markdown",
      "metadata": {
        "id": "CJ3zcAlOvi7K"
      },
      "source": [
        "##Editing Data"
      ]
    },
    {
      "cell_type": "code",
      "metadata": {
        "colab": {
          "base_uri": "https://localhost:8080/",
          "height": 195
        },
        "id": "Livp_sdXu22i",
        "outputId": "1f2d3242-1cf9-41c5-c40f-ab8a7168ef55"
      },
      "source": [
        "#We called our dataset and visualized it with the data.head() command.\r\n",
        "data = pd.read_csv(\"diabetes.csv\")\r\n",
        "data.head()"
      ],
      "execution_count": 2,
      "outputs": [
        {
          "output_type": "execute_result",
          "data": {
            "text/html": [
              "<div>\n",
              "<style scoped>\n",
              "    .dataframe tbody tr th:only-of-type {\n",
              "        vertical-align: middle;\n",
              "    }\n",
              "\n",
              "    .dataframe tbody tr th {\n",
              "        vertical-align: top;\n",
              "    }\n",
              "\n",
              "    .dataframe thead th {\n",
              "        text-align: right;\n",
              "    }\n",
              "</style>\n",
              "<table border=\"1\" class=\"dataframe\">\n",
              "  <thead>\n",
              "    <tr style=\"text-align: right;\">\n",
              "      <th></th>\n",
              "      <th>Pregnancies</th>\n",
              "      <th>Glucose</th>\n",
              "      <th>BloodPressure</th>\n",
              "      <th>SkinThickness</th>\n",
              "      <th>Insulin</th>\n",
              "      <th>BMI</th>\n",
              "      <th>DiabetesPedigreeFunction</th>\n",
              "      <th>Age</th>\n",
              "      <th>Outcome</th>\n",
              "    </tr>\n",
              "  </thead>\n",
              "  <tbody>\n",
              "    <tr>\n",
              "      <th>0</th>\n",
              "      <td>6</td>\n",
              "      <td>148</td>\n",
              "      <td>72</td>\n",
              "      <td>35</td>\n",
              "      <td>0</td>\n",
              "      <td>33.6</td>\n",
              "      <td>0.627</td>\n",
              "      <td>50</td>\n",
              "      <td>1</td>\n",
              "    </tr>\n",
              "    <tr>\n",
              "      <th>1</th>\n",
              "      <td>1</td>\n",
              "      <td>85</td>\n",
              "      <td>66</td>\n",
              "      <td>29</td>\n",
              "      <td>0</td>\n",
              "      <td>26.6</td>\n",
              "      <td>0.351</td>\n",
              "      <td>31</td>\n",
              "      <td>0</td>\n",
              "    </tr>\n",
              "    <tr>\n",
              "      <th>2</th>\n",
              "      <td>8</td>\n",
              "      <td>183</td>\n",
              "      <td>64</td>\n",
              "      <td>0</td>\n",
              "      <td>0</td>\n",
              "      <td>23.3</td>\n",
              "      <td>0.672</td>\n",
              "      <td>32</td>\n",
              "      <td>1</td>\n",
              "    </tr>\n",
              "    <tr>\n",
              "      <th>3</th>\n",
              "      <td>1</td>\n",
              "      <td>89</td>\n",
              "      <td>66</td>\n",
              "      <td>23</td>\n",
              "      <td>94</td>\n",
              "      <td>28.1</td>\n",
              "      <td>0.167</td>\n",
              "      <td>21</td>\n",
              "      <td>0</td>\n",
              "    </tr>\n",
              "    <tr>\n",
              "      <th>4</th>\n",
              "      <td>0</td>\n",
              "      <td>137</td>\n",
              "      <td>40</td>\n",
              "      <td>35</td>\n",
              "      <td>168</td>\n",
              "      <td>43.1</td>\n",
              "      <td>2.288</td>\n",
              "      <td>33</td>\n",
              "      <td>1</td>\n",
              "    </tr>\n",
              "  </tbody>\n",
              "</table>\n",
              "</div>"
            ],
            "text/plain": [
              "   Pregnancies  Glucose  BloodPressure  ...  DiabetesPedigreeFunction  Age  Outcome\n",
              "0            6      148             72  ...                     0.627   50        1\n",
              "1            1       85             66  ...                     0.351   31        0\n",
              "2            8      183             64  ...                     0.672   32        1\n",
              "3            1       89             66  ...                     0.167   21        0\n",
              "4            0      137             40  ...                     2.288   33        1\n",
              "\n",
              "[5 rows x 9 columns]"
            ]
          },
          "metadata": {
            "tags": []
          },
          "execution_count": 2
        }
      ]
    },
    {
      "cell_type": "code",
      "metadata": {
        "colab": {
          "base_uri": "https://localhost:8080/"
        },
        "id": "rrGCo6LPvfVN",
        "outputId": "b26edf08-a84e-4d73-d6ec-7d17c2e0dbbc"
      },
      "source": [
        "#We decided whether it is true or false by looking at the types in the data set.\r\n",
        "data.info()"
      ],
      "execution_count": 3,
      "outputs": [
        {
          "output_type": "stream",
          "text": [
            "<class 'pandas.core.frame.DataFrame'>\n",
            "RangeIndex: 768 entries, 0 to 767\n",
            "Data columns (total 9 columns):\n",
            " #   Column                    Non-Null Count  Dtype  \n",
            "---  ------                    --------------  -----  \n",
            " 0   Pregnancies               768 non-null    int64  \n",
            " 1   Glucose                   768 non-null    int64  \n",
            " 2   BloodPressure             768 non-null    int64  \n",
            " 3   SkinThickness             768 non-null    int64  \n",
            " 4   Insulin                   768 non-null    int64  \n",
            " 5   BMI                       768 non-null    float64\n",
            " 6   DiabetesPedigreeFunction  768 non-null    float64\n",
            " 7   Age                       768 non-null    int64  \n",
            " 8   Outcome                   768 non-null    int64  \n",
            "dtypes: float64(2), int64(7)\n",
            "memory usage: 54.1 KB\n"
          ],
          "name": "stdout"
        }
      ]
    },
    {
      "cell_type": "code",
      "metadata": {
        "colab": {
          "base_uri": "https://localhost:8080/",
          "height": 284
        },
        "id": "zoJu_mWpWEna",
        "outputId": "c35288d4-a479-498b-bed2-5b328c4103a4"
      },
      "source": [
        "#Statistical data brought.\r\n",
        "data.describe()"
      ],
      "execution_count": 4,
      "outputs": [
        {
          "output_type": "execute_result",
          "data": {
            "text/html": [
              "<div>\n",
              "<style scoped>\n",
              "    .dataframe tbody tr th:only-of-type {\n",
              "        vertical-align: middle;\n",
              "    }\n",
              "\n",
              "    .dataframe tbody tr th {\n",
              "        vertical-align: top;\n",
              "    }\n",
              "\n",
              "    .dataframe thead th {\n",
              "        text-align: right;\n",
              "    }\n",
              "</style>\n",
              "<table border=\"1\" class=\"dataframe\">\n",
              "  <thead>\n",
              "    <tr style=\"text-align: right;\">\n",
              "      <th></th>\n",
              "      <th>Pregnancies</th>\n",
              "      <th>Glucose</th>\n",
              "      <th>BloodPressure</th>\n",
              "      <th>SkinThickness</th>\n",
              "      <th>Insulin</th>\n",
              "      <th>BMI</th>\n",
              "      <th>DiabetesPedigreeFunction</th>\n",
              "      <th>Age</th>\n",
              "      <th>Outcome</th>\n",
              "    </tr>\n",
              "  </thead>\n",
              "  <tbody>\n",
              "    <tr>\n",
              "      <th>count</th>\n",
              "      <td>768.000000</td>\n",
              "      <td>768.000000</td>\n",
              "      <td>768.000000</td>\n",
              "      <td>768.000000</td>\n",
              "      <td>768.000000</td>\n",
              "      <td>768.000000</td>\n",
              "      <td>768.000000</td>\n",
              "      <td>768.000000</td>\n",
              "      <td>768.000000</td>\n",
              "    </tr>\n",
              "    <tr>\n",
              "      <th>mean</th>\n",
              "      <td>3.845052</td>\n",
              "      <td>120.894531</td>\n",
              "      <td>69.105469</td>\n",
              "      <td>20.536458</td>\n",
              "      <td>79.799479</td>\n",
              "      <td>31.992578</td>\n",
              "      <td>0.471876</td>\n",
              "      <td>33.240885</td>\n",
              "      <td>0.348958</td>\n",
              "    </tr>\n",
              "    <tr>\n",
              "      <th>std</th>\n",
              "      <td>3.369578</td>\n",
              "      <td>31.972618</td>\n",
              "      <td>19.355807</td>\n",
              "      <td>15.952218</td>\n",
              "      <td>115.244002</td>\n",
              "      <td>7.884160</td>\n",
              "      <td>0.331329</td>\n",
              "      <td>11.760232</td>\n",
              "      <td>0.476951</td>\n",
              "    </tr>\n",
              "    <tr>\n",
              "      <th>min</th>\n",
              "      <td>0.000000</td>\n",
              "      <td>0.000000</td>\n",
              "      <td>0.000000</td>\n",
              "      <td>0.000000</td>\n",
              "      <td>0.000000</td>\n",
              "      <td>0.000000</td>\n",
              "      <td>0.078000</td>\n",
              "      <td>21.000000</td>\n",
              "      <td>0.000000</td>\n",
              "    </tr>\n",
              "    <tr>\n",
              "      <th>25%</th>\n",
              "      <td>1.000000</td>\n",
              "      <td>99.000000</td>\n",
              "      <td>62.000000</td>\n",
              "      <td>0.000000</td>\n",
              "      <td>0.000000</td>\n",
              "      <td>27.300000</td>\n",
              "      <td>0.243750</td>\n",
              "      <td>24.000000</td>\n",
              "      <td>0.000000</td>\n",
              "    </tr>\n",
              "    <tr>\n",
              "      <th>50%</th>\n",
              "      <td>3.000000</td>\n",
              "      <td>117.000000</td>\n",
              "      <td>72.000000</td>\n",
              "      <td>23.000000</td>\n",
              "      <td>30.500000</td>\n",
              "      <td>32.000000</td>\n",
              "      <td>0.372500</td>\n",
              "      <td>29.000000</td>\n",
              "      <td>0.000000</td>\n",
              "    </tr>\n",
              "    <tr>\n",
              "      <th>75%</th>\n",
              "      <td>6.000000</td>\n",
              "      <td>140.250000</td>\n",
              "      <td>80.000000</td>\n",
              "      <td>32.000000</td>\n",
              "      <td>127.250000</td>\n",
              "      <td>36.600000</td>\n",
              "      <td>0.626250</td>\n",
              "      <td>41.000000</td>\n",
              "      <td>1.000000</td>\n",
              "    </tr>\n",
              "    <tr>\n",
              "      <th>max</th>\n",
              "      <td>17.000000</td>\n",
              "      <td>199.000000</td>\n",
              "      <td>122.000000</td>\n",
              "      <td>99.000000</td>\n",
              "      <td>846.000000</td>\n",
              "      <td>67.100000</td>\n",
              "      <td>2.420000</td>\n",
              "      <td>81.000000</td>\n",
              "      <td>1.000000</td>\n",
              "    </tr>\n",
              "  </tbody>\n",
              "</table>\n",
              "</div>"
            ],
            "text/plain": [
              "       Pregnancies     Glucose  ...         Age     Outcome\n",
              "count   768.000000  768.000000  ...  768.000000  768.000000\n",
              "mean      3.845052  120.894531  ...   33.240885    0.348958\n",
              "std       3.369578   31.972618  ...   11.760232    0.476951\n",
              "min       0.000000    0.000000  ...   21.000000    0.000000\n",
              "25%       1.000000   99.000000  ...   24.000000    0.000000\n",
              "50%       3.000000  117.000000  ...   29.000000    0.000000\n",
              "75%       6.000000  140.250000  ...   41.000000    1.000000\n",
              "max      17.000000  199.000000  ...   81.000000    1.000000\n",
              "\n",
              "[8 rows x 9 columns]"
            ]
          },
          "metadata": {
            "tags": []
          },
          "execution_count": 4
        }
      ]
    },
    {
      "cell_type": "code",
      "metadata": {
        "colab": {
          "base_uri": "https://localhost:8080/"
        },
        "id": "bxd7f4fLWJ1y",
        "outputId": "58ae3f09-bef3-44c7-ef3a-542dac8b20e4"
      },
      "source": [
        "#Of the 768 patients, 500 are not sick.\r\n",
        "data.shape"
      ],
      "execution_count": 5,
      "outputs": [
        {
          "output_type": "execute_result",
          "data": {
            "text/plain": [
              "(768, 9)"
            ]
          },
          "metadata": {
            "tags": []
          },
          "execution_count": 5
        }
      ]
    },
    {
      "cell_type": "code",
      "metadata": {
        "colab": {
          "base_uri": "https://localhost:8080/"
        },
        "id": "QPMEBrt7vyjr",
        "outputId": "5dd7da61-7d46-43b2-b7d1-81435e16c910"
      },
      "source": [
        "#we looked for empty data, lost data.\r\n",
        "data.isna().sum()"
      ],
      "execution_count": 6,
      "outputs": [
        {
          "output_type": "execute_result",
          "data": {
            "text/plain": [
              "Pregnancies                 0\n",
              "Glucose                     0\n",
              "BloodPressure               0\n",
              "SkinThickness               0\n",
              "Insulin                     0\n",
              "BMI                         0\n",
              "DiabetesPedigreeFunction    0\n",
              "Age                         0\n",
              "Outcome                     0\n",
              "dtype: int64"
            ]
          },
          "metadata": {
            "tags": []
          },
          "execution_count": 6
        }
      ]
    },
    {
      "cell_type": "code",
      "metadata": {
        "colab": {
          "base_uri": "https://localhost:8080/"
        },
        "id": "UU-YxWq6wUb5",
        "outputId": "6b1cf119-ff97-4e72-bf94-3ababa24ca06"
      },
      "source": [
        "#Values ​​like glucose,bloodpressure etc. can not be 0, we have to regulate them.\r\n",
        "data.eq(0).sum()  "
      ],
      "execution_count": 7,
      "outputs": [
        {
          "output_type": "execute_result",
          "data": {
            "text/plain": [
              "Pregnancies                 111\n",
              "Glucose                       5\n",
              "BloodPressure                35\n",
              "SkinThickness               227\n",
              "Insulin                     374\n",
              "BMI                          11\n",
              "DiabetesPedigreeFunction      0\n",
              "Age                           0\n",
              "Outcome                     500\n",
              "dtype: int64"
            ]
          },
          "metadata": {
            "tags": []
          },
          "execution_count": 7
        }
      ]
    },
    {
      "cell_type": "code",
      "metadata": {
        "id": "RppKI7GMwbdP"
      },
      "source": [
        "#Missing Data Imputation Using Regression\r\n",
        "\r\n",
        "\r\n",
        "def ImputeZeroValuesWithRegression(dataset):\r\n",
        "\r\n",
        "  columnsToBeImputed = ['Glucose','Insulin','SkinThickness','BMI']\r\n",
        "  for column in columnsToBeImputed:\r\n",
        "\r\n",
        "    test_df = dataset[dataset[column]==0]\r\n",
        "\r\n",
        "\r\n",
        "    y_train= dataset[column]\r\n",
        "    x_train= dataset.drop(column,axis=1)\r\n",
        "\r\n",
        "    X_test = test_df.drop(column, axis=1)\r\n",
        "\r\n",
        "    lr=LinearRegression()\r\n",
        "    lr.fit(x_train,y_train)\r\n",
        "    y_pred=lr.predict(X_test)\r\n",
        "\r\n",
        "\r\n",
        "    dataset.loc[dataset[column]==0,column] = y_pred\r\n",
        "\r\n",
        "  return dataset\r\n",
        "df=ImputeZeroValuesWithRegression(dataset=data)"
      ],
      "execution_count": 8,
      "outputs": []
    },
    {
      "cell_type": "code",
      "metadata": {
        "id": "tWirtZKkykmG",
        "colab": {
          "base_uri": "https://localhost:8080/",
          "height": 402
        },
        "outputId": "2197a955-41bf-443e-ba80-c1ab7414f7e1"
      },
      "source": [
        "df"
      ],
      "execution_count": 9,
      "outputs": [
        {
          "output_type": "execute_result",
          "data": {
            "text/html": [
              "<div>\n",
              "<style scoped>\n",
              "    .dataframe tbody tr th:only-of-type {\n",
              "        vertical-align: middle;\n",
              "    }\n",
              "\n",
              "    .dataframe tbody tr th {\n",
              "        vertical-align: top;\n",
              "    }\n",
              "\n",
              "    .dataframe thead th {\n",
              "        text-align: right;\n",
              "    }\n",
              "</style>\n",
              "<table border=\"1\" class=\"dataframe\">\n",
              "  <thead>\n",
              "    <tr style=\"text-align: right;\">\n",
              "      <th></th>\n",
              "      <th>Pregnancies</th>\n",
              "      <th>Glucose</th>\n",
              "      <th>BloodPressure</th>\n",
              "      <th>SkinThickness</th>\n",
              "      <th>Insulin</th>\n",
              "      <th>BMI</th>\n",
              "      <th>DiabetesPedigreeFunction</th>\n",
              "      <th>Age</th>\n",
              "      <th>Outcome</th>\n",
              "    </tr>\n",
              "  </thead>\n",
              "  <tbody>\n",
              "    <tr>\n",
              "      <th>0</th>\n",
              "      <td>6</td>\n",
              "      <td>148.0</td>\n",
              "      <td>72</td>\n",
              "      <td>35.000000</td>\n",
              "      <td>140.472103</td>\n",
              "      <td>33.6</td>\n",
              "      <td>0.627</td>\n",
              "      <td>50</td>\n",
              "      <td>1</td>\n",
              "    </tr>\n",
              "    <tr>\n",
              "      <th>1</th>\n",
              "      <td>1</td>\n",
              "      <td>85.0</td>\n",
              "      <td>66</td>\n",
              "      <td>29.000000</td>\n",
              "      <td>65.823263</td>\n",
              "      <td>26.6</td>\n",
              "      <td>0.351</td>\n",
              "      <td>31</td>\n",
              "      <td>0</td>\n",
              "    </tr>\n",
              "    <tr>\n",
              "      <th>2</th>\n",
              "      <td>8</td>\n",
              "      <td>183.0</td>\n",
              "      <td>64</td>\n",
              "      <td>6.563747</td>\n",
              "      <td>96.262920</td>\n",
              "      <td>23.3</td>\n",
              "      <td>0.672</td>\n",
              "      <td>32</td>\n",
              "      <td>1</td>\n",
              "    </tr>\n",
              "    <tr>\n",
              "      <th>3</th>\n",
              "      <td>1</td>\n",
              "      <td>89.0</td>\n",
              "      <td>66</td>\n",
              "      <td>23.000000</td>\n",
              "      <td>94.000000</td>\n",
              "      <td>28.1</td>\n",
              "      <td>0.167</td>\n",
              "      <td>21</td>\n",
              "      <td>0</td>\n",
              "    </tr>\n",
              "    <tr>\n",
              "      <th>4</th>\n",
              "      <td>0</td>\n",
              "      <td>137.0</td>\n",
              "      <td>40</td>\n",
              "      <td>35.000000</td>\n",
              "      <td>168.000000</td>\n",
              "      <td>43.1</td>\n",
              "      <td>2.288</td>\n",
              "      <td>33</td>\n",
              "      <td>1</td>\n",
              "    </tr>\n",
              "    <tr>\n",
              "      <th>...</th>\n",
              "      <td>...</td>\n",
              "      <td>...</td>\n",
              "      <td>...</td>\n",
              "      <td>...</td>\n",
              "      <td>...</td>\n",
              "      <td>...</td>\n",
              "      <td>...</td>\n",
              "      <td>...</td>\n",
              "      <td>...</td>\n",
              "    </tr>\n",
              "    <tr>\n",
              "      <th>763</th>\n",
              "      <td>10</td>\n",
              "      <td>101.0</td>\n",
              "      <td>76</td>\n",
              "      <td>48.000000</td>\n",
              "      <td>180.000000</td>\n",
              "      <td>32.9</td>\n",
              "      <td>0.171</td>\n",
              "      <td>63</td>\n",
              "      <td>0</td>\n",
              "    </tr>\n",
              "    <tr>\n",
              "      <th>764</th>\n",
              "      <td>2</td>\n",
              "      <td>122.0</td>\n",
              "      <td>70</td>\n",
              "      <td>27.000000</td>\n",
              "      <td>103.754985</td>\n",
              "      <td>36.8</td>\n",
              "      <td>0.340</td>\n",
              "      <td>27</td>\n",
              "      <td>0</td>\n",
              "    </tr>\n",
              "    <tr>\n",
              "      <th>765</th>\n",
              "      <td>5</td>\n",
              "      <td>121.0</td>\n",
              "      <td>72</td>\n",
              "      <td>23.000000</td>\n",
              "      <td>112.000000</td>\n",
              "      <td>26.2</td>\n",
              "      <td>0.245</td>\n",
              "      <td>30</td>\n",
              "      <td>0</td>\n",
              "    </tr>\n",
              "    <tr>\n",
              "      <th>766</th>\n",
              "      <td>1</td>\n",
              "      <td>126.0</td>\n",
              "      <td>60</td>\n",
              "      <td>8.428455</td>\n",
              "      <td>12.303375</td>\n",
              "      <td>30.1</td>\n",
              "      <td>0.349</td>\n",
              "      <td>47</td>\n",
              "      <td>1</td>\n",
              "    </tr>\n",
              "    <tr>\n",
              "      <th>767</th>\n",
              "      <td>1</td>\n",
              "      <td>93.0</td>\n",
              "      <td>70</td>\n",
              "      <td>31.000000</td>\n",
              "      <td>82.956576</td>\n",
              "      <td>30.4</td>\n",
              "      <td>0.315</td>\n",
              "      <td>23</td>\n",
              "      <td>0</td>\n",
              "    </tr>\n",
              "  </tbody>\n",
              "</table>\n",
              "<p>768 rows × 9 columns</p>\n",
              "</div>"
            ],
            "text/plain": [
              "     Pregnancies  Glucose  ...  Age  Outcome\n",
              "0              6    148.0  ...   50        1\n",
              "1              1     85.0  ...   31        0\n",
              "2              8    183.0  ...   32        1\n",
              "3              1     89.0  ...   21        0\n",
              "4              0    137.0  ...   33        1\n",
              "..           ...      ...  ...  ...      ...\n",
              "763           10    101.0  ...   63        0\n",
              "764            2    122.0  ...   27        0\n",
              "765            5    121.0  ...   30        0\n",
              "766            1    126.0  ...   47        1\n",
              "767            1     93.0  ...   23        0\n",
              "\n",
              "[768 rows x 9 columns]"
            ]
          },
          "metadata": {
            "tags": []
          },
          "execution_count": 9
        }
      ]
    },
    {
      "cell_type": "markdown",
      "metadata": {
        "id": "T-YDYdufBQpG"
      },
      "source": [
        "##Correlation Analysis"
      ]
    },
    {
      "cell_type": "markdown",
      "metadata": {
        "id": "XPjC1TrfJOTJ"
      },
      "source": [
        ""
      ]
    },
    {
      "cell_type": "code",
      "metadata": {
        "colab": {
          "base_uri": "https://localhost:8080/",
          "height": 314
        },
        "id": "QkDVLzF3AscN",
        "outputId": "462a2f8e-19ed-40e0-84f4-02134e8cbafa"
      },
      "source": [
        "#The measure of the relationship between them.\r\n",
        "data.corr()"
      ],
      "execution_count": 10,
      "outputs": [
        {
          "output_type": "execute_result",
          "data": {
            "text/html": [
              "<div>\n",
              "<style scoped>\n",
              "    .dataframe tbody tr th:only-of-type {\n",
              "        vertical-align: middle;\n",
              "    }\n",
              "\n",
              "    .dataframe tbody tr th {\n",
              "        vertical-align: top;\n",
              "    }\n",
              "\n",
              "    .dataframe thead th {\n",
              "        text-align: right;\n",
              "    }\n",
              "</style>\n",
              "<table border=\"1\" class=\"dataframe\">\n",
              "  <thead>\n",
              "    <tr style=\"text-align: right;\">\n",
              "      <th></th>\n",
              "      <th>Pregnancies</th>\n",
              "      <th>Glucose</th>\n",
              "      <th>BloodPressure</th>\n",
              "      <th>SkinThickness</th>\n",
              "      <th>Insulin</th>\n",
              "      <th>BMI</th>\n",
              "      <th>DiabetesPedigreeFunction</th>\n",
              "      <th>Age</th>\n",
              "      <th>Outcome</th>\n",
              "    </tr>\n",
              "  </thead>\n",
              "  <tbody>\n",
              "    <tr>\n",
              "      <th>Pregnancies</th>\n",
              "      <td>1.000000</td>\n",
              "      <td>0.130678</td>\n",
              "      <td>0.141282</td>\n",
              "      <td>-0.047731</td>\n",
              "      <td>-0.076477</td>\n",
              "      <td>0.017526</td>\n",
              "      <td>-0.033523</td>\n",
              "      <td>0.544341</td>\n",
              "      <td>0.221898</td>\n",
              "    </tr>\n",
              "    <tr>\n",
              "      <th>Glucose</th>\n",
              "      <td>0.130678</td>\n",
              "      <td>1.000000</td>\n",
              "      <td>0.159339</td>\n",
              "      <td>0.106347</td>\n",
              "      <td>0.493115</td>\n",
              "      <td>0.244369</td>\n",
              "      <td>0.138798</td>\n",
              "      <td>0.269528</td>\n",
              "      <td>0.495549</td>\n",
              "    </tr>\n",
              "    <tr>\n",
              "      <th>BloodPressure</th>\n",
              "      <td>0.141282</td>\n",
              "      <td>0.159339</td>\n",
              "      <td>1.000000</td>\n",
              "      <td>0.304510</td>\n",
              "      <td>0.119939</td>\n",
              "      <td>0.244634</td>\n",
              "      <td>0.041265</td>\n",
              "      <td>0.239528</td>\n",
              "      <td>0.065068</td>\n",
              "    </tr>\n",
              "    <tr>\n",
              "      <th>SkinThickness</th>\n",
              "      <td>-0.047731</td>\n",
              "      <td>0.106347</td>\n",
              "      <td>0.304510</td>\n",
              "      <td>1.000000</td>\n",
              "      <td>0.479888</td>\n",
              "      <td>0.567035</td>\n",
              "      <td>0.208902</td>\n",
              "      <td>-0.091770</td>\n",
              "      <td>0.128674</td>\n",
              "    </tr>\n",
              "    <tr>\n",
              "      <th>Insulin</th>\n",
              "      <td>-0.076477</td>\n",
              "      <td>0.493115</td>\n",
              "      <td>0.119939</td>\n",
              "      <td>0.479888</td>\n",
              "      <td>1.000000</td>\n",
              "      <td>0.254467</td>\n",
              "      <td>0.220820</td>\n",
              "      <td>-0.019620</td>\n",
              "      <td>0.202597</td>\n",
              "    </tr>\n",
              "    <tr>\n",
              "      <th>BMI</th>\n",
              "      <td>0.017526</td>\n",
              "      <td>0.244369</td>\n",
              "      <td>0.244634</td>\n",
              "      <td>0.567035</td>\n",
              "      <td>0.254467</td>\n",
              "      <td>1.000000</td>\n",
              "      <td>0.162973</td>\n",
              "      <td>0.032215</td>\n",
              "      <td>0.313984</td>\n",
              "    </tr>\n",
              "    <tr>\n",
              "      <th>DiabetesPedigreeFunction</th>\n",
              "      <td>-0.033523</td>\n",
              "      <td>0.138798</td>\n",
              "      <td>0.041265</td>\n",
              "      <td>0.208902</td>\n",
              "      <td>0.220820</td>\n",
              "      <td>0.162973</td>\n",
              "      <td>1.000000</td>\n",
              "      <td>0.033561</td>\n",
              "      <td>0.173844</td>\n",
              "    </tr>\n",
              "    <tr>\n",
              "      <th>Age</th>\n",
              "      <td>0.544341</td>\n",
              "      <td>0.269528</td>\n",
              "      <td>0.239528</td>\n",
              "      <td>-0.091770</td>\n",
              "      <td>-0.019620</td>\n",
              "      <td>0.032215</td>\n",
              "      <td>0.033561</td>\n",
              "      <td>1.000000</td>\n",
              "      <td>0.238356</td>\n",
              "    </tr>\n",
              "    <tr>\n",
              "      <th>Outcome</th>\n",
              "      <td>0.221898</td>\n",
              "      <td>0.495549</td>\n",
              "      <td>0.065068</td>\n",
              "      <td>0.128674</td>\n",
              "      <td>0.202597</td>\n",
              "      <td>0.313984</td>\n",
              "      <td>0.173844</td>\n",
              "      <td>0.238356</td>\n",
              "      <td>1.000000</td>\n",
              "    </tr>\n",
              "  </tbody>\n",
              "</table>\n",
              "</div>"
            ],
            "text/plain": [
              "                          Pregnancies   Glucose  ...       Age   Outcome\n",
              "Pregnancies                  1.000000  0.130678  ...  0.544341  0.221898\n",
              "Glucose                      0.130678  1.000000  ...  0.269528  0.495549\n",
              "BloodPressure                0.141282  0.159339  ...  0.239528  0.065068\n",
              "SkinThickness               -0.047731  0.106347  ... -0.091770  0.128674\n",
              "Insulin                     -0.076477  0.493115  ... -0.019620  0.202597\n",
              "BMI                          0.017526  0.244369  ...  0.032215  0.313984\n",
              "DiabetesPedigreeFunction    -0.033523  0.138798  ...  0.033561  0.173844\n",
              "Age                          0.544341  0.269528  ...  1.000000  0.238356\n",
              "Outcome                      0.221898  0.495549  ...  0.238356  1.000000\n",
              "\n",
              "[9 rows x 9 columns]"
            ]
          },
          "metadata": {
            "tags": []
          },
          "execution_count": 10
        }
      ]
    },
    {
      "cell_type": "code",
      "metadata": {
        "colab": {
          "base_uri": "https://localhost:8080/",
          "height": 407
        },
        "id": "eQBx1oQ9AyJ3",
        "outputId": "6800988c-4518-45cb-b805-b199c07d0a1b"
      },
      "source": [
        "#We tried to show each feature among itself.\r\n",
        "sns.heatmap(data.corr(),annot=True)"
      ],
      "execution_count": 11,
      "outputs": [
        {
          "output_type": "execute_result",
          "data": {
            "text/plain": [
              "<matplotlib.axes._subplots.AxesSubplot at 0x7f97c6ce6160>"
            ]
          },
          "metadata": {
            "tags": []
          },
          "execution_count": 11
        },
        {
          "output_type": "display_data",
          "data": {
            "image/png": "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\n",
            "text/plain": [
              "<Figure size 432x288 with 2 Axes>"
            ]
          },
          "metadata": {
            "tags": [],
            "needs_background": "light"
          }
        }
      ]
    },
    {
      "cell_type": "markdown",
      "metadata": {
        "id": "JSuOfQ0gSVMR"
      },
      "source": [
        "##Change value (mean)"
      ]
    },
    {
      "cell_type": "code",
      "metadata": {
        "id": "6y0E7nQF_FXP"
      },
      "source": [
        "#we changed the values ​​of the table.\r\n",
        "#NaN instead of 0\r\n",
        "data[[\"Pregnancies\",\"Glucose\",\"BloodPressure\",\"SkinThickness\",\"Insulin\",\"BMI\",\"DiabetesPedigreeFunction\",\"Age\"\r\n",
        "    ]]=data[[\r\n",
        "    \"Pregnancies\",\"Glucose\",\"BloodPressure\",\"SkinThickness\",\"Insulin\",\"BMI\",\"DiabetesPedigreeFunction\",\"Age\"]].replace(0,np.NaN) \r\n",
        "    "
      ],
      "execution_count": 12,
      "outputs": []
    },
    {
      "cell_type": "code",
      "metadata": {
        "id": "AheGgJHKWakx"
      },
      "source": [
        "#filling in the missing values\r\n",
        "data.fillna(data.mean(),inplace=True)\r\n"
      ],
      "execution_count": 13,
      "outputs": []
    },
    {
      "cell_type": "code",
      "metadata": {
        "colab": {
          "base_uri": "https://localhost:8080/",
          "height": 195
        },
        "id": "mJqhKMXnWbkr",
        "outputId": "0a4df328-9dfd-45be-9ff6-700f310e0e7e"
      },
      "source": [
        "#we filled the empty spaces with average.\r\n",
        "data.head()"
      ],
      "execution_count": 14,
      "outputs": [
        {
          "output_type": "execute_result",
          "data": {
            "text/html": [
              "<div>\n",
              "<style scoped>\n",
              "    .dataframe tbody tr th:only-of-type {\n",
              "        vertical-align: middle;\n",
              "    }\n",
              "\n",
              "    .dataframe tbody tr th {\n",
              "        vertical-align: top;\n",
              "    }\n",
              "\n",
              "    .dataframe thead th {\n",
              "        text-align: right;\n",
              "    }\n",
              "</style>\n",
              "<table border=\"1\" class=\"dataframe\">\n",
              "  <thead>\n",
              "    <tr style=\"text-align: right;\">\n",
              "      <th></th>\n",
              "      <th>Pregnancies</th>\n",
              "      <th>Glucose</th>\n",
              "      <th>BloodPressure</th>\n",
              "      <th>SkinThickness</th>\n",
              "      <th>Insulin</th>\n",
              "      <th>BMI</th>\n",
              "      <th>DiabetesPedigreeFunction</th>\n",
              "      <th>Age</th>\n",
              "      <th>Outcome</th>\n",
              "    </tr>\n",
              "  </thead>\n",
              "  <tbody>\n",
              "    <tr>\n",
              "      <th>0</th>\n",
              "      <td>6.000000</td>\n",
              "      <td>148.0</td>\n",
              "      <td>72.0</td>\n",
              "      <td>35.000000</td>\n",
              "      <td>140.472103</td>\n",
              "      <td>33.6</td>\n",
              "      <td>0.627</td>\n",
              "      <td>50</td>\n",
              "      <td>1</td>\n",
              "    </tr>\n",
              "    <tr>\n",
              "      <th>1</th>\n",
              "      <td>1.000000</td>\n",
              "      <td>85.0</td>\n",
              "      <td>66.0</td>\n",
              "      <td>29.000000</td>\n",
              "      <td>65.823263</td>\n",
              "      <td>26.6</td>\n",
              "      <td>0.351</td>\n",
              "      <td>31</td>\n",
              "      <td>0</td>\n",
              "    </tr>\n",
              "    <tr>\n",
              "      <th>2</th>\n",
              "      <td>8.000000</td>\n",
              "      <td>183.0</td>\n",
              "      <td>64.0</td>\n",
              "      <td>6.563747</td>\n",
              "      <td>96.262920</td>\n",
              "      <td>23.3</td>\n",
              "      <td>0.672</td>\n",
              "      <td>32</td>\n",
              "      <td>1</td>\n",
              "    </tr>\n",
              "    <tr>\n",
              "      <th>3</th>\n",
              "      <td>1.000000</td>\n",
              "      <td>89.0</td>\n",
              "      <td>66.0</td>\n",
              "      <td>23.000000</td>\n",
              "      <td>94.000000</td>\n",
              "      <td>28.1</td>\n",
              "      <td>0.167</td>\n",
              "      <td>21</td>\n",
              "      <td>0</td>\n",
              "    </tr>\n",
              "    <tr>\n",
              "      <th>4</th>\n",
              "      <td>4.494673</td>\n",
              "      <td>137.0</td>\n",
              "      <td>40.0</td>\n",
              "      <td>35.000000</td>\n",
              "      <td>168.000000</td>\n",
              "      <td>43.1</td>\n",
              "      <td>2.288</td>\n",
              "      <td>33</td>\n",
              "      <td>1</td>\n",
              "    </tr>\n",
              "  </tbody>\n",
              "</table>\n",
              "</div>"
            ],
            "text/plain": [
              "   Pregnancies  Glucose  BloodPressure  ...  DiabetesPedigreeFunction  Age  Outcome\n",
              "0     6.000000    148.0           72.0  ...                     0.627   50        1\n",
              "1     1.000000     85.0           66.0  ...                     0.351   31        0\n",
              "2     8.000000    183.0           64.0  ...                     0.672   32        1\n",
              "3     1.000000     89.0           66.0  ...                     0.167   21        0\n",
              "4     4.494673    137.0           40.0  ...                     2.288   33        1\n",
              "\n",
              "[5 rows x 9 columns]"
            ]
          },
          "metadata": {
            "tags": []
          },
          "execution_count": 14
        }
      ]
    },
    {
      "cell_type": "markdown",
      "metadata": {
        "id": "vYLw70SMSang"
      },
      "source": [
        "##scatter features"
      ]
    },
    {
      "cell_type": "code",
      "metadata": {
        "colab": {
          "base_uri": "https://localhost:8080/",
          "height": 918
        },
        "id": "q7yg-AJkWVUo",
        "outputId": "0d9ddc81-871d-4fd7-f7c7-a54dbd437a68"
      },
      "source": [
        "#scatter plots of features\r\n",
        "def scatter(ax,axis,name,title):\r\n",
        "  sns.countplot(name,data=data,ax=ax[axis[0]][axis[1]])\r\n",
        "  ax[axis[0],axis[1]].set_title(title)\r\n",
        "\r\n",
        "f,ax=plt.subplots(4,2,figsize=(20,15))\r\n",
        "plt.suptitle(\"Scatter plots of features\")\r\n",
        "\r\n",
        "features = (((0,0),\"Pregnancies\",\"Pregnancy chart feature\"),((0,1),\"Glucose\",\"Glucose chart feature\"),((1,0),\"BloodPressure\",\"BloodPressure chart feature\"),((1,1),\"SkinThickness\",\"SkinThickness chart feature\")\r\n",
        ",((2,0),\"Insulin\",\"Insulin chart feature\"),((2,1),\"BMI\",\"BMI chart feature\"),((3,0),\"DiabetesPedigreeFunction\",\"DiabetesPedigreeFunction chart feature\"),((3,1),\"Age\",\"Age\" \"chart feature\"))\r\n",
        "\r\n",
        "for axis, name, title in features:\r\n",
        "  scatter(ax,axis,name,title)\r\n"
      ],
      "execution_count": 15,
      "outputs": [
        {
          "output_type": "display_data",
          "data": {
            "image/png": "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\n",
            "text/plain": [
              "<Figure size 1440x1080 with 8 Axes>"
            ]
          },
          "metadata": {
            "tags": [],
            "needs_background": "light"
          }
        }
      ]
    },
    {
      "cell_type": "markdown",
      "metadata": {
        "id": "Fq3xAp_BS0pq"
      },
      "source": [
        "##order of importance"
      ]
    },
    {
      "cell_type": "code",
      "metadata": {
        "colab": {
          "base_uri": "https://localhost:8080/",
          "height": 420
        },
        "id": "2r3QdsP0WBQG",
        "outputId": "3d27b95f-be4c-49d6-f8d4-95715d4aac42"
      },
      "source": [
        "#order of importance\r\n",
        "x=data[['Glucose', 'BMI', 'Age', 'Pregnancies', 'SkinThickness',\r\n",
        "       'Insulin', 'DiabetesPedigreeFunction']]\r\n",
        "y=data.iloc[:,8]\r\n",
        "from sklearn.ensemble import ExtraTreesClassifier\r\n",
        "import matplotlib.pyplot as plt\r\n",
        "model = ExtraTreesClassifier()\r\n",
        "model.fit(x,y)\r\n",
        "print(model.feature_importances_) \r\n",
        "#plot graph of feature importances for better visualization\r\n",
        "feat_importances = pd.Series(model.feature_importances_, index=x.columns)\r\n",
        "feat_importances.nlargest(20).plot(kind='bar')\r\n",
        "plt.show()"
      ],
      "execution_count": 16,
      "outputs": [
        {
          "output_type": "stream",
          "text": [
            "[0.25556454 0.15211751 0.14280218 0.11305172 0.10230578 0.1153975\n",
            " 0.11876077]\n"
          ],
          "name": "stdout"
        },
        {
          "output_type": "display_data",
          "data": {
            "image/png": "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\n",
            "text/plain": [
              "<Figure size 432x288 with 1 Axes>"
            ]
          },
          "metadata": {
            "tags": [],
            "needs_background": "light"
          }
        }
      ]
    },
    {
      "cell_type": "markdown",
      "metadata": {
        "id": "8n7DBbO_Sx_g"
      },
      "source": [
        "##clustering"
      ]
    },
    {
      "cell_type": "code",
      "metadata": {
        "colab": {
          "base_uri": "https://localhost:8080/"
        },
        "id": "FHmHKChPVtmZ",
        "outputId": "abd37ab6-cb12-4c3b-e998-203889477954"
      },
      "source": [
        "#clustering\r\n",
        "x=data[['Glucose', 'BMI', 'Age', 'Pregnancies', 'SkinThickness',\r\n",
        "       'Insulin', 'DiabetesPedigreeFunction']]\r\n",
        "y=data.iloc[:,8]\r\n",
        "x_train,x_test,y_train,y_test=train_test_split(x,y,test_size=0.10,random_state=0)\r\n",
        "kmeans = KMeans(n_clusters=2, random_state=0).fit(x)\r\n",
        "kmeans.labels_\r\n",
        "count = 0\r\n",
        "for first,second in zip(y,kmeans.labels_):\r\n",
        "  #print(first,second)\r\n",
        "  if first==second:\r\n",
        "      count+=1\r\n",
        "\r\n",
        "print(count)\r\n",
        "print(\"Accuracy: \",(count / len(y)) * 100)"
      ],
      "execution_count": 17,
      "outputs": [
        {
          "output_type": "stream",
          "text": [
            "255\n",
            "Accuracy:  33.203125\n"
          ],
          "name": "stdout"
        }
      ]
    },
    {
      "cell_type": "markdown",
      "metadata": {
        "id": "AKreRnmMwnv_"
      },
      "source": [
        "##Classification Task:Logistic Regression"
      ]
    },
    {
      "cell_type": "code",
      "metadata": {
        "id": "6zS_YfCMwcyX"
      },
      "source": [
        "#creation of algorithms.\r\n",
        "x=data[['Glucose', 'BMI', 'Age', 'Pregnancies', 'SkinThickness',\r\n",
        "       'Insulin', 'DiabetesPedigreeFunction']]\r\n",
        "y=data.iloc[:,8]"
      ],
      "execution_count": 18,
      "outputs": []
    },
    {
      "cell_type": "code",
      "metadata": {
        "id": "RHLghE4rwsyL"
      },
      "source": [
        "x_train,x_test,y_train,y_test=train_test_split(x,y,test_size=0.10,random_state=0)"
      ],
      "execution_count": 19,
      "outputs": []
    },
    {
      "cell_type": "code",
      "metadata": {
        "id": "FxUuySWgww2g"
      },
      "source": [
        "#log reg.\r\n",
        "log_reg = LogisticRegression(random_state=1, max_iter=100).fit(x_train, y_train)\r\n",
        "predict=log_reg.predict(x_test)"
      ],
      "execution_count": 20,
      "outputs": []
    },
    {
      "cell_type": "code",
      "metadata": {
        "id": "Nq4yOx4qwxWo",
        "colab": {
          "base_uri": "https://localhost:8080/"
        },
        "outputId": "15991934-ecb8-4ef4-987e-a602ede136d5"
      },
      "source": [
        "#predict for Logistic Reg.\r\n",
        "predict"
      ],
      "execution_count": 21,
      "outputs": [
        {
          "output_type": "execute_result",
          "data": {
            "text/plain": [
              "array([1, 0, 0, 1, 0, 0, 1, 1, 0, 0, 1, 1, 0, 0, 0, 0, 1, 0, 0, 0, 1, 0,\n",
              "       0, 0, 0, 0, 0, 1, 0, 0, 0, 0, 0, 0, 0, 1, 1, 0, 0, 1, 0, 0, 0, 1,\n",
              "       1, 0, 0, 0, 0, 0, 0, 0, 1, 0, 0, 0, 0, 1, 0, 0, 1, 0, 0, 1, 1, 1,\n",
              "       1, 0, 0, 0, 0, 0, 0, 1, 1, 0, 0])"
            ]
          },
          "metadata": {
            "tags": []
          },
          "execution_count": 21
        }
      ]
    },
    {
      "cell_type": "code",
      "metadata": {
        "id": "8WUknUV5wyxF",
        "colab": {
          "base_uri": "https://localhost:8080/"
        },
        "outputId": "f19a8e71-9d62-442e-e82e-2404af02294b"
      },
      "source": [
        "print(\"Logistic Regression Classifier Training Accuracy: \",log_reg.score(x_test,y_test))"
      ],
      "execution_count": 22,
      "outputs": [
        {
          "output_type": "stream",
          "text": [
            "Logistic Regression Classifier Training Accuracy:  0.8831168831168831\n"
          ],
          "name": "stdout"
        }
      ]
    },
    {
      "cell_type": "markdown",
      "metadata": {
        "id": "bV9dyaS8w2Db"
      },
      "source": [
        "##Classification Task:Random Forest"
      ]
    },
    {
      "cell_type": "code",
      "metadata": {
        "id": "Jm8xsTc9w4xN",
        "colab": {
          "base_uri": "https://localhost:8080/"
        },
        "outputId": "49243fd7-85b8-467a-b816-7a901c25d8a2"
      },
      "source": [
        "#randomforest\r\n",
        "forest=RandomForestClassifier(n_estimators=20,criterion=\"entropy\",random_state=0)\r\n",
        "forest.fit(x_train,y_train)"
      ],
      "execution_count": 23,
      "outputs": [
        {
          "output_type": "execute_result",
          "data": {
            "text/plain": [
              "RandomForestClassifier(bootstrap=True, ccp_alpha=0.0, class_weight=None,\n",
              "                       criterion='entropy', max_depth=None, max_features='auto',\n",
              "                       max_leaf_nodes=None, max_samples=None,\n",
              "                       min_impurity_decrease=0.0, min_impurity_split=None,\n",
              "                       min_samples_leaf=1, min_samples_split=2,\n",
              "                       min_weight_fraction_leaf=0.0, n_estimators=20,\n",
              "                       n_jobs=None, oob_score=False, random_state=0, verbose=0,\n",
              "                       warm_start=False)"
            ]
          },
          "metadata": {
            "tags": []
          },
          "execution_count": 23
        }
      ]
    },
    {
      "cell_type": "code",
      "metadata": {
        "id": "pWqMr2qNw6Ob",
        "colab": {
          "base_uri": "https://localhost:8080/"
        },
        "outputId": "2af1a676-a6e0-4e9e-a3fa-38a9445ac443"
      },
      "source": [
        "#predict for forest classifier.\r\n",
        "y_pred=forest.predict(x_test)\r\n",
        "predict"
      ],
      "execution_count": 24,
      "outputs": [
        {
          "output_type": "execute_result",
          "data": {
            "text/plain": [
              "array([1, 0, 0, 1, 0, 0, 1, 1, 0, 0, 1, 1, 0, 0, 0, 0, 1, 0, 0, 0, 1, 0,\n",
              "       0, 0, 0, 0, 0, 1, 0, 0, 0, 0, 0, 0, 0, 1, 1, 0, 0, 1, 0, 0, 0, 1,\n",
              "       1, 0, 0, 0, 0, 0, 0, 0, 1, 0, 0, 0, 0, 1, 0, 0, 1, 0, 0, 1, 1, 1,\n",
              "       1, 0, 0, 0, 0, 0, 0, 1, 1, 0, 0])"
            ]
          },
          "metadata": {
            "tags": []
          },
          "execution_count": 24
        }
      ]
    },
    {
      "cell_type": "code",
      "metadata": {
        "id": "jM0NUlTQw7o1",
        "colab": {
          "base_uri": "https://localhost:8080/"
        },
        "outputId": "1515bc89-461a-4f9f-a16a-6c19355c1942"
      },
      "source": [
        "print(\"Random Forest Classifier Training Accuracy: \",forest.score(x_test,y_test))"
      ],
      "execution_count": 25,
      "outputs": [
        {
          "output_type": "stream",
          "text": [
            "Random Forest Classifier Training Accuracy:  0.7792207792207793\n"
          ],
          "name": "stdout"
        }
      ]
    },
    {
      "cell_type": "markdown",
      "metadata": {
        "id": "hGB7PY0bw-Iv"
      },
      "source": [
        "##Classification Task:KNN Classifier"
      ]
    },
    {
      "cell_type": "code",
      "metadata": {
        "id": "Oc141ot-xAhd",
        "colab": {
          "base_uri": "https://localhost:8080/"
        },
        "outputId": "31f1a2dc-2545-4a04-9c12-399c3900f333"
      },
      "source": [
        "#knn\r\n",
        "KNN=KNeighborsClassifier(n_neighbors=1)\r\n",
        "KNN.fit(x_train,y_train)"
      ],
      "execution_count": 26,
      "outputs": [
        {
          "output_type": "execute_result",
          "data": {
            "text/plain": [
              "KNeighborsClassifier(algorithm='auto', leaf_size=30, metric='minkowski',\n",
              "                     metric_params=None, n_jobs=None, n_neighbors=1, p=2,\n",
              "                     weights='uniform')"
            ]
          },
          "metadata": {
            "tags": []
          },
          "execution_count": 26
        }
      ]
    },
    {
      "cell_type": "code",
      "metadata": {
        "id": "2O59w6LkxCXA"
      },
      "source": [
        "#predict for KNN.\r\n",
        "y_pred=KNN.predict(x_test)"
      ],
      "execution_count": 27,
      "outputs": []
    },
    {
      "cell_type": "code",
      "metadata": {
        "id": "zfVdgKkZxDoE",
        "colab": {
          "base_uri": "https://localhost:8080/"
        },
        "outputId": "ee49ab28-27bc-4ccc-b60d-a989b5208de5"
      },
      "source": [
        "from sklearn.metrics import classification_report,confusion_matrix\r\n",
        "print(confusion_matrix(y_test,y_pred))\r\n",
        "print(classification_report(y_test,y_pred))"
      ],
      "execution_count": 28,
      "outputs": [
        {
          "output_type": "stream",
          "text": [
            "[[41 10]\n",
            " [14 12]]\n",
            "              precision    recall  f1-score   support\n",
            "\n",
            "           0       0.75      0.80      0.77        51\n",
            "           1       0.55      0.46      0.50        26\n",
            "\n",
            "    accuracy                           0.69        77\n",
            "   macro avg       0.65      0.63      0.64        77\n",
            "weighted avg       0.68      0.69      0.68        77\n",
            "\n"
          ],
          "name": "stdout"
        }
      ]
    },
    {
      "cell_type": "code",
      "metadata": {
        "id": "n72YZ6OOxE4z",
        "colab": {
          "base_uri": "https://localhost:8080/"
        },
        "outputId": "bdcce661-9063-4052-9ec1-18e204e8862a"
      },
      "source": [
        "print(\"KNN classifier training accuracy: \",KNN.score(x_test,y_test))"
      ],
      "execution_count": 29,
      "outputs": [
        {
          "output_type": "stream",
          "text": [
            "KNN classifier training accuracy:  0.6883116883116883\n"
          ],
          "name": "stdout"
        }
      ]
    },
    {
<<<<<<< HEAD
=======
      "cell_type": "code",
      "metadata": {
        "id": "tN-R8bV2BjPd"
      },
      "source": [
        "import numpy as np\r\n",
        "import pandas as pd\r\n",
        "import seaborn as sns\r\n",
        "from sklearn.model_selection import cross_val_score\r\n",
        "from sklearn.model_selection import train_test_split\r\n",
        "import warnings\r\n",
        "import scipy.stats\r\n",
        "warnings.filterwarnings('ignore')\r\n",
        "from sklearn.linear_model import LogisticRegression\r\n",
        "from sklearn.metrics import roc_curve\r\n",
        "from sklearn.metrics import roc_auc_score\r\n",
        "from matplotlib import pyplot\r\n",
        "import matplotlib.pyplot as plt\r\n"
      ],
      "execution_count": null,
      "outputs": []
    },
    {
      "cell_type": "code",
      "metadata": {
        "colab": {
          "base_uri": "https://localhost:8080/",
          "height": 195
        },
        "id": "Th_PIz9mAe90",
        "outputId": "fc0fb1a9-7264-44c8-92e8-0f6a1bbb270f"
      },
      "source": [
        "data = pd.read_csv(\"diabetes.csv\")\r\n",
        "data.head()"
      ],
      "execution_count": null,
      "outputs": [
        {
          "output_type": "execute_result",
          "data": {
            "text/html": [
              "<div>\n",
              "<style scoped>\n",
              "    .dataframe tbody tr th:only-of-type {\n",
              "        vertical-align: middle;\n",
              "    }\n",
              "\n",
              "    .dataframe tbody tr th {\n",
              "        vertical-align: top;\n",
              "    }\n",
              "\n",
              "    .dataframe thead th {\n",
              "        text-align: right;\n",
              "    }\n",
              "</style>\n",
              "<table border=\"1\" class=\"dataframe\">\n",
              "  <thead>\n",
              "    <tr style=\"text-align: right;\">\n",
              "      <th></th>\n",
              "      <th>Pregnancies</th>\n",
              "      <th>Glucose</th>\n",
              "      <th>BloodPressure</th>\n",
              "      <th>SkinThickness</th>\n",
              "      <th>Insulin</th>\n",
              "      <th>BMI</th>\n",
              "      <th>DiabetesPedigreeFunction</th>\n",
              "      <th>Age</th>\n",
              "      <th>Outcome</th>\n",
              "    </tr>\n",
              "  </thead>\n",
              "  <tbody>\n",
              "    <tr>\n",
              "      <th>0</th>\n",
              "      <td>6</td>\n",
              "      <td>148</td>\n",
              "      <td>72</td>\n",
              "      <td>35</td>\n",
              "      <td>0</td>\n",
              "      <td>33.6</td>\n",
              "      <td>0.627</td>\n",
              "      <td>50</td>\n",
              "      <td>1</td>\n",
              "    </tr>\n",
              "    <tr>\n",
              "      <th>1</th>\n",
              "      <td>1</td>\n",
              "      <td>85</td>\n",
              "      <td>66</td>\n",
              "      <td>29</td>\n",
              "      <td>0</td>\n",
              "      <td>26.6</td>\n",
              "      <td>0.351</td>\n",
              "      <td>31</td>\n",
              "      <td>0</td>\n",
              "    </tr>\n",
              "    <tr>\n",
              "      <th>2</th>\n",
              "      <td>8</td>\n",
              "      <td>183</td>\n",
              "      <td>64</td>\n",
              "      <td>0</td>\n",
              "      <td>0</td>\n",
              "      <td>23.3</td>\n",
              "      <td>0.672</td>\n",
              "      <td>32</td>\n",
              "      <td>1</td>\n",
              "    </tr>\n",
              "    <tr>\n",
              "      <th>3</th>\n",
              "      <td>1</td>\n",
              "      <td>89</td>\n",
              "      <td>66</td>\n",
              "      <td>23</td>\n",
              "      <td>94</td>\n",
              "      <td>28.1</td>\n",
              "      <td>0.167</td>\n",
              "      <td>21</td>\n",
              "      <td>0</td>\n",
              "    </tr>\n",
              "    <tr>\n",
              "      <th>4</th>\n",
              "      <td>0</td>\n",
              "      <td>137</td>\n",
              "      <td>40</td>\n",
              "      <td>35</td>\n",
              "      <td>168</td>\n",
              "      <td>43.1</td>\n",
              "      <td>2.288</td>\n",
              "      <td>33</td>\n",
              "      <td>1</td>\n",
              "    </tr>\n",
              "  </tbody>\n",
              "</table>\n",
              "</div>"
            ],
            "text/plain": [
              "   Pregnancies  Glucose  BloodPressure  ...  DiabetesPedigreeFunction  Age  Outcome\n",
              "0            6      148             72  ...                     0.627   50        1\n",
              "1            1       85             66  ...                     0.351   31        0\n",
              "2            8      183             64  ...                     0.672   32        1\n",
              "3            1       89             66  ...                     0.167   21        0\n",
              "4            0      137             40  ...                     2.288   33        1\n",
              "\n",
              "[5 rows x 9 columns]"
            ]
          },
          "metadata": {
            "tags": []
          },
          "execution_count": 2
        }
      ]
    },
    {
      "cell_type": "markdown",
      "metadata": {
        "id": "T-YDYdufBQpG"
      },
      "source": [
        "##Correlation Analysis"
      ]
    },
    {
      "cell_type": "markdown",
      "metadata": {
        "id": "XPjC1TrfJOTJ"
      },
      "source": [
        ""
      ]
    },
    {
      "cell_type": "code",
      "metadata": {
        "colab": {
          "base_uri": "https://localhost:8080/",
          "height": 314
        },
        "id": "QkDVLzF3AscN",
        "outputId": "d3682b79-0208-4b9f-97db-391c606f0e92"
      },
      "source": [
        "#The measure of the relationship between them.\r\n",
        "data.corr()"
      ],
      "execution_count": null,
      "outputs": [
        {
          "output_type": "execute_result",
          "data": {
            "text/html": [
              "<div>\n",
              "<style scoped>\n",
              "    .dataframe tbody tr th:only-of-type {\n",
              "        vertical-align: middle;\n",
              "    }\n",
              "\n",
              "    .dataframe tbody tr th {\n",
              "        vertical-align: top;\n",
              "    }\n",
              "\n",
              "    .dataframe thead th {\n",
              "        text-align: right;\n",
              "    }\n",
              "</style>\n",
              "<table border=\"1\" class=\"dataframe\">\n",
              "  <thead>\n",
              "    <tr style=\"text-align: right;\">\n",
              "      <th></th>\n",
              "      <th>Pregnancies</th>\n",
              "      <th>Glucose</th>\n",
              "      <th>BloodPressure</th>\n",
              "      <th>SkinThickness</th>\n",
              "      <th>Insulin</th>\n",
              "      <th>BMI</th>\n",
              "      <th>DiabetesPedigreeFunction</th>\n",
              "      <th>Age</th>\n",
              "      <th>Outcome</th>\n",
              "    </tr>\n",
              "  </thead>\n",
              "  <tbody>\n",
              "    <tr>\n",
              "      <th>Pregnancies</th>\n",
              "      <td>1.000000</td>\n",
              "      <td>0.129459</td>\n",
              "      <td>0.141282</td>\n",
              "      <td>-0.081672</td>\n",
              "      <td>-0.073535</td>\n",
              "      <td>0.017683</td>\n",
              "      <td>-0.033523</td>\n",
              "      <td>0.544341</td>\n",
              "      <td>0.221898</td>\n",
              "    </tr>\n",
              "    <tr>\n",
              "      <th>Glucose</th>\n",
              "      <td>0.129459</td>\n",
              "      <td>1.000000</td>\n",
              "      <td>0.152590</td>\n",
              "      <td>0.057328</td>\n",
              "      <td>0.331357</td>\n",
              "      <td>0.221071</td>\n",
              "      <td>0.137337</td>\n",
              "      <td>0.263514</td>\n",
              "      <td>0.466581</td>\n",
              "    </tr>\n",
              "    <tr>\n",
              "      <th>BloodPressure</th>\n",
              "      <td>0.141282</td>\n",
              "      <td>0.152590</td>\n",
              "      <td>1.000000</td>\n",
              "      <td>0.207371</td>\n",
              "      <td>0.088933</td>\n",
              "      <td>0.281805</td>\n",
              "      <td>0.041265</td>\n",
              "      <td>0.239528</td>\n",
              "      <td>0.065068</td>\n",
              "    </tr>\n",
              "    <tr>\n",
              "      <th>SkinThickness</th>\n",
              "      <td>-0.081672</td>\n",
              "      <td>0.057328</td>\n",
              "      <td>0.207371</td>\n",
              "      <td>1.000000</td>\n",
              "      <td>0.436783</td>\n",
              "      <td>0.392573</td>\n",
              "      <td>0.183928</td>\n",
              "      <td>-0.113970</td>\n",
              "      <td>0.074752</td>\n",
              "    </tr>\n",
              "    <tr>\n",
              "      <th>Insulin</th>\n",
              "      <td>-0.073535</td>\n",
              "      <td>0.331357</td>\n",
              "      <td>0.088933</td>\n",
              "      <td>0.436783</td>\n",
              "      <td>1.000000</td>\n",
              "      <td>0.197859</td>\n",
              "      <td>0.185071</td>\n",
              "      <td>-0.042163</td>\n",
              "      <td>0.130548</td>\n",
              "    </tr>\n",
              "    <tr>\n",
              "      <th>BMI</th>\n",
              "      <td>0.017683</td>\n",
              "      <td>0.221071</td>\n",
              "      <td>0.281805</td>\n",
              "      <td>0.392573</td>\n",
              "      <td>0.197859</td>\n",
              "      <td>1.000000</td>\n",
              "      <td>0.140647</td>\n",
              "      <td>0.036242</td>\n",
              "      <td>0.292695</td>\n",
              "    </tr>\n",
              "    <tr>\n",
              "      <th>DiabetesPedigreeFunction</th>\n",
              "      <td>-0.033523</td>\n",
              "      <td>0.137337</td>\n",
              "      <td>0.041265</td>\n",
              "      <td>0.183928</td>\n",
              "      <td>0.185071</td>\n",
              "      <td>0.140647</td>\n",
              "      <td>1.000000</td>\n",
              "      <td>0.033561</td>\n",
              "      <td>0.173844</td>\n",
              "    </tr>\n",
              "    <tr>\n",
              "      <th>Age</th>\n",
              "      <td>0.544341</td>\n",
              "      <td>0.263514</td>\n",
              "      <td>0.239528</td>\n",
              "      <td>-0.113970</td>\n",
              "      <td>-0.042163</td>\n",
              "      <td>0.036242</td>\n",
              "      <td>0.033561</td>\n",
              "      <td>1.000000</td>\n",
              "      <td>0.238356</td>\n",
              "    </tr>\n",
              "    <tr>\n",
              "      <th>Outcome</th>\n",
              "      <td>0.221898</td>\n",
              "      <td>0.466581</td>\n",
              "      <td>0.065068</td>\n",
              "      <td>0.074752</td>\n",
              "      <td>0.130548</td>\n",
              "      <td>0.292695</td>\n",
              "      <td>0.173844</td>\n",
              "      <td>0.238356</td>\n",
              "      <td>1.000000</td>\n",
              "    </tr>\n",
              "  </tbody>\n",
              "</table>\n",
              "</div>"
            ],
            "text/plain": [
              "                          Pregnancies   Glucose  ...       Age   Outcome\n",
              "Pregnancies                  1.000000  0.129459  ...  0.544341  0.221898\n",
              "Glucose                      0.129459  1.000000  ...  0.263514  0.466581\n",
              "BloodPressure                0.141282  0.152590  ...  0.239528  0.065068\n",
              "SkinThickness               -0.081672  0.057328  ... -0.113970  0.074752\n",
              "Insulin                     -0.073535  0.331357  ... -0.042163  0.130548\n",
              "BMI                          0.017683  0.221071  ...  0.036242  0.292695\n",
              "DiabetesPedigreeFunction    -0.033523  0.137337  ...  0.033561  0.173844\n",
              "Age                          0.544341  0.263514  ...  1.000000  0.238356\n",
              "Outcome                      0.221898  0.466581  ...  0.238356  1.000000\n",
              "\n",
              "[9 rows x 9 columns]"
            ]
          },
          "metadata": {
            "tags": []
          },
          "execution_count": 3
        }
      ]
    },
    {
      "cell_type": "code",
      "metadata": {
        "colab": {
          "base_uri": "https://localhost:8080/",
          "height": 407
        },
        "id": "eQBx1oQ9AyJ3",
        "outputId": "ee0d3b53-e74a-48c5-dde4-80bb7511f341"
      },
      "source": [
        "#We tried to show each feature among itself.\r\n",
        "sns.heatmap(data.corr(),annot=True)"
      ],
      "execution_count": null,
      "outputs": [
        {
          "output_type": "execute_result",
          "data": {
            "text/plain": [
              "<matplotlib.axes._subplots.AxesSubplot at 0x7f1739c87550>"
            ]
          },
          "metadata": {
            "tags": []
          },
          "execution_count": 4
        },
        {
          "output_type": "display_data",
          "data": {
            "image/png": "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\n",
            "text/plain": [
              "<Figure size 432x288 with 2 Axes>"
            ]
          },
          "metadata": {
            "tags": [],
            "needs_background": "light"
          }
        }
      ]
    },
    {
>>>>>>> 1dac1c2bf5e988c8e4e9698c94cb84c7c4eb98f2
      "cell_type": "markdown",
      "metadata": {
        "id": "Xhik8_jWBMRz"
      },
      "source": [
        "##Compare Performance"
      ]
    },
    {
      "cell_type": "code",
      "metadata": {
<<<<<<< HEAD
        "id": "MOkQY1HLA2PS"
=======
        "colab": {
          "base_uri": "https://localhost:8080/",
          "height": 212
        },
        "id": "MOkQY1HLA2PS",
        "outputId": "98a6ff20-d23b-48e4-b10b-c5972aed77de"
>>>>>>> 1dac1c2bf5e988c8e4e9698c94cb84c7c4eb98f2
      },
      "source": [
        "#performance\r\n",
        "KNN_predict =[0 for _ in range(len(y_test)) ]\r\n",
        "log_reg_predict=[0 for _ in range(len(y_test)) ]\r\n",
        "forest_predict=[0 for _ in range(len(y_test)) ]"
      ],
<<<<<<< HEAD
      "execution_count": 30,
      "outputs": []
=======
      "execution_count": null,
      "outputs": [
        {
          "output_type": "error",
          "ename": "NameError",
          "evalue": "ignored",
          "traceback": [
            "\u001b[0;31m---------------------------------------------------------------------------\u001b[0m",
            "\u001b[0;31mNameError\u001b[0m                                 Traceback (most recent call last)",
            "\u001b[0;32m<ipython-input-5-dfe35ddb4014>\u001b[0m in \u001b[0;36m<module>\u001b[0;34m()\u001b[0m\n\u001b[1;32m      1\u001b[0m \u001b[0;31m#performance\u001b[0m\u001b[0;34m\u001b[0m\u001b[0;34m\u001b[0m\u001b[0;34m\u001b[0m\u001b[0m\n\u001b[0;32m----> 2\u001b[0;31m \u001b[0mKNN_predict\u001b[0m \u001b[0;34m=\u001b[0m\u001b[0;34m[\u001b[0m\u001b[0;36m0\u001b[0m \u001b[0;32mfor\u001b[0m \u001b[0m_\u001b[0m \u001b[0;32min\u001b[0m \u001b[0mrange\u001b[0m\u001b[0;34m(\u001b[0m\u001b[0mlen\u001b[0m\u001b[0;34m(\u001b[0m\u001b[0my_test\u001b[0m\u001b[0;34m)\u001b[0m\u001b[0;34m)\u001b[0m \u001b[0;34m]\u001b[0m\u001b[0;34m\u001b[0m\u001b[0;34m\u001b[0m\u001b[0m\n\u001b[0m\u001b[1;32m      3\u001b[0m \u001b[0mlog_reg_predict\u001b[0m\u001b[0;34m=\u001b[0m\u001b[0;34m[\u001b[0m\u001b[0;36m0\u001b[0m \u001b[0;32mfor\u001b[0m \u001b[0m_\u001b[0m \u001b[0;32min\u001b[0m \u001b[0mrange\u001b[0m\u001b[0;34m(\u001b[0m\u001b[0mlen\u001b[0m\u001b[0;34m(\u001b[0m\u001b[0my_test\u001b[0m\u001b[0;34m)\u001b[0m\u001b[0;34m)\u001b[0m \u001b[0;34m]\u001b[0m\u001b[0;34m\u001b[0m\u001b[0;34m\u001b[0m\u001b[0m\n\u001b[1;32m      4\u001b[0m \u001b[0mforest_predict\u001b[0m\u001b[0;34m=\u001b[0m\u001b[0;34m[\u001b[0m\u001b[0;36m0\u001b[0m \u001b[0;32mfor\u001b[0m \u001b[0m_\u001b[0m \u001b[0;32min\u001b[0m \u001b[0mrange\u001b[0m\u001b[0;34m(\u001b[0m\u001b[0mlen\u001b[0m\u001b[0;34m(\u001b[0m\u001b[0my_test\u001b[0m\u001b[0;34m)\u001b[0m\u001b[0;34m)\u001b[0m \u001b[0;34m]\u001b[0m\u001b[0;34m\u001b[0m\u001b[0;34m\u001b[0m\u001b[0m\n",
            "\u001b[0;31mNameError\u001b[0m: name 'y_test' is not defined"
          ]
        }
      ]
>>>>>>> 1dac1c2bf5e988c8e4e9698c94cb84c7c4eb98f2
    },
    {
      "cell_type": "code",
      "metadata": {
        "id": "_DyXOEEpA4y1"
      },
      "source": [
        "model1=KNN.fit(x_train,y_train)\r\n",
        "model2=log_reg.fit(x_train,y_train)\r\n",
        "model3=forest.fit(x_train,y_train)"
      ],
<<<<<<< HEAD
      "execution_count": 31,
=======
      "execution_count": null,
>>>>>>> 1dac1c2bf5e988c8e4e9698c94cb84c7c4eb98f2
      "outputs": []
    },
    {
      "cell_type": "code",
      "metadata": {
        "id": "2PUDLRxnA6Vl"
      },
      "source": [
        "KNN_predict=model1.predict_proba(x_test)\r\n",
        "log_reg_predict=model2.predict_proba(x_test)\r\n",
        "forest_predict=model3.predict_proba(x_test)"
      ],
<<<<<<< HEAD
      "execution_count": 32,
=======
      "execution_count": null,
>>>>>>> 1dac1c2bf5e988c8e4e9698c94cb84c7c4eb98f2
      "outputs": []
    },
    {
      "cell_type": "code",
      "metadata": {
        "id": "vu_FKQBUA8JZ"
      },
      "source": [
        "KNN_predict=KNN_predict[:,1]\r\n",
        "log_reg_predict=log_reg_predict[:,1]\r\n",
        "forest_predict=forest_predict[:,1]"
      ],
<<<<<<< HEAD
      "execution_count": 33,
=======
      "execution_count": null,
>>>>>>> 1dac1c2bf5e988c8e4e9698c94cb84c7c4eb98f2
      "outputs": []
    },
    {
      "cell_type": "code",
      "metadata": {
        "id": "8ROqNtMvBC97"
      },
      "source": [
        "KNN_auc=roc_auc_score(y_test,KNN_predict)\r\n",
        "log_reg_auc=roc_auc_score(y_test,log_reg_predict)\r\n",
        "forest_auc=roc_auc_score(y_test,forest_predict)"
      ],
<<<<<<< HEAD
      "execution_count": 34,
=======
      "execution_count": null,
>>>>>>> 1dac1c2bf5e988c8e4e9698c94cb84c7c4eb98f2
      "outputs": []
    },
    {
      "cell_type": "code",
      "metadata": {
<<<<<<< HEAD
        "id": "xlzljI7SBDYd",
        "colab": {
          "base_uri": "https://localhost:8080/"
        },
        "outputId": "2e4e5368-0831-4369-aacb-c38ea40e2380"
=======
        "id": "xlzljI7SBDYd"
>>>>>>> 1dac1c2bf5e988c8e4e9698c94cb84c7c4eb98f2
      },
      "source": [
        "print(\"KNN:ROC AUC=%.3f\"%(KNN_auc))\r\n",
        "print(\"log_reg:ROC AUC=%.3f\"%(log_reg_auc))\r\n",
        "print(\"forest:ROC AUC=%.3f\"%(forest_auc))"
      ],
<<<<<<< HEAD
      "execution_count": 35,
      "outputs": [
        {
          "output_type": "stream",
          "text": [
            "KNN:ROC AUC=0.633\n",
            "log_reg:ROC AUC=0.900\n",
            "forest:ROC AUC=0.840\n"
          ],
          "name": "stdout"
        }
      ]
=======
      "execution_count": null,
      "outputs": []
>>>>>>> 1dac1c2bf5e988c8e4e9698c94cb84c7c4eb98f2
    },
    {
      "cell_type": "code",
      "metadata": {
        "id": "L9MkbahvBDmo"
      },
      "source": [
        "KNN_fpr,KNN_tpr,_=roc_curve(y_test,KNN_predict)\r\n",
        "log_reg_fpr,log_reg_tpr,_=roc_curve(y_test,log_reg_predict)\r\n",
        "forest_fpr,forest_tpr,_=roc_curve(y_test,forest_predict)"
      ],
<<<<<<< HEAD
      "execution_count": 36,
=======
      "execution_count": null,
>>>>>>> 1dac1c2bf5e988c8e4e9698c94cb84c7c4eb98f2
      "outputs": []
    },
    {
      "cell_type": "code",
      "metadata": {
<<<<<<< HEAD
        "id": "7ZhMYj9lBI34",
        "colab": {
          "base_uri": "https://localhost:8080/",
          "height": 265
        },
        "outputId": "bc3a3465-c0fe-46a0-f8d0-d1106d1abe3a"
=======
        "id": "7ZhMYj9lBI34"
>>>>>>> 1dac1c2bf5e988c8e4e9698c94cb84c7c4eb98f2
      },
      "source": [
        "pyplot.plot(KNN_fpr,KNN_tpr,linestyle=\"--\",label=\"KNN\")\r\n",
        "pyplot.plot(log_reg_fpr,log_reg_tpr,marker=\".\",label=\"log_reg\")\r\n",
        "pyplot.plot(forest_fpr,forest_tpr,marker=\".\",label=\"forest\")\r\n",
        "pyplot.legend()\r\n",
        "pyplot.show()"
      ],
<<<<<<< HEAD
      "execution_count": 37,
      "outputs": [
        {
          "output_type": "display_data",
          "data": {
            "image/png": "iVBORw0KGgoAAAANSUhEUgAAAXQAAAD4CAYAAAD8Zh1EAAAABHNCSVQICAgIfAhkiAAAAAlwSFlzAAALEgAACxIB0t1+/AAAADh0RVh0U29mdHdhcmUAbWF0cGxvdGxpYiB2ZXJzaW9uMy4yLjIsIGh0dHA6Ly9tYXRwbG90bGliLm9yZy+WH4yJAAAgAElEQVR4nO3dd3xUVf7/8deZ9B6SkARIQkIJLUDAEJqAuoJgAbEsgq6uDXV1dbGyrq7YVlHUVX9YAAX1KzZQllUU10ILJQQMLRQhhYSSBAJpkDIz5/fHBAQkZICZuZnJ5/l48CCZezL3cwm8uTn3FKW1RgghhPszGV2AEEIIx5BAF0IIDyGBLoQQHkICXQghPIQEuhBCeAhvo04cFRWlExMTjTq9EEK4pXXr1h3QWrc+3THDAj0xMZGsrCyjTi+EEG5JKVXQ2DHpchFCCA8hgS6EEB5CAl0IITyEBLoQQngICXQhhPAQTQa6Uup9pVSJUmpzI8eVUuoNpdROpdRGpVRfx5cphBCiKfbcoc8BRp7h+Cigc8OvicDb51+WEOepMBOWv2L7XTQL2SXZzNo0i+ySbKNLMVT25rnMWngL2ZvnOvy9mxyHrrVeppRKPEOTMcCH2rYO72qlVLhSqo3Wep+DahTi7BRmwuzLwVoPygQxKeAXanRVLVY5FhZxhJfUISzY7iKvJJBY46bBGGaf+SjfeNehAd+D65gJpKZMcNj7O+JPtB1QeMLnRQ2v/S7QlVITsd3Fk5CQ4IBTC3Ea+cttYQ6grVBTLoHuAhY0BZjZQR07VD3bqWM79RQry8ntNPyHIyiD6jSS9m7Yf0Ip6tFk5S5udoFuN631DGAGQFpamuysIZwjcYjtzlxbwTsArp0F8elGV+VRymvL2XFox/Ff28u2s/PwTmottQB4K28SwxJJi+hCcqtkfJQPr//yOmarGR8vH2aOmElqdKrBV+FcZouV77bsp2tsCJ2iQ9i8p5yvlszkP3VzMKPx0ZDW4TKHntMRgb4HiD/h87iG14QwRny6rZulplzC/DxZrBYKKgtswV3WEN6HtrO/ev/xNq38WpEckcy4LuNIbpVMl4gudAjrgK+X70nv1bN1T7KKs0iLSfPoMD98pI5PMgv5cFU++8prmDi0A49f3o2UdmGk3PgwV21uS1buYtI6XObQu3NwTKAvBO5TSn0K9AfKpf9cGM4v1PZLwtxup9517yjbwc7DO6mx1ADgpbxICkuib3RfujTceXdp1YWogCiUaroDJTU61aODHOBfi7by4ap8auqtDOoYybNjUri4a/RJbVJTJjg8yI9pMtCVUp8AFwFRSqki4CnAB0Br/Q6wCLgc2AkcAW51SqVCCIewWC3srtzN9kPbj9917zi0g33Vv92HHbvrvr7L9XRpZQvvjuEdf3fX3dJZrZrVuQcZ2DESpRQmpRjTux23XphI11jXP7exZ5TL+CaOa+Beh1UkhHCYiroKdpTZukl+PfTr8b7uU++6+0T3YVyrccfvvFsHtLbrrrulqq41M399EXMy8sk9UM0ndw5gYMdIJo/qamhdLW/ckPAshZm2US2JQ07uXqmtsPWhF2Z6fLdLdkk2mfsySQhNQCnF9rKG8D60/aS77nC/cLq06sL1Xa4/3l3SIbwDfl5+BlbvXipq6nnzx1/5dG0hlTVmUuPDef2GVNISWxldGiCBLtxZY+PNaytg/0Zbmw9Gwy0LPS7U6y31bDqwiYW7FvLVr19hxXr82LG77tToVMa1+u1Bpdx1nxutNaWVtUSH+uPnbeLrjfu4qEs0tw5OpG9C8wjyYyTQhftqbLx5TflvbSx1tnZuHuhmq5mcgzlk7s8kc18m2aXZHDUfPamNQjGu6zgeTntY7rodoKbewn837GV2Rj7lR+tZ+shF+Hl78fPDF+Hv42V0eaclgS7cV2PjzQszbXfmljrw8rW1czMWq4Xth7aTuS+TzP2ZrC9ZT3V9NQCdwjsxttNY0mPT8ff2528//416az0+Jh+uSLpCwvw8lVbW8tHqAuauKeBAVR3JMcHcd0knjk2caa5hDhLowp01Nt48Pt3WzXK6vvVmyqqt7Dy883iAZxVnUVlXCUBiaCJXJF1Bept00mLSiAyIPOlrZ46Y2SLGdzub2WLF28vExqLDvPnTr1zSJZpbBycxuFOk23RVKdsgFddLS0vTsqeoOG+zr7D9fus3xtZxlrTW5FXk/Rbg+7M4VHsIgLjgONLbpJMem06/2H5EB0Y38W7iXJktVr7PKeb9FXmkJ0Xw6MiuWK2a3WVHSIwKMrq801JKrdNap53umNyhC+ECWmsKKwttfeD7M1m7fy0Hjh4AIDYoliFxQ0iPtYV4m+A2Blfr+cqP1PPp2t18uKqAPYePEh8RQEJEIAAmk2q2Yd4UCfSWrrFhf24iu76MLGsVaZvnOm32nd21lGSf1PWxt2rv8fDO3J95fLp8VEDU8fBOj00nLiTObX6k9xRPLdzMguy9DOgQwVNXdecP3WLwMrn/90C6XFoyN19mNqv+IBN9qjAr253JXztdT1L7YYbUkleex5u/vInZasakTET4R1B6tBSwzbrsF9vP1oXSph9JoUkS4C5ktWqW/lrK7Ix8nryiG51jQthZUkWd2Ur3tu7z9/0Y6XIRp+emy8wexMI8qpjtU019w11VPfDqrnmwa56xxQEWbSHEN4Tbe95Ov9h+dArvhEnJbo+uVl1r5sv1RcxemU9uaTXRIX4UHTpK55gQOkUHG12eU0igt2RutszsptJNzN02l8X5i6m31tMzJIltFblYsP1FfqLbbSR3cuxypPbacWgHz6167vjysE8PelpGnBio3mLlD68sZX9FDb3jwnj9hlRGpbTB19uz/2OVQG/J3GCZ2TpLHYvzF/PJtk/YdGATgd6BXJd8HTd0vYEOYR3I3jzXaUuRno0ekT1ICk2S4YMG0VqTmVfGT9tKmDyqKz5eJh4cnkzH6GD6JoS3mC4u6UNv6ZrpsL/i6mI+3/E583bMo6ymjMTQRMZ3Hc/ojqMJ9vXMH5fF2as1W/jvhn3Mzshjy94KwgJ8+PaBIbQNDzC6NKeRPnThFrTW/FLyC3O3zeXHgh+xaAtD44YyoesEBrQdIP3Q4iSb95Tz59mZHKiqo3N0MP8a25OxfdoR4Nt8Z3I6mwS6MFyNuYZFeYv4ZNsnbCvbRohvCDd2u5FxXccRHxLf9BuIFmPznnLKqusYmtyaTtHBDOwYxR/T4riwk32bbHg6CfSWopktM5tdks2Pu3+k9EgpK/auoLy2nM6tOvPUwKe4POlyAn0CXVaLaN7MFiv/yynm/Yw81uYfolubUIYmt8bfx4s3x/cxurxmRQK9JWhmy8z+L/9/PLzsYazatuRrv9h+3NP7HtJi0uQuS5zkm437+Neirew5fJS4VgE8cUU3/thPfmprjAR6S9BMlpk1W838X87/8fr614+HuQkTg9oOol9sP6edV7iXnSVVRAT5EhHki5dJER8RwD+v6s6lHjKb05kk0FuCZrDMbM7BHKasnMLWsq30ad2HnLIc25htkw9pMad9YC9aEKtVs6xhNufSHaXc/4fOPDg8mct6xDAyJdbo8tyGBHpLYOAys0fNR3kr+y0+yvmIcL9wpg2bxoj2I9hQukHGbAsA5q7ZzXsrctlVWk3rED8eHJ7MhP4JANIFd5Yk0FsKv1Dbr1NDOz7dad0sK/eu5JlVz7Cnag/Xdr6WSRdMIswvDIDU6FQJ8hasrLqOiCBfAJZsLyHIz5vXxvXmip5tPX42pzNJoAuHO1RziGlZ01i4ayHtQ9vz/mXvSx+5QGtNVsEhZmfk8f2WYv734DCSooJ4bVwqgb5ecjfuABLowmG01nyT9w0vZb5EZV0ld/a8k7t63yVborVwdWYrX2+07c25aU85YQE+3D4kiWA/W/wE+UkMOYr8STYXzl6X3MnjzfdU7eHZVc+SsTeDXlG9eGrQUyS3Snb4eYT7sFo1JpOisqaeyV9uIiEikOfHpjC2TzsCfSV6nEH+VJsDZ69L7sTx5marmY+3fsz07OkATE6fzA1dbsDL1HKnX7d0m/eUMzsjn72Hj/LJxAFEBvvx9V8vpHN0sHSrOJkEenPg7HXJnTTefFvZNp5a+RQ5B3MYGjeUJ/o/IduntVAWqz4+mzMzr4xAXy+uuyCOOrMVX28TyTEhRpfYIkigNwfOXpfcwePNj5qP8vaGt/lwy4eE+YXx8tCXuSzxMrn7asHmryvi0fkbaRcewD8ut83mDAvwMbqsFkcCvTlw9rrkDhxvvnrfap5e+TRFVUWM7TSWh9IeOj4UUbQcuaVVzFmZT892YVyfFs8VvdoQGuDNpd1i8PaSYYdGkUBvLhobJ+4o5zne/HDNYV7OepmFuxaSEJLAeyPeI71N89sQQziP1prlvx7g/Yw8lmwvxdfLRPhFtrHkQX7ejEyR7jajSaCLM9JasyhvES+tfYmK2gru6HkHd/W6C39vf6NLEy724Ocb+OqXPUQF+/G3SztzY//2tA6RIanNiQT6qZw9fLAxBi1jeyZ7q/by7OpnWbFnBSmRKcwYPoMuEV2MLku4yJ7DR/loVQETh3YgIsiXa/q248JOUVzZuw1+3jKKqTmyK9CVUiOB1wEvYJbW+sVTjicAHwDhDW0ma60XObhW53P28MHGGLSMbWMsVgtzt83lzV/eBOCxfo8xvut4GYrYAmitWVdwiPcz8li8pRitNb3iwri8ZxuGdG5tdHmiCU0GulLKC5gODAeKgLVKqYVa65wTmj0BfK61flsp1R1YBCQ6oV7ncvbwwca4eBnbM9letp0pK6ew+eBmhrQbwhMDnqBtcFtDahGuVVNvYdy7q9hQVE6ovzd3XJjEnwa2J66VbDbiLuy5Q08HdmqtcwGUUp8CY4ATA10Dx5IvDNjryCJdxtnDBxvjwmVsG1NjruGdDe8wZ8scwvzCmDpkKqOSRslQRA93oKqWVbsOclXvtvj7eNEnoRXXpcVzbV+ZzemO7PmOtQMKT/i8COh/SpspwPdKqb8CQcClp3sjpdREYCJAQkLC2dbqfM4ePnim8zp5GdszWbNvDc+seobdlbsZ03EMD6c9TLh/uEtrEK61Za9tNufC7L1YtGZAh0hah/gxZXQPo0sT58FR/wWPB+ZorV9RSg0EPlJKpWjdsC1NA631DGAGQFpamnbQuR3L2cMHG+PEZWwbU15bzrSsaSzYuYD4kHhmjpjJgDYDXFqDcK0dxZU8uWAza/LKCPDxYly/eG4ZlCijVTyEPYG+BzhxE7+4htdOdDswEkBrvUop5Q9EASWOKFI4ltaa7/K/48XMFymvLee2lNu4p/c9MhTRQ1XU1HOwqo6kqCDCA3woqazl8cu7Mi4tgbBAmc3pSewJ9LVAZ6VUErYgvwGYcEqb3cAfgDlKqW6AP1DqyEKFY+yr2sezq59l+Z7l9IjswbvD36VrRFejyxJOkHegmjkZeXyxroie7cL47K6BRIf689NDw+TZiIdqMtC11mal1H3AYmxDEt/XWm9RSj0DZGmtFwIPATOVUpOwPSD9s9a6eXapHNPYePNmOB7cEdYXr+e9Te+xev9qvJQXj6Q9wo3dbpShiB4oK7+Mt5bs4qdtJfh6mbiydxtuG5x0/LiEueeyqw+9YUz5olNe++cJH+cAgx1bmhM1Nt68mY0Hd5Ss/Vncvvh2rFgxKRMvDnuR4e2HG12WcKCjdRZMJvDz9mJDUTkbiw7zwB86c+OABKJDpCutpWiZ45IaG2/ejMaDO9Kr617Fiu35tEJRUFFgcEXCUfaVH+XDVQV8krmbx0fZVjm8sX8CNw1IkNmcLVDLDPTGxps3g/HgjrZw10I2HdiEl7L94/Yx+ZAWk2ZwVeJ8aK1Zv/swszPy+HbzfrTWjOgeS5dY25rj/j4S5C1Vywz0xsabGzwe3NG2HtzKM6ueIT02nb+k/oVfSn4hLSaN1OhUo0sT50Brfbz/e8rCLeQfrOb2C5P404D2xEfIbE7RUgMdGh9vbsB4cGcory1n0pJJhPuF89LQl4gMiOSCmAuMLkucg4NVtcxds5svf9nDgr8MJizQh3/fkEpsqL9ssCxOIn8bPJDFauGx5Y9RcqSEOSPnEBkQaXRJ4hxs3VfB7Iw8FmTvpc5sZWhyaw4frSMs0IeOrYONLk80QxLoHujtDW+TsSeDJwc8Sa/WvYwuR5yDwrIjjHp9OQE+Xlx/QRy3Dk6kU7TsyynOTALdwywpXMK7G9/l6k5Xc33y9UaXI+xUUVPPF1lFFFfU8Pjl3YiPCOT1G1IZltya8EBfo8sTbkIC3YPsrtjN48sfp1tEN/7R/x8ygcQN5B2o5oOV+XyRVUh1nYUBHSIwW6x4e5kYk9rO6PKEm5FA9xBH6o/wwM8PYDKZeO3i12RdFjfweVYhj83fiLdJcWWvttw6OJFecbLKpTh3EugeQGvNlFVT2HV4F+9c+g7tguXOrjk6WmdhQfYeOkQF0b9DJBd2iuKvF3fipgHtiQ6V/4DF+ZNA9wAfb/2Yb/O+5f4+9zOo3SCjyxGn2Fdu25tzbuZuDh+p56YBCfTvEEnb8AAeHCF7tArHkUB3c+uK1/FK1itcHH8xt/e83ehyxCme+zqH2Svz0VozvHsMtw5Oon9ShNFlCQ8lge7GSo6U8NCSh4gLieP5C5/HpExGl9Ti1ZmtLN6ynxE9YvDz9qJ9VBC3DU7k5oGJMptTOJ0EejORXZJNVnGW3VPzs/Zn8fiKx6msr2TWiFmE+MoYZSOVVdcxd00BH60uoLiilukT+nJFrzb8aUB7o0sTLYgEejOQXZLNrYtvxWw1Y1Im+rTuQ5hfWKPty2vLWV+yHo3Gx+RDVX2VC6sVJzpSZ+bphTksyN5DrdnKkM5RvHhNL4Yltza6NNECSaA3A59v/xyz1QyAVVspqCggIqDxftayo2Vo9PH2WcVZsuCWC1msml2lVSTHhBDg48WOkkquvSCOWwcl0jlGflISxpFAN9juit38WPAjCoVJmfAx+fDaxa+dMaCzS7K58/s7qbfWy3K4LlTZMJtzzsp8yqrrWPX3Swjx92H+3YMwmWQSlzCeBLqBjk0G8vH24bkhz1FQUWBXH3pqdCozR8w8qz53ce72lR9lxrJcvsgqoqrWzAXtW/HYyK4ENKw7LmEumgsJdIOcOhnobMePp0anSpA7kdaaI3UWgvy8OVhVx/+tLpDZnKLZk0A3iEwGap5q6i0s+GUPszPy6dE2lFfHpZLSLow1j19KRJAskiWaNwl0A8hkoOZnf3kNH63OZ+6a3Rw6Uk+3NqEMSY46flzCXLgDCXQnyS7JZlnRMlKjU0mJSjn++pp9a5iycgpRAVEyGagZOLat26zlubyXkcfwbrbZnAM6RMhqlcLtSKA7wbriddy2+Das2tpoG7PVzK7Du6Qf3AD1Fivfbt7P7Iw8HhyezJDOrZk4tAM3D0wkIVJmcwr3JYHuBG+uf/N4mCsUw+KGMajdIFbuWcnSoqVoNBZtkfHjLnaouo65mbv5aFUB+ytqSIwMpM5s+z7JaofCE0igO9j3+d+zrmQdXso2pM3H5MPtPW8nNTqVbhHdWL1vtYwfN4DWmqvfyqDg4BEu7BTF82NTuLhLtAw5FB5FAt2Bcg/n8mSGbR/PSX0nkV2afdI4cRk/7jpWq+bn7SX8J3svr/yxNz5eJqZc1YO24QF0iZXZnMIzSaA7SFVdFQ/8/AD+3v68OuxVYoJiSIv9/R24jB93rsqaeuatK+KDlfnkHzxCbKg/BQeP0Ck6mIu7RhtdnhBOJYHuAFprnsx4ksLKQmaOmElMUIzRJbVIu0qrGPP/MqiqNdMnIZyHRnRhZEosPl4ykki0DBLoDvD+5vf5YfcPPJz2MP1i+xldTouhtWZV7kH2l9dwTd84kiKDGNcvnit7taFPQiujyxPC5STQz9Pqfat545c3GJk4kpu732x0OS1CTb2F/2TbZnNu219JUlQQV6e2w2RSPHlld6PLE8IwdgW6Umok8DrgBczSWr94mjZ/BKYAGtigtZ7gwDqbpX1V+3h06aN0COvA04OelokoLrBo0z6eWLCZsuo6usaG8NK1vRid2lZGqwiBHYGulPICpgPDgSJgrVJqodY654Q2nYG/A4O11oeUUh7/9KnWUsukJZOot9bz2kWvEegjE1KcJbvwMK0CfWgfGUTb8AAuaN+KWwcnMrBDpPwnKsQJ7LlDTwd2aq1zAZRSnwJjgJwT2twJTNdaHwLQWpc4utDm5oU1L7Dl4BZev/h1EsMSjS7H49RbrHzXMJtz/e7D3Ng/gefH9iQ1PpyZN8v4fSFOx55AbwcUnvB5EdD/lDbJAEqpDGzdMlO01t+d+kZKqYnARICEhIRzqbdZmL9jPvN/nc+dPe/kkoRLjC7H48zJyOPdZbnsK6+hfWQgU67qznVp8UaXJUSz56iHot5AZ+AiIA5YppTqqbU+fGIjrfUMYAZAWlqadtC5XWrzgc08v+Z5BrUdxL2p9xpdjsfILa0iKSoIpRR5B6rp0DqI566W2ZxCnA17An0PcOLtUVzDaycqAtZoreuBPKXUDmwBv9YhVTYTZTVlTFoyidYBrZk6ZCpeJi+jS3JrVqtmyY4S3l+Rz4qdB/h04gAGdIjkn1f1wEtCXIizZk+grwU6K6WSsAX5DcCpI1gWAOOB2UqpKGxdMLmOLNRo64rX8UTGExw4coCPr/iYcH/ZteZc1dRb+GxtIXNW5pN3oJqYUD8euawLXRo2WJYwF+LcNBnoWmuzUuo+YDG2/vH3tdZblFLPAFla64UNx0YopXIAC/CI1vqgMwt3peySbO5YfAdmbcbb5E2dpc7oktxSTb0F/4Z9ON/48VcSIgN5Y3wfRslsTiEcwq4+dK31ImDRKa/984SPNfBgwy+Pk1WchVmbAdvsRFn21n5aa1bnljE7I48dxZX8+NBF+Pt48e3fhhAdIkvWCuFIMlPUDmkxaZiUCau2yrK3dqqpt7Bww15mZ+SzdV8FrQJ9mNA/gTqzlQBfLwlzIZxAAt0OqdGpXNj2QtaXrOftS9+Wu3M7rPj1AI/O20iXmBCmXtuTMantjne3CCGcQwLdThEBEQT7BkuYN2Jj0WFmZ+STGBnEA5d25uKu0Xw6cQD9k2RvTiFcRQJdnDOzxcriLcW8n5HHuoJDBPt5c8eQJMA2UmVAh0iDKxSiZZFAF+fsyf9s4ZPM3SREBPLPK7tzfVocIf4+RpclRIslgS7s9mtxJbNX5nPb4CQ6RQdz04AELukazSVdo2XsuBDNgAS6OCOrVbN0RynvZ+Sx/NcD+Hqb6JfYik7RwfRoG0aPtmFGlyiEaCCBLhpltWqufHMFOfsqiA7x4+ERyYxPTyAy2M/o0oQQpyGBLk5SWHaExVv2c8eQDphMiqv7tOWuYR0YldIGX2+ZzSlEcyaBLtBasybPNpvzfznFKKX4Q7cYkqKCmDi0o9HlCSHsJIHewuWWVnHf3F/I2VdBeKAPdw3ryJ8GtKdteIDRpQkhzpIEegtUUlnDnkNH6ZPQijZhAQT7efPCNT25OrUdAb4ym1MIdyWBbqeyo2VU1VWRXZLttrNFNxWV835GHl9v3Et8RCA/PjiMAF8vPr97oNGlCSEcQALdDtkl2azYuwKrtnLn93cyc8RMtwr1VbsO8sr328kqOESQrxc39m/PLYMSZUq+EB5GAt0OK/bYwhyg3lrvFsvnlh+pR5kg1N+Hsuo6iitreLJhNmeozOYUwiNJoNth1+FdAJgwNfvlc3eWVDI7I58v1+/h7mEdeeDSzoxMiWVkSqzM5hTCw0mgN2F72XZ+KvyJSxMupUdUD9Ji0prl3fnSHaW8tyKPZTtK8fU2cXVqWy5LiQFkSzchWgoJ9DPQWvNC5guE+oYyZdAUwvya1zT3OrP1+GSfj1bls21fBQ8NT2ZCf5nNKURLJIF+Bt/lf8e64nX8c+A/m1WYFx06woerCvg8q5D/3DuY9pFB/OuanoQH+MpsTiFaMAn0RhypP8K0rGl0i+jGNZ2uMboctNaszT/E7Iw8Fm/Zj1KKkSmxWLXtuGzpJoSQQG/ErE2zKDlSwivDXsHLZPxkm0NH6rlp1hoCfL2YOLQjNw+U2ZxCiJNJoJ/G7ordzNkyh6s6XGXoA1CzxcpnWYX8MS2eiCBf5tzWjz7xrWQ2pxDitKTD9TReWvsSPiYfJl0wydA6Zq3I4x9fbWb5r6UADOoYJWEuhGiUBPoplhUtY2nRUu7ufTetA1sbVseu0ipe/d8OLusRw8Vdog2rQwjhPiTQT1BnqeOltS+RGJrITd1uMqwOq1Uzef5GAny8eHZMikzRF0LYRfrQT/BRzkcUVBTw9qVv4+Nl3PT4j1YXsDb/ENOu7010qIxeEULYR+7QGxRXF/Puxne5KP4iLmx3oaG19E1oxa2DE7m2bztD6xBCuBfPv0MvzIT85ZA4BOLTf3u9tgJqym3H49N5bf1rWKwWHu33qHG1NugZF0bPuOYzkUkI4R48O9ALM2H25WCtB2WCmBTwC7WF+f6NtjYfjGb9mFf4JvcbJvaaSHxIvGHlfrZ2N9mFh3nqqh74+8hoFiHE2fHsLpf85bYwB9BW2x05/PY7YLHU8cLmGcQGxXJ7yu0GFGmzv7yG577eSm5pNb5env1tEUI4h2ffoScOsd2Zayt4B8C1s2zdLoWZ8MFosNQxLzSUbXVlvDzwZQJ9Ag0pU2vNEws2UW+1MvXaXphkdUQhxDmw61ZQKTVSKbVdKbVTKTX5DO2uVUpppVTzWDA8Pt3WzRLeHm5Z+Fsfenw63LKQw8Me4s3oWPrF9uOy9pcZVubCDXv5YWsJD4/oQmJUkGF1CCHcW5OBrpTyAqYDo4DuwHilVPfTtAsBHgDWOLrI8+IXCmHxJz8QBYhP5//5a6osNUxOn2zYWG+zxcrLi7eTGh/OrYOTDKlBCOEZ7OlySQd2aq1zAZRSnwJjgJxT2j0LTAUecWiFTrKtbBtf7PiCG7rcQHKrZMPq8PYy8enEAdRbtGxEIYQ4L/Z0ubQDCk/4vKjhteOUUn2BeK31N2d6I6XURKVUllIqq7S09KyLdRStNS+seYEw3zD+kvoXw2F2vm4AABhmSURBVOrYe/goWmviWgWSJF0tQojzdN7DKZRSJuBV4KGm2mqtZ2it07TWaa1bG7dOyqK8RawvWc8DfR8wbOOK8iP1jJmewbNfbzXk/EIIz2NPoO8BThycHdfw2jEhQAqwRCmVDwwAFjabB6OnOFJ/hFezXqV7ZHeu7nS1YXU8900OZdV1XCOzQYUQDmJPoK8FOiulkpRSvsANwMJjB7XW5VrrKK11otY6EVgNjNZaZzml4vP07sZ3KTlawuP9Hzds44qlO0r5Yl0Rdw3tQEo7mREqhHCMJgNda20G7gMWA1uBz7XWW5RSzyilRju7QEcqqCjgw5wPGd1xNL1b9zakhqpaM49/uYmOrYO4/w+dDalBCOGZ7JpYpLVeBCw65bV/NtL2ovMvyzmmZk7Fz8vP0I0rCg5WY9Wal67rLdP7hRAO5dkzRU+wtHApy/cs5+G0h4kKiDKsjh5tw1j6yMX4esv0fiGEY7WIVKlFM3XtVJLCkpjQdYIhNRyts/DeijzqzFYJcyGEU3h8smRTy/2UUFhZyOR+kw3buOK1H3bw7Nc5bCg6bMj5hRCez6O7XLJLsrlDFVMLmJTJsMW3sgsPM2t5LuPTE+iXGGFIDUIIz+fRd+hZxVnUAihA2z53tVqzhUfnbSAm1J+/X97V5ecXQrQcHh3oaTFpKAANvl6+pMW4fq7T9J92sqO4in+N7Umov3H7lAohPJ9Hd7kkhCagFQy0+vGXETNJjU51eQ3Du8diMiku7hrt8nMLIVoWjw70zP2ZANxLOL1dHOZaa5RSsj+oEMJlPLrLZc2+NQRrRQ98XX7ut5fuYvL8jdRbrC4/txCiZfL4QE/DH29cu874zpIq/v3Dr5QfrcdH9gcVQriIx6bN3qq9FFYW0l/7ufS8Fqvm0XkbCPT14ukxPVx6biFEy+axgb5mn20nvP74u/S8H6zMZ/3uw/zzyu5Eh7j23EKIls1jA331vtVE+kfSCdcNFaypt/DWkl1c1KU1Y/vIOudCCNfyyFEuWmsy92eS3iYdtWuLy87r7+PFgnsH4W0yGbbptBCi5fLIO/Rdh3dx4OgBBrQZ4LJz5h2oPr4/aGyYdLUIIVzPIwN9zf6G/vM2/V1yvn3lRxn95gqmfb/dJecTQojT8chAX71vNXHBcbQLdn4/ttaaf3y1GbNV88e0+Ka/QAghnMTjAt1sNZO1P8tld+f/yd7LT9tKePiyLrSPDHLJOYUQ4nQ8LtBzDuZQVV/lkv7z0spapvx3C30TwvnzoESnn08IIc7E4wL92Pjz9DbpTj/XnsNHCQvw4aXreuFlklEtQghjedywxTX71pDcKpkIf+dvJJEaH85PD10kYS6EaBY86g69xlzDLyW/OL3//PCROt5esos6s1XCXAjRbHhUoGeXZlNnrXN6//kzX+fwyvfbyT1Q5dTzCCHE2fCoQF+zbw3eypsLYi5w2jl+3l7Cl+v3cM9FHekaG+q08wghxNnyuEBPiUohyMc5wwcra+p5/MtNdI4O5r5LOjnlHEIIca48JtBX7l3J5gObaR/a3mnnmPrdNooranjpul74eXs57TxCCHEuPCLQs0uyue/H+9BoFuUtIrsk2ynnuaFfAk9e2Z0+Ca2c8v5CCHE+PCLQs4qzMFvNAFi1laziLIe+v9YagJR2Ydw6OMmh7y2EEI7iEYGeFpOGl7J1gXibvEmLSXPo+z//zVYmz9+I1aod+r5CCOFIHjGxKDU6lTGdxjD/1/nMGD6D1OhUh733+t2HeC8jjwnpCZhkzLkQDlNfX09RURE1NTVGl9Is+fv7ExcXh4+P/Zv02BXoSqmRwOuAFzBLa/3iKccfBO4AzEApcJvWusDuKhwgNigWgN6tezvsPWvNFh6dt5E2of5MHtXVYe8rhICioiJCQkJITEyUDWFOobXm4MGDFBUVkZRkfzdvk10uSikvYDowCugOjFdKdT+l2S9Amta6FzAPeMnuCpqxN3/cyc6SKv51TU9C/F23lZ0QLUFNTQ2RkZES5qehlCIyMvKsf3qxpw89Hdiptc7VWtcBnwJjTmygtf5Za32k4dPVQNxZVdEMVdbU89HqAq7tG8dFXaKNLkcIjyRh3rhz+bOxp8ulHVB4wudFwJkWS7kd+PZ0B5RSE4GJAAkJCXaWaIwQfx8WPTCEIF8Zby6EcA8OHeWilLoJSANePt1xrfUMrXWa1jqtdevWjjy1Q23bX4HWmnbhAYQH+hpdjhDCSYKDg49/vGjRIpKTkykoKGDKlCkEBgZSUlJy2rZKKR566KHjn0+bNo0pU6a4pOYzsSfQ9wAn7q0W1/DaSZRSlwL/AEZrrWsdU57r7SypZPSbGby1ZJfRpQghXOTHH3/k/vvv59tvv6V9e9ts86ioKF555ZXTtvfz8+PLL7/kwIEDriyzSfZ0uawFOiulkrAF+Q3AhBMbKKX6AO8CI7XWJb9/C/dgsWoenbeRID8v2R9UCBcb9+6q3712Za82/GlgIkfrLPx5dubvjl93QRzXp8VTVl3HPf+37qRjn9010K7zLlu2jDvvvJNFixbRsWPH46/fdtttzJkzh8cee4yIiJP3V/D29mbixIm89tprPP/883adxxWavEPXWpuB+4DFwFbgc631FqXUM0qp0Q3NXgaCgS+UUtlKqYVOq9iJ5qzMZ/3uwzx1VQ9ah/gZXY4Qwslqa2u5+uqrWbBgAV27njw0OTg4mNtuu43XX3/9tF9777338vHHH1NeXu6KUu1i1zh0rfUiYNEpr/3zhI8vdXBdLldwsJqXF2/jD12jGZPa1uhyhGhxznRHHeDrdcbjEUG+dt+Rn8jHx4dBgwbx3nvvnTa477//flJTU3n44Yd/dyw0NJSbb76ZN954g4CAgLM+tzN4xNR/RyitrCUhIpDnx/aUoVRCtBAmk4nPP/+czMxM/vWvf/3ueHh4OBMmTGD69Omn/fq//e1vvPfee1RXVzu7VLtIoDdIS4zguweGEhvmb3QpQggXCgwM5JtvvuHjjz/mvffe+93xBx98kHfffRez2fy7YxEREfzxj3887dcZwWMCfX/1fgA2lG44q6/be/gob/74K3Vmq6zVIkQLFRERwXfffcdzzz3HwoUnPwKMiopi7Nix1NaefvDeQw891GxGu6hjS8O6Wlpams7Kcswyt9kl2fz5uz9j0Rb8vPyYNWLWbwt0zb7C9vut3/zu67TW3DZnLatzy/h+0lDiIwIdUo8Qomlbt26lW7duRpfRrJ3uz0gptU5rfdolZT3iDn3NvjVYtAUAs9Vs93roX/2yh5+3l/LoyC4S5kIIt+cRga6wdZWYMOFj8rFrPfSSyhqe/m8OF7RvxS0DE51coRBCOJ9HrIe+rmQdEf4R3Nj1RtLbpNu1HvrT/83haL2Fqdf2kr5zIYRHcPtA31O1h1V7V3F377uZ2Hui3V93z7COXNIlmk7RwU03FkIIN+D2gf7Vr18BMLbTWLvaW6waL5MipV0YKe3CnFmaEEK4lFv3oZutZr7a+RWD2g2iTXAbu77mkS828PcvN2HU6B4hhHAWtw70lXtXUnKkhOs6X2dX+5+3lfDlL3toHewrs0GFEB7HrQN93o55RPhHMCxuWJNtK2rqefyrTSTHBHPvJZ1cUJ0QwuEKM2H5K7bfHeDENc49gdv2oZceKWVZ0TJu7nEzPl5N7/f5wqJtFFfU8PZNg/Hzll2IhGhWvp0M+zeduU1tBRRvBm0FZYKYFPALbbx9bE8Y9WLjx53MYrHg5eXarHHbO/T/7PoPFm3hmk7XNNm23mLl6w17uWNIB1Ljw11QnRDC4WrKbWEOtt9rHLdsrdaaRx55hJSUFHr27Mlnn30GgNVq5S9/+Qtdu3Zl+PDhXH755cybN6/R90lMTOSxxx6jb9++fPHFF3z//fcMHDiQvn37cv3111NVVQXYdkfq2rUrF1xwAffffz9XXnmlQ67DLe/QrdrKl79+SVpMGolhiU229/EysXjSUFrJdnJCNE/23EkXZsIHo8FSB16+cO0siE93yOm//PJLsrOz2bBhAwcOHKBfv34MHTqUjIwM8vPzycnJoaSkhG7dunHbbbed8b0iIyNZv349Bw4c4JprruGHH34gKCiIqVOn8uqrr/Loo49y1113sWzZMpKSkhg/frxDrgHcNNDX7l9LYWUh9/S+p8m2lbX1BPt50za8eaxXLIQ4R/HpcMtCyF8OiUMcFuYAK1asYPz48Xh5eRETE8OwYcNYu3YtK1as4Prrr8dkMhEbG8vFF1/c5HuNGzcOgNWrV5OTk8PgwYMBqKurY+DAgWzbto0OHTqQlJQEwPjx45kxY4ZDrsMtA33+r/MJ8Q1hePvhZ2y3rqCM+r0VtI8MxL5BjUKIZi0+3aFB7gxBQUGArRtn+PDhfPLJJycdz87Odtq53a4PfUXRChbnL2ZAmwH4e5+wdvkpT79r6i08Om8jrUw1xFgPOOypuBDC8wwZMoTPPvsMi8VCaWkpy5YtIz09ncGDBzN//nysVivFxcUsWbLE7vccMGAAGRkZ7Ny5E4Dq6mp27NhBly5dyM3NJT8/H+B4f70juNUdenZJNn/9+a9YtZWlhUvJLsm2rdtSmAmzLwdr/fGn3yXV3rxefpBkUwGqHFvf2y0Lm/3/7kII1xs7diyrVq2id+/eKKV46aWXiI2N5dprr+XHH3+ke/fuxMfH07dvX8LC7Jth3rp1a+bMmcP48eOPr6X+3HPPkZyczFtvvcXIkSMJCgqiX79+DrsOtwr0rOIsLFbbMrkWbSGrOMsW6PnLbWEOoK3UVR9ib3kwnf3qUA0vY6mztZNAF0I0ODbqRCnFyy+/zMsvv3zScZPJxLRp0wgODubgwYOkp6fTs2fPRt/v2F33MZdccglr1679XbuLL76Ybdu2obXm3nvvJS2t6RVi7eFWgZ4Wk4aX8sKszXibvH9bJjdxiO3OXFvBO4BfL3yNF7IC+XiEgs+u+e2peOIQYy9ACOF2rrzySg4fPkxdXR1PPvkksbGx5/2eM2fO5IMPPqCuro4+ffpw1113OaBSN9yx6PnVz/Pp9k+ZNXwW/dv2/+3AO0Ns41IbhjJprW3T+wsznfJUXAhxftx5x6KxY8eSl5d30mtTp07lsssuc+h5znbHIre6QwdoG9wWgJ6tT/mxxy+UI6ZA3t0Wzr1trPh6NzzvdYOn4kII9/LVV18ZXcJpud0ol8ZoNLtKq/lwVT4VNfVNthdCCE/jdoG+t2ovAJtKT173YV95DdW1ZqaM7kFUsJ8RpQkhhKHcKtCzS7KZt8O2jsK9P91LdoltgH7egWoKDx2hVaAPo3u3NbJEIYQwjFsFelZxFhZtG7ZotprJKrY9VH1iwSZMKJKigmWdcyHEWXnjjTfo1q0bN954o8PfOz8/n7lz5zr8fRvjVoF+bNgicNKwxb+P6kbH6GB8vdzqcoQQZym7JJtZm2Yd/+ncEd566y3+97//8fHHHzfZ1mw2n9V7uzrQ3WqUS2p0KtclX8en2z9l+iXT6R7RC8C2N6ispCiE25qaOZVtZdvO2Kaqrorth7aj0SgUXVp1Idi38Q0qukZ05bH0x874nnfffTe5ubmMGjWKP//5zyxfvpzc3FwCAwOZMWMGvXr1YsqUKezatYvc3FwSEhJ44403uPvuu9m9ezcA//73vxk8eDBLly7lgQceAGwTlZYtW8bkyZPZunUrqamp3HLLLUyaNOks/2TOjlsFOvw2bDElKoU7PswiKTKQp8ekGFyVEMLZKusr0djmzWg0lfWVZwx0e7zzzjt89913/Pzzzzz99NP06dOHBQsW8NNPP3HzzTcfX0grJyeHFStWEBAQwIQJE5g0aRIXXnghu3fv5rLLLmPr1q1MmzaN6dOnM3jwYKqqqvD39+fFF19k2rRpfP311+d9/fZwu0A/ZkH2XpbtKOWSq7obXYoQ4jw1dScNtu6WO7+/k3prPT4mH14c8qJt6Q8HWbFiBfPnzwdsU/YPHjxIRUUFAKNHjyYgwLYE9w8//EBOTs7xr6uoqKCqqorBgwfz4IMPcuONN3LNNdcQFxfnsNrsZVegK6VGAq8DXsAsrfWLpxz3Az4ELgAOAuO01vmOLfVkL367lbT2Udw8MNGZpxFCNBOp0anMHDGTrOIs0mLSHBrmTTm2JC7YdjFavXo1/v7+J7WZPHkyV1xxBYsWLWLw4MEsXrzYZfUd0+RTRKWUFzAdGAV0B8YrpU69Lb4dOKS17gS8Bkx1dKHH7Nn/CwAJ3iuYel0vTKaGUS21FVBeKMvkCuHBUqNTuaPnHU4J8yFDhhx/MLpkyRKioqIIDf39nqUjRozgzTffPP75sW6ZXbt20bNnTx577DH69evHtm3bCAkJobKy0uG1NsaeYSHpwE6tda7Wug74FBhzSpsxwAcNH88D/qCcMH4we/Nc5hf9BEBx22+o/Go4zL7Cto7L/o1wuMC2TK6EuhDiLE2ZMoV169bRq1cvJk+ezAcffHDadm+88QZZWVn06tWL7t2788477wC2h6MpKSn06tULHx8fRo0aRa9evfDy8qJ379689tprTr8Ge7pc2gGFJ3xeBPRvrI3W2qyUKgcigQMnNlJKTQQmAiQkJJx1sVm5i7E0fGxWiixrFalEnLxZrCyTK4Q4CycuebtgwYLfHZ8yZcpJn0dFRZ12U4oT79pP9NNPP51XfWfDpQO3tdYztNZpWuu01q1bn/XXp3W4DD8NXlrjoyHtwr/Drd/YVlj0DgDlJcvkCiFaLHvu0PcA8Sd8Htfw2unaFCmlvIEwbA9HHSo1ZQIzsd2pp3W4jNSUCbYDTtw8Vggh3IU9gb4W6KyUSsIW3DcAE05psxC4BVgFXAf8pJ200HpqyoTfgvxEskyuEG7n+L4F4nfOJUKb7HLRWpuB+4DFwFbgc631FqXUM0qp0Q3N3gMilVI7gQeByWddiRCiRfH39+fgwYPnFFyeTmvNwYMHfzc0silut2OREMIz1NfXU1RURE1NjdGlNEv+/v7ExcXh4+Nz0usetWOREMIz+Pj4kJSUZHQZHkWWJxRCCA8hgS6EEB5CAl0IITyEYQ9FlVKlQME5fnkUp8xCbQHkmlsGueaW4Xyuub3W+rQzMw0L9POhlMpq7Cmvp5JrbhnkmlsGZ12zdLkIIYSHkEAXQggP4a6BPsPoAgwg19wyyDW3DE65ZrfsQxdCCPF77nqHLoQQ4hQS6EII4SGadaArpUYqpbYrpXYqpX63gqNSyk8p9VnD8TVKqUTXV+lYdlzzg0qpHKXURqXUj0qp9kbU6UhNXfMJ7a5VSmmllNsPcbPnmpVSf2z4Xm9RSs11dY2OZsff7QSl1M9KqV8a/n5fbkSdjqKUel8pVaKU2tzIcaWUeqPhz2OjUqrveZ9Ua90sfwFewC6gA+ALbAC6n9LmL8A7DR/fAHxmdN0uuOaLgcCGj+9pCdfc0C4EWAasBtKMrtsF3+fOwC9Aq4bPo42u2wXXPAO4p+Hj7kC+0XWf5zUPBfoCmxs5fjnwLaCAAcCa8z1nc75DbzabU7tQk9estf5Za32k4dPV2HaQcmf2fJ8BngWmAp6w1qo913wnMF1rfQhAa13i4hodzZ5r1kBow8dhwF4X1udwWutlQNkZmowBPtQ2q4FwpVSb8zlncw70021O3a6xNtq2EcexzandlT3XfKLbsf0P786avOaGH0XjtdbfuLIwJ7Ln+5wMJCulMpRSq5VSI11WnXPYc81TgJuUUkXAIuCvrinNMGf7771Jsh66m1JK3QSkAcOMrsWZlFIm4FXgzwaX4mre2LpdLsL2U9gypVRPrfVhQ6tyrvHAHK31K0qpgcBHSqkUrbXV6MLcRXO+Qz+bzalx5ubULmTPNaOUuhT4BzBaa13rotqcpalrDgFSgCVKqXxsfY0L3fzBqD3f5yJgoda6XmudB+zAFvDuyp5rvh34HEBrvQrwx7aIlaey69/72WjOgX58c2qllC+2h54LT2lzbHNqcPLm1C7S5DUrpfoA72ILc3fvV4UmrllrXa61jtJaJ2qtE7E9NxittXbn/Qvt+bu9ANvdOUqpKGxdMLmuLNLB7Lnm3cAfAJRS3bAFeqlLq3SthcDNDaNdBgDlWut95/WORj8JbuIp8eXY7kx2Af9oeO0ZbP+gwfYN/wLYCWQCHYyu2QXX/ANQDGQ3/FpodM3OvuZT2i7BzUe52Pl9Vti6mnKATcANRtfsgmvuDmRgGwGTDYwwuubzvN5PgH1APbafuG4H7gbuPuF7PL3hz2OTI/5ey9R/IYTwEM25y0UIIcRZkEAXQggPIYEuhBAeQgJdCCE8hAS6EEJ4CAl0IYTwEBLoQgjhIf4/a7vHi4AoH30AAAAASUVORK5CYII=\n",
=======
      "execution_count": null,
      "outputs": []
    },
    {
      "cell_type": "code",
      "metadata": {
        "id": "JcUqMXznBKyD"
      },
      "source": [
        "#This is the most efficient analysis method, as the most area is under logistic regression.\r\n"
      ],
      "execution_count": null,
      "outputs": []
    },
    {
      "cell_type": "code",
      "metadata": {
        "id": "a9ZO1t9zMGVQ"
      },
      "source": [
        "import numpy as np\r\n",
        "import pandas as pd\r\n",
        "import seaborn as sns\r\n",
        "from matplotlib import pyplot\r\n",
        "from sklearn.model_selection import train_test_split\r\n",
        "import matplotlib.pyplot as plt\r\n",
        "from sklearn.cluster import KMeans\r\n",
        "import warnings\r\n",
        "import scipy.stats\r\n",
        "warnings.filterwarnings('ignore')\r\n"
      ],
      "execution_count": null,
      "outputs": []
    },
    {
      "cell_type": "markdown",
      "metadata": {
        "id": "ZBszxcEz3U-N"
      },
      "source": [
        "##Edit Data Cont."
      ]
    },
    {
      "cell_type": "code",
      "metadata": {
        "colab": {
          "base_uri": "https://localhost:8080/",
          "height": 195
        },
        "id": "-Yh23wpSWOsB",
        "outputId": "e1bf8cc7-f9f0-4435-c1b4-6b3b0e3684f2"
      },
      "source": [
        "data = pd.read_csv(\"diabetes.csv\")\r\n",
        "data.head()"
      ],
      "execution_count": null,
      "outputs": [
        {
          "output_type": "execute_result",
          "data": {
            "text/html": [
              "<div>\n",
              "<style scoped>\n",
              "    .dataframe tbody tr th:only-of-type {\n",
              "        vertical-align: middle;\n",
              "    }\n",
              "\n",
              "    .dataframe tbody tr th {\n",
              "        vertical-align: top;\n",
              "    }\n",
              "\n",
              "    .dataframe thead th {\n",
              "        text-align: right;\n",
              "    }\n",
              "</style>\n",
              "<table border=\"1\" class=\"dataframe\">\n",
              "  <thead>\n",
              "    <tr style=\"text-align: right;\">\n",
              "      <th></th>\n",
              "      <th>Pregnancies</th>\n",
              "      <th>Glucose</th>\n",
              "      <th>BloodPressure</th>\n",
              "      <th>SkinThickness</th>\n",
              "      <th>Insulin</th>\n",
              "      <th>BMI</th>\n",
              "      <th>DiabetesPedigreeFunction</th>\n",
              "      <th>Age</th>\n",
              "      <th>Outcome</th>\n",
              "    </tr>\n",
              "  </thead>\n",
              "  <tbody>\n",
              "    <tr>\n",
              "      <th>0</th>\n",
              "      <td>6</td>\n",
              "      <td>148</td>\n",
              "      <td>72</td>\n",
              "      <td>35</td>\n",
              "      <td>0</td>\n",
              "      <td>33.6</td>\n",
              "      <td>0.627</td>\n",
              "      <td>50</td>\n",
              "      <td>1</td>\n",
              "    </tr>\n",
              "    <tr>\n",
              "      <th>1</th>\n",
              "      <td>1</td>\n",
              "      <td>85</td>\n",
              "      <td>66</td>\n",
              "      <td>29</td>\n",
              "      <td>0</td>\n",
              "      <td>26.6</td>\n",
              "      <td>0.351</td>\n",
              "      <td>31</td>\n",
              "      <td>0</td>\n",
              "    </tr>\n",
              "    <tr>\n",
              "      <th>2</th>\n",
              "      <td>8</td>\n",
              "      <td>183</td>\n",
              "      <td>64</td>\n",
              "      <td>0</td>\n",
              "      <td>0</td>\n",
              "      <td>23.3</td>\n",
              "      <td>0.672</td>\n",
              "      <td>32</td>\n",
              "      <td>1</td>\n",
              "    </tr>\n",
              "    <tr>\n",
              "      <th>3</th>\n",
              "      <td>1</td>\n",
              "      <td>89</td>\n",
              "      <td>66</td>\n",
              "      <td>23</td>\n",
              "      <td>94</td>\n",
              "      <td>28.1</td>\n",
              "      <td>0.167</td>\n",
              "      <td>21</td>\n",
              "      <td>0</td>\n",
              "    </tr>\n",
              "    <tr>\n",
              "      <th>4</th>\n",
              "      <td>0</td>\n",
              "      <td>137</td>\n",
              "      <td>40</td>\n",
              "      <td>35</td>\n",
              "      <td>168</td>\n",
              "      <td>43.1</td>\n",
              "      <td>2.288</td>\n",
              "      <td>33</td>\n",
              "      <td>1</td>\n",
              "    </tr>\n",
              "  </tbody>\n",
              "</table>\n",
              "</div>"
            ],
            "text/plain": [
              "   Pregnancies  Glucose  BloodPressure  ...  DiabetesPedigreeFunction  Age  Outcome\n",
              "0            6      148             72  ...                     0.627   50        1\n",
              "1            1       85             66  ...                     0.351   31        0\n",
              "2            8      183             64  ...                     0.672   32        1\n",
              "3            1       89             66  ...                     0.167   21        0\n",
              "4            0      137             40  ...                     2.288   33        1\n",
              "\n",
              "[5 rows x 9 columns]"
            ]
          },
          "metadata": {
            "tags": []
          },
          "execution_count": 2
        }
      ]
    },
    {
      "cell_type": "code",
      "metadata": {
        "colab": {
          "base_uri": "https://localhost:8080/",
          "height": 284
        },
        "id": "zoJu_mWpWEna",
        "outputId": "daab0d82-9e18-4352-bf6c-5595579f4f42"
      },
      "source": [
        "#Statistical data brought.\r\n",
        "data.describe()"
      ],
      "execution_count": null,
      "outputs": [
        {
          "output_type": "execute_result",
          "data": {
            "text/html": [
              "<div>\n",
              "<style scoped>\n",
              "    .dataframe tbody tr th:only-of-type {\n",
              "        vertical-align: middle;\n",
              "    }\n",
              "\n",
              "    .dataframe tbody tr th {\n",
              "        vertical-align: top;\n",
              "    }\n",
              "\n",
              "    .dataframe thead th {\n",
              "        text-align: right;\n",
              "    }\n",
              "</style>\n",
              "<table border=\"1\" class=\"dataframe\">\n",
              "  <thead>\n",
              "    <tr style=\"text-align: right;\">\n",
              "      <th></th>\n",
              "      <th>Pregnancies</th>\n",
              "      <th>Glucose</th>\n",
              "      <th>BloodPressure</th>\n",
              "      <th>SkinThickness</th>\n",
              "      <th>Insulin</th>\n",
              "      <th>BMI</th>\n",
              "      <th>DiabetesPedigreeFunction</th>\n",
              "      <th>Age</th>\n",
              "      <th>Outcome</th>\n",
              "    </tr>\n",
              "  </thead>\n",
              "  <tbody>\n",
              "    <tr>\n",
              "      <th>count</th>\n",
              "      <td>768.000000</td>\n",
              "      <td>768.000000</td>\n",
              "      <td>768.000000</td>\n",
              "      <td>768.000000</td>\n",
              "      <td>768.000000</td>\n",
              "      <td>768.000000</td>\n",
              "      <td>768.000000</td>\n",
              "      <td>768.000000</td>\n",
              "      <td>768.000000</td>\n",
              "    </tr>\n",
              "    <tr>\n",
              "      <th>mean</th>\n",
              "      <td>3.845052</td>\n",
              "      <td>120.894531</td>\n",
              "      <td>69.105469</td>\n",
              "      <td>20.536458</td>\n",
              "      <td>79.799479</td>\n",
              "      <td>31.992578</td>\n",
              "      <td>0.471876</td>\n",
              "      <td>33.240885</td>\n",
              "      <td>0.348958</td>\n",
              "    </tr>\n",
              "    <tr>\n",
              "      <th>std</th>\n",
              "      <td>3.369578</td>\n",
              "      <td>31.972618</td>\n",
              "      <td>19.355807</td>\n",
              "      <td>15.952218</td>\n",
              "      <td>115.244002</td>\n",
              "      <td>7.884160</td>\n",
              "      <td>0.331329</td>\n",
              "      <td>11.760232</td>\n",
              "      <td>0.476951</td>\n",
              "    </tr>\n",
              "    <tr>\n",
              "      <th>min</th>\n",
              "      <td>0.000000</td>\n",
              "      <td>0.000000</td>\n",
              "      <td>0.000000</td>\n",
              "      <td>0.000000</td>\n",
              "      <td>0.000000</td>\n",
              "      <td>0.000000</td>\n",
              "      <td>0.078000</td>\n",
              "      <td>21.000000</td>\n",
              "      <td>0.000000</td>\n",
              "    </tr>\n",
              "    <tr>\n",
              "      <th>25%</th>\n",
              "      <td>1.000000</td>\n",
              "      <td>99.000000</td>\n",
              "      <td>62.000000</td>\n",
              "      <td>0.000000</td>\n",
              "      <td>0.000000</td>\n",
              "      <td>27.300000</td>\n",
              "      <td>0.243750</td>\n",
              "      <td>24.000000</td>\n",
              "      <td>0.000000</td>\n",
              "    </tr>\n",
              "    <tr>\n",
              "      <th>50%</th>\n",
              "      <td>3.000000</td>\n",
              "      <td>117.000000</td>\n",
              "      <td>72.000000</td>\n",
              "      <td>23.000000</td>\n",
              "      <td>30.500000</td>\n",
              "      <td>32.000000</td>\n",
              "      <td>0.372500</td>\n",
              "      <td>29.000000</td>\n",
              "      <td>0.000000</td>\n",
              "    </tr>\n",
              "    <tr>\n",
              "      <th>75%</th>\n",
              "      <td>6.000000</td>\n",
              "      <td>140.250000</td>\n",
              "      <td>80.000000</td>\n",
              "      <td>32.000000</td>\n",
              "      <td>127.250000</td>\n",
              "      <td>36.600000</td>\n",
              "      <td>0.626250</td>\n",
              "      <td>41.000000</td>\n",
              "      <td>1.000000</td>\n",
              "    </tr>\n",
              "    <tr>\n",
              "      <th>max</th>\n",
              "      <td>17.000000</td>\n",
              "      <td>199.000000</td>\n",
              "      <td>122.000000</td>\n",
              "      <td>99.000000</td>\n",
              "      <td>846.000000</td>\n",
              "      <td>67.100000</td>\n",
              "      <td>2.420000</td>\n",
              "      <td>81.000000</td>\n",
              "      <td>1.000000</td>\n",
              "    </tr>\n",
              "  </tbody>\n",
              "</table>\n",
              "</div>"
            ],
            "text/plain": [
              "       Pregnancies     Glucose  ...         Age     Outcome\n",
              "count   768.000000  768.000000  ...  768.000000  768.000000\n",
              "mean      3.845052  120.894531  ...   33.240885    0.348958\n",
              "std       3.369578   31.972618  ...   11.760232    0.476951\n",
              "min       0.000000    0.000000  ...   21.000000    0.000000\n",
              "25%       1.000000   99.000000  ...   24.000000    0.000000\n",
              "50%       3.000000  117.000000  ...   29.000000    0.000000\n",
              "75%       6.000000  140.250000  ...   41.000000    1.000000\n",
              "max      17.000000  199.000000  ...   81.000000    1.000000\n",
              "\n",
              "[8 rows x 9 columns]"
            ]
          },
          "metadata": {
            "tags": []
          },
          "execution_count": 3
        }
      ]
    },
    {
      "cell_type": "code",
      "metadata": {
        "colab": {
          "base_uri": "https://localhost:8080/"
        },
        "id": "bxd7f4fLWJ1y",
        "outputId": "1b4e0836-2f1e-4cde-d142-3c329dfbd06d"
      },
      "source": [
        "#Of the 768 patients, 500 are not sick.\r\n",
        "data.shape"
      ],
      "execution_count": null,
      "outputs": [
        {
          "output_type": "execute_result",
          "data": {
            "text/plain": [
              "(768, 9)"
            ]
          },
          "metadata": {
            "tags": []
          },
          "execution_count": 4
        }
      ]
    },
    {
      "cell_type": "code",
      "metadata": {
        "id": "6y0E7nQF_FXP"
      },
      "source": [
        "#we changed the values ​​of the table.\r\n",
        "#NaN instead of 0\r\n",
        "data[[\"Pregnancies\",\"Glucose\",\"BloodPressure\",\"SkinThickness\",\"Insulin\",\"BMI\",\"DiabetesPedigreeFunction\",\"Age\"\r\n",
        "    ]]=data[[\r\n",
        "    \"Pregnancies\",\"Glucose\",\"BloodPressure\",\"SkinThickness\",\"Insulin\",\"BMI\",\"DiabetesPedigreeFunction\",\"Age\"]].replace(0,np.NaN) \r\n",
        "    "
      ],
      "execution_count": null,
      "outputs": []
    },
    {
      "cell_type": "code",
      "metadata": {
        "id": "AheGgJHKWakx"
      },
      "source": [
        "#filling in the missing values\r\n",
        "data.fillna(data.mean(),inplace=True)\r\n"
      ],
      "execution_count": null,
      "outputs": []
    },
    {
      "cell_type": "code",
      "metadata": {
        "colab": {
          "base_uri": "https://localhost:8080/",
          "height": 195
        },
        "id": "mJqhKMXnWbkr",
        "outputId": "9125ce48-6141-4223-d89f-75084cfd8a53"
      },
      "source": [
        "#we filled the empty spaces with average.\r\n",
        "data.head()"
      ],
      "execution_count": null,
      "outputs": [
        {
          "output_type": "execute_result",
          "data": {
            "text/html": [
              "<div>\n",
              "<style scoped>\n",
              "    .dataframe tbody tr th:only-of-type {\n",
              "        vertical-align: middle;\n",
              "    }\n",
              "\n",
              "    .dataframe tbody tr th {\n",
              "        vertical-align: top;\n",
              "    }\n",
              "\n",
              "    .dataframe thead th {\n",
              "        text-align: right;\n",
              "    }\n",
              "</style>\n",
              "<table border=\"1\" class=\"dataframe\">\n",
              "  <thead>\n",
              "    <tr style=\"text-align: right;\">\n",
              "      <th></th>\n",
              "      <th>Pregnancies</th>\n",
              "      <th>Glucose</th>\n",
              "      <th>BloodPressure</th>\n",
              "      <th>SkinThickness</th>\n",
              "      <th>Insulin</th>\n",
              "      <th>BMI</th>\n",
              "      <th>DiabetesPedigreeFunction</th>\n",
              "      <th>Age</th>\n",
              "      <th>Outcome</th>\n",
              "    </tr>\n",
              "  </thead>\n",
              "  <tbody>\n",
              "    <tr>\n",
              "      <th>0</th>\n",
              "      <td>6.000000</td>\n",
              "      <td>148.0</td>\n",
              "      <td>72.0</td>\n",
              "      <td>35.00000</td>\n",
              "      <td>155.548223</td>\n",
              "      <td>33.6</td>\n",
              "      <td>0.627</td>\n",
              "      <td>50</td>\n",
              "      <td>1</td>\n",
              "    </tr>\n",
              "    <tr>\n",
              "      <th>1</th>\n",
              "      <td>1.000000</td>\n",
              "      <td>85.0</td>\n",
              "      <td>66.0</td>\n",
              "      <td>29.00000</td>\n",
              "      <td>155.548223</td>\n",
              "      <td>26.6</td>\n",
              "      <td>0.351</td>\n",
              "      <td>31</td>\n",
              "      <td>0</td>\n",
              "    </tr>\n",
              "    <tr>\n",
              "      <th>2</th>\n",
              "      <td>8.000000</td>\n",
              "      <td>183.0</td>\n",
              "      <td>64.0</td>\n",
              "      <td>29.15342</td>\n",
              "      <td>155.548223</td>\n",
              "      <td>23.3</td>\n",
              "      <td>0.672</td>\n",
              "      <td>32</td>\n",
              "      <td>1</td>\n",
              "    </tr>\n",
              "    <tr>\n",
              "      <th>3</th>\n",
              "      <td>1.000000</td>\n",
              "      <td>89.0</td>\n",
              "      <td>66.0</td>\n",
              "      <td>23.00000</td>\n",
              "      <td>94.000000</td>\n",
              "      <td>28.1</td>\n",
              "      <td>0.167</td>\n",
              "      <td>21</td>\n",
              "      <td>0</td>\n",
              "    </tr>\n",
              "    <tr>\n",
              "      <th>4</th>\n",
              "      <td>4.494673</td>\n",
              "      <td>137.0</td>\n",
              "      <td>40.0</td>\n",
              "      <td>35.00000</td>\n",
              "      <td>168.000000</td>\n",
              "      <td>43.1</td>\n",
              "      <td>2.288</td>\n",
              "      <td>33</td>\n",
              "      <td>1</td>\n",
              "    </tr>\n",
              "  </tbody>\n",
              "</table>\n",
              "</div>"
            ],
            "text/plain": [
              "   Pregnancies  Glucose  BloodPressure  ...  DiabetesPedigreeFunction  Age  Outcome\n",
              "0     6.000000    148.0           72.0  ...                     0.627   50        1\n",
              "1     1.000000     85.0           66.0  ...                     0.351   31        0\n",
              "2     8.000000    183.0           64.0  ...                     0.672   32        1\n",
              "3     1.000000     89.0           66.0  ...                     0.167   21        0\n",
              "4     4.494673    137.0           40.0  ...                     2.288   33        1\n",
              "\n",
              "[5 rows x 9 columns]"
            ]
          },
          "metadata": {
            "tags": []
          },
          "execution_count": 7
        }
      ]
    },
    {
      "cell_type": "code",
      "metadata": {
        "colab": {
          "base_uri": "https://localhost:8080/",
          "height": 908
        },
        "id": "q7yg-AJkWVUo",
        "outputId": "6d543140-e34e-4b02-d81e-64396816c7eb"
      },
      "source": [
        "#scatter plots of features\r\n",
        "def scatter(ax,axis,name,title):\r\n",
        "  sns.countplot(name,data=data,ax=ax[axis[0]][axis[1]])\r\n",
        "  ax[axis[0],axis[1]].set_title(title)\r\n",
        "\r\n",
        "f,ax=plt.subplots(4,2,figsize=(20,15))\r\n",
        "plt.suptitle(\"Scatter plots of features\")\r\n",
        "\r\n",
        "features = (((0,0),\"Pregnancies\",\"Pregnancy chart feature\"),((0,1),\"Glucose\",\"Glucose chart feature\"),((1,0),\"BloodPressure\",\"BloodPressure chart feature\"),((1,1),\"SkinThickness\",\"SkinThickness chart feature\")\r\n",
        ",((2,0),\"Insulin\",\"Insulin chart feature\"),((2,1),\"BMI\",\"BMI chart feature\"),((3,0),\"DiabetesPedigreeFunction\",\"DiabetesPedigreeFunction chart feature\"),((3,1),\"Age\",\"Age\" \"chart feature\"))\r\n",
        "\r\n",
        "for axis, name, title in features:\r\n",
        "  scatter(ax,axis,name,title)\r\n"
      ],
      "execution_count": null,
      "outputs": [
        {
          "output_type": "display_data",
          "data": {
            "image/png": "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\n",
            "text/plain": [
              "<Figure size 1440x1080 with 8 Axes>"
            ]
          },
          "metadata": {
            "tags": [],
            "needs_background": "light"
          }
        }
      ]
    },
    {
      "cell_type": "code",
      "metadata": {
        "colab": {
          "base_uri": "https://localhost:8080/",
          "height": 420
        },
        "id": "2r3QdsP0WBQG",
        "outputId": "06b2116c-7af1-45df-b84a-14bdbc8b63dd"
      },
      "source": [
        "#order of importance\r\n",
        "x=data[['Glucose', 'BMI', 'Age', 'Pregnancies', 'SkinThickness',\r\n",
        "       'Insulin', 'DiabetesPedigreeFunction']]\r\n",
        "y=data.iloc[:,8]\r\n",
        "from sklearn.ensemble import ExtraTreesClassifier\r\n",
        "import matplotlib.pyplot as plt\r\n",
        "model = ExtraTreesClassifier()\r\n",
        "model.fit(x,y)\r\n",
        "print(model.feature_importances_) \r\n",
        "#plot graph of feature importances for better visualization\r\n",
        "feat_importances = pd.Series(model.feature_importances_, index=x.columns)\r\n",
        "feat_importances.nlargest(20).plot(kind='bar')\r\n",
        "plt.show()"
      ],
      "execution_count": null,
      "outputs": [
        {
          "output_type": "stream",
          "text": [
            "[0.26153464 0.1581187  0.14611985 0.11221991 0.0936248  0.09605271\n",
            " 0.13232938]\n"
          ],
          "name": "stdout"
        },
        {
          "output_type": "display_data",
          "data": {
            "image/png": "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\n",
>>>>>>> 1dac1c2bf5e988c8e4e9698c94cb84c7c4eb98f2
            "text/plain": [
              "<Figure size 432x288 with 1 Axes>"
            ]
          },
          "metadata": {
            "tags": [],
            "needs_background": "light"
          }
        }
      ]
    },
    {
      "cell_type": "code",
      "metadata": {
<<<<<<< HEAD
        "id": "JcUqMXznBKyD"
      },
      "source": [
        "#This is the most efficient analysis method, as the most area is under logistic regression.\r\n"
      ],
      "execution_count": 38,
      "outputs": []
=======
        "colab": {
          "base_uri": "https://localhost:8080/"
        },
        "id": "FHmHKChPVtmZ",
        "outputId": "11a2b2c8-efc9-4bbb-abd4-d5f30fb4787d"
      },
      "source": [
        "#clustering\r\n",
        "x=data[['Glucose', 'BMI', 'Age', 'Pregnancies', 'SkinThickness',\r\n",
        "       'Insulin', 'DiabetesPedigreeFunction']]\r\n",
        "y=data.iloc[:,8]\r\n",
        "x_train,x_test,y_train,y_test=train_test_split(x,y,test_size=0.10,random_state=0)\r\n",
        "kmeans = KMeans(n_clusters=2, random_state=0).fit(x)\r\n",
        "kmeans.labels_\r\n",
        "count = 0\r\n",
        "for first,second in zip(y,kmeans.labels_):\r\n",
        "  #print(first,second)\r\n",
        "  if first==second:\r\n",
        "      count+=1\r\n",
        "\r\n",
        "print(count)\r\n",
        "print(\"Accuracy: \",(count / len(y)) * 100)"
      ],
      "execution_count": null,
      "outputs": [
        {
          "output_type": "stream",
          "text": [
            "503\n",
            "Accuracy:  65.49479166666666\n"
          ],
          "name": "stdout"
        }
      ]
<<<<<<< HEAD
>>>>>>> 1dac1c2bf5e988c8e4e9698c94cb84c7c4eb98f2
=======
    },
    {
      "cell_type": "code",
      "metadata": {
        "id": "tN-R8bV2BjPd"
      },
      "source": [
        "import numpy as np\r\n",
        "import pandas as pd\r\n",
        "import seaborn as sns\r\n",
        "from sklearn.model_selection import cross_val_score\r\n",
        "from sklearn.model_selection import train_test_split\r\n",
        "import warnings\r\n",
        "import scipy.stats\r\n",
        "warnings.filterwarnings('ignore')\r\n",
        "from sklearn.linear_model import LogisticRegression\r\n",
        "from sklearn.metrics import roc_curve\r\n",
        "from sklearn.metrics import roc_auc_score\r\n",
        "from matplotlib import pyplot\r\n",
        "import matplotlib.pyplot as plt\r\n"
      ],
      "execution_count": null,
      "outputs": []
    },
    {
      "cell_type": "code",
      "metadata": {
        "colab": {
          "base_uri": "https://localhost:8080/",
          "height": 195
        },
        "id": "Th_PIz9mAe90",
        "outputId": "fc0fb1a9-7264-44c8-92e8-0f6a1bbb270f"
      },
      "source": [
        "data = pd.read_csv(\"diabetes.csv\")\r\n",
        "data.head()"
      ],
      "execution_count": null,
      "outputs": [
        {
          "output_type": "execute_result",
          "data": {
            "text/html": [
              "<div>\n",
              "<style scoped>\n",
              "    .dataframe tbody tr th:only-of-type {\n",
              "        vertical-align: middle;\n",
              "    }\n",
              "\n",
              "    .dataframe tbody tr th {\n",
              "        vertical-align: top;\n",
              "    }\n",
              "\n",
              "    .dataframe thead th {\n",
              "        text-align: right;\n",
              "    }\n",
              "</style>\n",
              "<table border=\"1\" class=\"dataframe\">\n",
              "  <thead>\n",
              "    <tr style=\"text-align: right;\">\n",
              "      <th></th>\n",
              "      <th>Pregnancies</th>\n",
              "      <th>Glucose</th>\n",
              "      <th>BloodPressure</th>\n",
              "      <th>SkinThickness</th>\n",
              "      <th>Insulin</th>\n",
              "      <th>BMI</th>\n",
              "      <th>DiabetesPedigreeFunction</th>\n",
              "      <th>Age</th>\n",
              "      <th>Outcome</th>\n",
              "    </tr>\n",
              "  </thead>\n",
              "  <tbody>\n",
              "    <tr>\n",
              "      <th>0</th>\n",
              "      <td>6</td>\n",
              "      <td>148</td>\n",
              "      <td>72</td>\n",
              "      <td>35</td>\n",
              "      <td>0</td>\n",
              "      <td>33.6</td>\n",
              "      <td>0.627</td>\n",
              "      <td>50</td>\n",
              "      <td>1</td>\n",
              "    </tr>\n",
              "    <tr>\n",
              "      <th>1</th>\n",
              "      <td>1</td>\n",
              "      <td>85</td>\n",
              "      <td>66</td>\n",
              "      <td>29</td>\n",
              "      <td>0</td>\n",
              "      <td>26.6</td>\n",
              "      <td>0.351</td>\n",
              "      <td>31</td>\n",
              "      <td>0</td>\n",
              "    </tr>\n",
              "    <tr>\n",
              "      <th>2</th>\n",
              "      <td>8</td>\n",
              "      <td>183</td>\n",
              "      <td>64</td>\n",
              "      <td>0</td>\n",
              "      <td>0</td>\n",
              "      <td>23.3</td>\n",
              "      <td>0.672</td>\n",
              "      <td>32</td>\n",
              "      <td>1</td>\n",
              "    </tr>\n",
              "    <tr>\n",
              "      <th>3</th>\n",
              "      <td>1</td>\n",
              "      <td>89</td>\n",
              "      <td>66</td>\n",
              "      <td>23</td>\n",
              "      <td>94</td>\n",
              "      <td>28.1</td>\n",
              "      <td>0.167</td>\n",
              "      <td>21</td>\n",
              "      <td>0</td>\n",
              "    </tr>\n",
              "    <tr>\n",
              "      <th>4</th>\n",
              "      <td>0</td>\n",
              "      <td>137</td>\n",
              "      <td>40</td>\n",
              "      <td>35</td>\n",
              "      <td>168</td>\n",
              "      <td>43.1</td>\n",
              "      <td>2.288</td>\n",
              "      <td>33</td>\n",
              "      <td>1</td>\n",
              "    </tr>\n",
              "  </tbody>\n",
              "</table>\n",
              "</div>"
            ],
            "text/plain": [
              "   Pregnancies  Glucose  BloodPressure  ...  DiabetesPedigreeFunction  Age  Outcome\n",
              "0            6      148             72  ...                     0.627   50        1\n",
              "1            1       85             66  ...                     0.351   31        0\n",
              "2            8      183             64  ...                     0.672   32        1\n",
              "3            1       89             66  ...                     0.167   21        0\n",
              "4            0      137             40  ...                     2.288   33        1\n",
              "\n",
              "[5 rows x 9 columns]"
            ]
          },
          "metadata": {
            "tags": []
          },
          "execution_count": 2
        }
      ]
    },
    {
      "cell_type": "markdown",
      "metadata": {
        "id": "T-YDYdufBQpG"
      },
      "source": [
        "##Correlation Analysis"
      ]
    },
    {
      "cell_type": "markdown",
      "metadata": {
        "id": "XPjC1TrfJOTJ"
      },
      "source": [
        ""
      ]
    },
    {
      "cell_type": "code",
      "metadata": {
        "colab": {
          "base_uri": "https://localhost:8080/",
          "height": 314
        },
        "id": "QkDVLzF3AscN",
        "outputId": "d3682b79-0208-4b9f-97db-391c606f0e92"
      },
      "source": [
        "#The measure of the relationship between them.\r\n",
        "data.corr()"
      ],
      "execution_count": null,
      "outputs": [
        {
          "output_type": "execute_result",
          "data": {
            "text/html": [
              "<div>\n",
              "<style scoped>\n",
              "    .dataframe tbody tr th:only-of-type {\n",
              "        vertical-align: middle;\n",
              "    }\n",
              "\n",
              "    .dataframe tbody tr th {\n",
              "        vertical-align: top;\n",
              "    }\n",
              "\n",
              "    .dataframe thead th {\n",
              "        text-align: right;\n",
              "    }\n",
              "</style>\n",
              "<table border=\"1\" class=\"dataframe\">\n",
              "  <thead>\n",
              "    <tr style=\"text-align: right;\">\n",
              "      <th></th>\n",
              "      <th>Pregnancies</th>\n",
              "      <th>Glucose</th>\n",
              "      <th>BloodPressure</th>\n",
              "      <th>SkinThickness</th>\n",
              "      <th>Insulin</th>\n",
              "      <th>BMI</th>\n",
              "      <th>DiabetesPedigreeFunction</th>\n",
              "      <th>Age</th>\n",
              "      <th>Outcome</th>\n",
              "    </tr>\n",
              "  </thead>\n",
              "  <tbody>\n",
              "    <tr>\n",
              "      <th>Pregnancies</th>\n",
              "      <td>1.000000</td>\n",
              "      <td>0.129459</td>\n",
              "      <td>0.141282</td>\n",
              "      <td>-0.081672</td>\n",
              "      <td>-0.073535</td>\n",
              "      <td>0.017683</td>\n",
              "      <td>-0.033523</td>\n",
              "      <td>0.544341</td>\n",
              "      <td>0.221898</td>\n",
              "    </tr>\n",
              "    <tr>\n",
              "      <th>Glucose</th>\n",
              "      <td>0.129459</td>\n",
              "      <td>1.000000</td>\n",
              "      <td>0.152590</td>\n",
              "      <td>0.057328</td>\n",
              "      <td>0.331357</td>\n",
              "      <td>0.221071</td>\n",
              "      <td>0.137337</td>\n",
              "      <td>0.263514</td>\n",
              "      <td>0.466581</td>\n",
              "    </tr>\n",
              "    <tr>\n",
              "      <th>BloodPressure</th>\n",
              "      <td>0.141282</td>\n",
              "      <td>0.152590</td>\n",
              "      <td>1.000000</td>\n",
              "      <td>0.207371</td>\n",
              "      <td>0.088933</td>\n",
              "      <td>0.281805</td>\n",
              "      <td>0.041265</td>\n",
              "      <td>0.239528</td>\n",
              "      <td>0.065068</td>\n",
              "    </tr>\n",
              "    <tr>\n",
              "      <th>SkinThickness</th>\n",
              "      <td>-0.081672</td>\n",
              "      <td>0.057328</td>\n",
              "      <td>0.207371</td>\n",
              "      <td>1.000000</td>\n",
              "      <td>0.436783</td>\n",
              "      <td>0.392573</td>\n",
              "      <td>0.183928</td>\n",
              "      <td>-0.113970</td>\n",
              "      <td>0.074752</td>\n",
              "    </tr>\n",
              "    <tr>\n",
              "      <th>Insulin</th>\n",
              "      <td>-0.073535</td>\n",
              "      <td>0.331357</td>\n",
              "      <td>0.088933</td>\n",
              "      <td>0.436783</td>\n",
              "      <td>1.000000</td>\n",
              "      <td>0.197859</td>\n",
              "      <td>0.185071</td>\n",
              "      <td>-0.042163</td>\n",
              "      <td>0.130548</td>\n",
              "    </tr>\n",
              "    <tr>\n",
              "      <th>BMI</th>\n",
              "      <td>0.017683</td>\n",
              "      <td>0.221071</td>\n",
              "      <td>0.281805</td>\n",
              "      <td>0.392573</td>\n",
              "      <td>0.197859</td>\n",
              "      <td>1.000000</td>\n",
              "      <td>0.140647</td>\n",
              "      <td>0.036242</td>\n",
              "      <td>0.292695</td>\n",
              "    </tr>\n",
              "    <tr>\n",
              "      <th>DiabetesPedigreeFunction</th>\n",
              "      <td>-0.033523</td>\n",
              "      <td>0.137337</td>\n",
              "      <td>0.041265</td>\n",
              "      <td>0.183928</td>\n",
              "      <td>0.185071</td>\n",
              "      <td>0.140647</td>\n",
              "      <td>1.000000</td>\n",
              "      <td>0.033561</td>\n",
              "      <td>0.173844</td>\n",
              "    </tr>\n",
              "    <tr>\n",
              "      <th>Age</th>\n",
              "      <td>0.544341</td>\n",
              "      <td>0.263514</td>\n",
              "      <td>0.239528</td>\n",
              "      <td>-0.113970</td>\n",
              "      <td>-0.042163</td>\n",
              "      <td>0.036242</td>\n",
              "      <td>0.033561</td>\n",
              "      <td>1.000000</td>\n",
              "      <td>0.238356</td>\n",
              "    </tr>\n",
              "    <tr>\n",
              "      <th>Outcome</th>\n",
              "      <td>0.221898</td>\n",
              "      <td>0.466581</td>\n",
              "      <td>0.065068</td>\n",
              "      <td>0.074752</td>\n",
              "      <td>0.130548</td>\n",
              "      <td>0.292695</td>\n",
              "      <td>0.173844</td>\n",
              "      <td>0.238356</td>\n",
              "      <td>1.000000</td>\n",
              "    </tr>\n",
              "  </tbody>\n",
              "</table>\n",
              "</div>"
            ],
            "text/plain": [
              "                          Pregnancies   Glucose  ...       Age   Outcome\n",
              "Pregnancies                  1.000000  0.129459  ...  0.544341  0.221898\n",
              "Glucose                      0.129459  1.000000  ...  0.263514  0.466581\n",
              "BloodPressure                0.141282  0.152590  ...  0.239528  0.065068\n",
              "SkinThickness               -0.081672  0.057328  ... -0.113970  0.074752\n",
              "Insulin                     -0.073535  0.331357  ... -0.042163  0.130548\n",
              "BMI                          0.017683  0.221071  ...  0.036242  0.292695\n",
              "DiabetesPedigreeFunction    -0.033523  0.137337  ...  0.033561  0.173844\n",
              "Age                          0.544341  0.263514  ...  1.000000  0.238356\n",
              "Outcome                      0.221898  0.466581  ...  0.238356  1.000000\n",
              "\n",
              "[9 rows x 9 columns]"
            ]
          },
          "metadata": {
            "tags": []
          },
          "execution_count": 3
        }
      ]
    },
    {
      "cell_type": "code",
      "metadata": {
        "colab": {
          "base_uri": "https://localhost:8080/",
          "height": 407
        },
        "id": "eQBx1oQ9AyJ3",
        "outputId": "ee0d3b53-e74a-48c5-dde4-80bb7511f341"
      },
      "source": [
        "#We tried to show each feature among itself.\r\n",
        "sns.heatmap(data.corr(),annot=True)"
      ],
      "execution_count": null,
      "outputs": [
        {
          "output_type": "execute_result",
          "data": {
            "text/plain": [
              "<matplotlib.axes._subplots.AxesSubplot at 0x7f1739c87550>"
            ]
          },
          "metadata": {
            "tags": []
          },
          "execution_count": 4
        },
        {
          "output_type": "display_data",
          "data": {
            "image/png": "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\n",
            "text/plain": [
              "<Figure size 432x288 with 2 Axes>"
            ]
          },
          "metadata": {
            "tags": [],
            "needs_background": "light"
          }
        }
      ]
    },
    {
      "cell_type": "markdown",
      "metadata": {
        "id": "Xhik8_jWBMRz"
      },
      "source": [
        "##Compare Performance"
      ]
    },
    {
      "cell_type": "code",
      "metadata": {
        "colab": {
          "base_uri": "https://localhost:8080/",
          "height": 212
        },
        "id": "MOkQY1HLA2PS",
        "outputId": "98a6ff20-d23b-48e4-b10b-c5972aed77de"
      },
      "source": [
        "#performance\r\n",
        "KNN_predict =[0 for _ in range(len(y_test)) ]\r\n",
        "log_reg_predict=[0 for _ in range(len(y_test)) ]\r\n",
        "forest_predict=[0 for _ in range(len(y_test)) ]"
      ],
      "execution_count": null,
      "outputs": [
        {
          "output_type": "error",
          "ename": "NameError",
          "evalue": "ignored",
          "traceback": [
            "\u001b[0;31m---------------------------------------------------------------------------\u001b[0m",
            "\u001b[0;31mNameError\u001b[0m                                 Traceback (most recent call last)",
            "\u001b[0;32m<ipython-input-5-dfe35ddb4014>\u001b[0m in \u001b[0;36m<module>\u001b[0;34m()\u001b[0m\n\u001b[1;32m      1\u001b[0m \u001b[0;31m#performance\u001b[0m\u001b[0;34m\u001b[0m\u001b[0;34m\u001b[0m\u001b[0;34m\u001b[0m\u001b[0m\n\u001b[0;32m----> 2\u001b[0;31m \u001b[0mKNN_predict\u001b[0m \u001b[0;34m=\u001b[0m\u001b[0;34m[\u001b[0m\u001b[0;36m0\u001b[0m \u001b[0;32mfor\u001b[0m \u001b[0m_\u001b[0m \u001b[0;32min\u001b[0m \u001b[0mrange\u001b[0m\u001b[0;34m(\u001b[0m\u001b[0mlen\u001b[0m\u001b[0;34m(\u001b[0m\u001b[0my_test\u001b[0m\u001b[0;34m)\u001b[0m\u001b[0;34m)\u001b[0m \u001b[0;34m]\u001b[0m\u001b[0;34m\u001b[0m\u001b[0;34m\u001b[0m\u001b[0m\n\u001b[0m\u001b[1;32m      3\u001b[0m \u001b[0mlog_reg_predict\u001b[0m\u001b[0;34m=\u001b[0m\u001b[0;34m[\u001b[0m\u001b[0;36m0\u001b[0m \u001b[0;32mfor\u001b[0m \u001b[0m_\u001b[0m \u001b[0;32min\u001b[0m \u001b[0mrange\u001b[0m\u001b[0;34m(\u001b[0m\u001b[0mlen\u001b[0m\u001b[0;34m(\u001b[0m\u001b[0my_test\u001b[0m\u001b[0;34m)\u001b[0m\u001b[0;34m)\u001b[0m \u001b[0;34m]\u001b[0m\u001b[0;34m\u001b[0m\u001b[0;34m\u001b[0m\u001b[0m\n\u001b[1;32m      4\u001b[0m \u001b[0mforest_predict\u001b[0m\u001b[0;34m=\u001b[0m\u001b[0;34m[\u001b[0m\u001b[0;36m0\u001b[0m \u001b[0;32mfor\u001b[0m \u001b[0m_\u001b[0m \u001b[0;32min\u001b[0m \u001b[0mrange\u001b[0m\u001b[0;34m(\u001b[0m\u001b[0mlen\u001b[0m\u001b[0;34m(\u001b[0m\u001b[0my_test\u001b[0m\u001b[0;34m)\u001b[0m\u001b[0;34m)\u001b[0m \u001b[0;34m]\u001b[0m\u001b[0;34m\u001b[0m\u001b[0;34m\u001b[0m\u001b[0m\n",
            "\u001b[0;31mNameError\u001b[0m: name 'y_test' is not defined"
          ]
        }
      ]
    },
    {
      "cell_type": "code",
      "metadata": {
        "id": "_DyXOEEpA4y1"
      },
      "source": [
        "model1=KNN.fit(x_train,y_train)\r\n",
        "model2=log_reg.fit(x_train,y_train)\r\n",
        "model3=forest.fit(x_train,y_train)"
      ],
      "execution_count": null,
      "outputs": []
    },
    {
      "cell_type": "code",
      "metadata": {
        "id": "2PUDLRxnA6Vl"
      },
      "source": [
        "KNN_predict=model1.predict_proba(x_test)\r\n",
        "log_reg_predict=model2.predict_proba(x_test)\r\n",
        "forest_predict=model3.predict_proba(x_test)"
      ],
      "execution_count": null,
      "outputs": []
    },
    {
      "cell_type": "code",
      "metadata": {
        "id": "vu_FKQBUA8JZ"
      },
      "source": [
        "KNN_predict=KNN_predict[:,1]\r\n",
        "log_reg_predict=log_reg_predict[:,1]\r\n",
        "forest_predict=forest_predict[:,1]"
      ],
      "execution_count": null,
      "outputs": []
    },
    {
      "cell_type": "code",
      "metadata": {
        "id": "8ROqNtMvBC97"
      },
      "source": [
        "KNN_auc=roc_auc_score(y_test,KNN_predict)\r\n",
        "log_reg_auc=roc_auc_score(y_test,log_reg_predict)\r\n",
        "forest_auc=roc_auc_score(y_test,forest_predict)"
      ],
      "execution_count": null,
      "outputs": []
    },
    {
      "cell_type": "code",
      "metadata": {
        "id": "xlzljI7SBDYd"
      },
      "source": [
        "print(\"KNN:ROC AUC=%.3f\"%(KNN_auc))\r\n",
        "print(\"log_reg:ROC AUC=%.3f\"%(log_reg_auc))\r\n",
        "print(\"forest:ROC AUC=%.3f\"%(forest_auc))"
      ],
      "execution_count": null,
      "outputs": []
    },
    {
      "cell_type": "code",
      "metadata": {
        "id": "L9MkbahvBDmo"
      },
      "source": [
        "KNN_fpr,KNN_tpr,_=roc_curve(y_test,KNN_predict)\r\n",
        "log_reg_fpr,log_reg_tpr,_=roc_curve(y_test,log_reg_predict)\r\n",
        "forest_fpr,forest_tpr,_=roc_curve(y_test,forest_predict)"
      ],
      "execution_count": null,
      "outputs": []
    },
    {
      "cell_type": "code",
      "metadata": {
        "id": "7ZhMYj9lBI34"
      },
      "source": [
        "pyplot.plot(KNN_fpr,KNN_tpr,linestyle=\"--\",label=\"KNN\")\r\n",
        "pyplot.plot(log_reg_fpr,log_reg_tpr,marker=\".\",label=\"log_reg\")\r\n",
        "pyplot.plot(forest_fpr,forest_tpr,marker=\".\",label=\"forest\")\r\n",
        "pyplot.legend()\r\n",
        "pyplot.show()"
      ],
      "execution_count": null,
      "outputs": []
    },
    {
      "cell_type": "code",
      "metadata": {
        "id": "JcUqMXznBKyD"
      },
      "source": [
        "#This is the most efficient analysis method, as the most area is under logistic regression.\r\n"
      ],
      "execution_count": null,
      "outputs": []
    },
    {
      "cell_type": "code",
      "metadata": {
        "id": "a9ZO1t9zMGVQ"
      },
      "source": [
        "import numpy as np\r\n",
        "import pandas as pd\r\n",
        "import seaborn as sns\r\n",
        "from matplotlib import pyplot\r\n",
        "from sklearn.model_selection import train_test_split\r\n",
        "import matplotlib.pyplot as plt\r\n",
        "from sklearn.cluster import KMeans\r\n",
        "import warnings\r\n",
        "import scipy.stats\r\n",
        "warnings.filterwarnings('ignore')\r\n"
      ],
      "execution_count": null,
      "outputs": []
    },
    {
      "cell_type": "markdown",
      "metadata": {
        "id": "ZBszxcEz3U-N"
      },
      "source": [
        "##Edit Data Cont."
      ]
    },
    {
      "cell_type": "code",
      "metadata": {
        "colab": {
          "base_uri": "https://localhost:8080/",
          "height": 195
        },
        "id": "-Yh23wpSWOsB",
        "outputId": "e1bf8cc7-f9f0-4435-c1b4-6b3b0e3684f2"
      },
      "source": [
        "data = pd.read_csv(\"diabetes.csv\")\r\n",
        "data.head()"
      ],
      "execution_count": null,
      "outputs": [
        {
          "output_type": "execute_result",
          "data": {
            "text/html": [
              "<div>\n",
              "<style scoped>\n",
              "    .dataframe tbody tr th:only-of-type {\n",
              "        vertical-align: middle;\n",
              "    }\n",
              "\n",
              "    .dataframe tbody tr th {\n",
              "        vertical-align: top;\n",
              "    }\n",
              "\n",
              "    .dataframe thead th {\n",
              "        text-align: right;\n",
              "    }\n",
              "</style>\n",
              "<table border=\"1\" class=\"dataframe\">\n",
              "  <thead>\n",
              "    <tr style=\"text-align: right;\">\n",
              "      <th></th>\n",
              "      <th>Pregnancies</th>\n",
              "      <th>Glucose</th>\n",
              "      <th>BloodPressure</th>\n",
              "      <th>SkinThickness</th>\n",
              "      <th>Insulin</th>\n",
              "      <th>BMI</th>\n",
              "      <th>DiabetesPedigreeFunction</th>\n",
              "      <th>Age</th>\n",
              "      <th>Outcome</th>\n",
              "    </tr>\n",
              "  </thead>\n",
              "  <tbody>\n",
              "    <tr>\n",
              "      <th>0</th>\n",
              "      <td>6</td>\n",
              "      <td>148</td>\n",
              "      <td>72</td>\n",
              "      <td>35</td>\n",
              "      <td>0</td>\n",
              "      <td>33.6</td>\n",
              "      <td>0.627</td>\n",
              "      <td>50</td>\n",
              "      <td>1</td>\n",
              "    </tr>\n",
              "    <tr>\n",
              "      <th>1</th>\n",
              "      <td>1</td>\n",
              "      <td>85</td>\n",
              "      <td>66</td>\n",
              "      <td>29</td>\n",
              "      <td>0</td>\n",
              "      <td>26.6</td>\n",
              "      <td>0.351</td>\n",
              "      <td>31</td>\n",
              "      <td>0</td>\n",
              "    </tr>\n",
              "    <tr>\n",
              "      <th>2</th>\n",
              "      <td>8</td>\n",
              "      <td>183</td>\n",
              "      <td>64</td>\n",
              "      <td>0</td>\n",
              "      <td>0</td>\n",
              "      <td>23.3</td>\n",
              "      <td>0.672</td>\n",
              "      <td>32</td>\n",
              "      <td>1</td>\n",
              "    </tr>\n",
              "    <tr>\n",
              "      <th>3</th>\n",
              "      <td>1</td>\n",
              "      <td>89</td>\n",
              "      <td>66</td>\n",
              "      <td>23</td>\n",
              "      <td>94</td>\n",
              "      <td>28.1</td>\n",
              "      <td>0.167</td>\n",
              "      <td>21</td>\n",
              "      <td>0</td>\n",
              "    </tr>\n",
              "    <tr>\n",
              "      <th>4</th>\n",
              "      <td>0</td>\n",
              "      <td>137</td>\n",
              "      <td>40</td>\n",
              "      <td>35</td>\n",
              "      <td>168</td>\n",
              "      <td>43.1</td>\n",
              "      <td>2.288</td>\n",
              "      <td>33</td>\n",
              "      <td>1</td>\n",
              "    </tr>\n",
              "  </tbody>\n",
              "</table>\n",
              "</div>"
            ],
            "text/plain": [
              "   Pregnancies  Glucose  BloodPressure  ...  DiabetesPedigreeFunction  Age  Outcome\n",
              "0            6      148             72  ...                     0.627   50        1\n",
              "1            1       85             66  ...                     0.351   31        0\n",
              "2            8      183             64  ...                     0.672   32        1\n",
              "3            1       89             66  ...                     0.167   21        0\n",
              "4            0      137             40  ...                     2.288   33        1\n",
              "\n",
              "[5 rows x 9 columns]"
            ]
          },
          "metadata": {
            "tags": []
          },
          "execution_count": 2
        }
      ]
    },
    {
      "cell_type": "code",
      "metadata": {
        "colab": {
          "base_uri": "https://localhost:8080/",
          "height": 284
        },
        "id": "zoJu_mWpWEna",
        "outputId": "daab0d82-9e18-4352-bf6c-5595579f4f42"
      },
      "source": [
        "#Statistical data brought.\r\n",
        "data.describe()"
      ],
      "execution_count": null,
      "outputs": [
        {
          "output_type": "execute_result",
          "data": {
            "text/html": [
              "<div>\n",
              "<style scoped>\n",
              "    .dataframe tbody tr th:only-of-type {\n",
              "        vertical-align: middle;\n",
              "    }\n",
              "\n",
              "    .dataframe tbody tr th {\n",
              "        vertical-align: top;\n",
              "    }\n",
              "\n",
              "    .dataframe thead th {\n",
              "        text-align: right;\n",
              "    }\n",
              "</style>\n",
              "<table border=\"1\" class=\"dataframe\">\n",
              "  <thead>\n",
              "    <tr style=\"text-align: right;\">\n",
              "      <th></th>\n",
              "      <th>Pregnancies</th>\n",
              "      <th>Glucose</th>\n",
              "      <th>BloodPressure</th>\n",
              "      <th>SkinThickness</th>\n",
              "      <th>Insulin</th>\n",
              "      <th>BMI</th>\n",
              "      <th>DiabetesPedigreeFunction</th>\n",
              "      <th>Age</th>\n",
              "      <th>Outcome</th>\n",
              "    </tr>\n",
              "  </thead>\n",
              "  <tbody>\n",
              "    <tr>\n",
              "      <th>count</th>\n",
              "      <td>768.000000</td>\n",
              "      <td>768.000000</td>\n",
              "      <td>768.000000</td>\n",
              "      <td>768.000000</td>\n",
              "      <td>768.000000</td>\n",
              "      <td>768.000000</td>\n",
              "      <td>768.000000</td>\n",
              "      <td>768.000000</td>\n",
              "      <td>768.000000</td>\n",
              "    </tr>\n",
              "    <tr>\n",
              "      <th>mean</th>\n",
              "      <td>3.845052</td>\n",
              "      <td>120.894531</td>\n",
              "      <td>69.105469</td>\n",
              "      <td>20.536458</td>\n",
              "      <td>79.799479</td>\n",
              "      <td>31.992578</td>\n",
              "      <td>0.471876</td>\n",
              "      <td>33.240885</td>\n",
              "      <td>0.348958</td>\n",
              "    </tr>\n",
              "    <tr>\n",
              "      <th>std</th>\n",
              "      <td>3.369578</td>\n",
              "      <td>31.972618</td>\n",
              "      <td>19.355807</td>\n",
              "      <td>15.952218</td>\n",
              "      <td>115.244002</td>\n",
              "      <td>7.884160</td>\n",
              "      <td>0.331329</td>\n",
              "      <td>11.760232</td>\n",
              "      <td>0.476951</td>\n",
              "    </tr>\n",
              "    <tr>\n",
              "      <th>min</th>\n",
              "      <td>0.000000</td>\n",
              "      <td>0.000000</td>\n",
              "      <td>0.000000</td>\n",
              "      <td>0.000000</td>\n",
              "      <td>0.000000</td>\n",
              "      <td>0.000000</td>\n",
              "      <td>0.078000</td>\n",
              "      <td>21.000000</td>\n",
              "      <td>0.000000</td>\n",
              "    </tr>\n",
              "    <tr>\n",
              "      <th>25%</th>\n",
              "      <td>1.000000</td>\n",
              "      <td>99.000000</td>\n",
              "      <td>62.000000</td>\n",
              "      <td>0.000000</td>\n",
              "      <td>0.000000</td>\n",
              "      <td>27.300000</td>\n",
              "      <td>0.243750</td>\n",
              "      <td>24.000000</td>\n",
              "      <td>0.000000</td>\n",
              "    </tr>\n",
              "    <tr>\n",
              "      <th>50%</th>\n",
              "      <td>3.000000</td>\n",
              "      <td>117.000000</td>\n",
              "      <td>72.000000</td>\n",
              "      <td>23.000000</td>\n",
              "      <td>30.500000</td>\n",
              "      <td>32.000000</td>\n",
              "      <td>0.372500</td>\n",
              "      <td>29.000000</td>\n",
              "      <td>0.000000</td>\n",
              "    </tr>\n",
              "    <tr>\n",
              "      <th>75%</th>\n",
              "      <td>6.000000</td>\n",
              "      <td>140.250000</td>\n",
              "      <td>80.000000</td>\n",
              "      <td>32.000000</td>\n",
              "      <td>127.250000</td>\n",
              "      <td>36.600000</td>\n",
              "      <td>0.626250</td>\n",
              "      <td>41.000000</td>\n",
              "      <td>1.000000</td>\n",
              "    </tr>\n",
              "    <tr>\n",
              "      <th>max</th>\n",
              "      <td>17.000000</td>\n",
              "      <td>199.000000</td>\n",
              "      <td>122.000000</td>\n",
              "      <td>99.000000</td>\n",
              "      <td>846.000000</td>\n",
              "      <td>67.100000</td>\n",
              "      <td>2.420000</td>\n",
              "      <td>81.000000</td>\n",
              "      <td>1.000000</td>\n",
              "    </tr>\n",
              "  </tbody>\n",
              "</table>\n",
              "</div>"
            ],
            "text/plain": [
              "       Pregnancies     Glucose  ...         Age     Outcome\n",
              "count   768.000000  768.000000  ...  768.000000  768.000000\n",
              "mean      3.845052  120.894531  ...   33.240885    0.348958\n",
              "std       3.369578   31.972618  ...   11.760232    0.476951\n",
              "min       0.000000    0.000000  ...   21.000000    0.000000\n",
              "25%       1.000000   99.000000  ...   24.000000    0.000000\n",
              "50%       3.000000  117.000000  ...   29.000000    0.000000\n",
              "75%       6.000000  140.250000  ...   41.000000    1.000000\n",
              "max      17.000000  199.000000  ...   81.000000    1.000000\n",
              "\n",
              "[8 rows x 9 columns]"
            ]
          },
          "metadata": {
            "tags": []
          },
          "execution_count": 3
        }
      ]
    },
    {
      "cell_type": "code",
      "metadata": {
        "colab": {
          "base_uri": "https://localhost:8080/"
        },
        "id": "bxd7f4fLWJ1y",
        "outputId": "1b4e0836-2f1e-4cde-d142-3c329dfbd06d"
      },
      "source": [
        "#Of the 768 patients, 500 are not sick.\r\n",
        "data.shape"
      ],
      "execution_count": null,
      "outputs": [
        {
          "output_type": "execute_result",
          "data": {
            "text/plain": [
              "(768, 9)"
            ]
          },
          "metadata": {
            "tags": []
          },
          "execution_count": 4
        }
      ]
    },
    {
      "cell_type": "code",
      "metadata": {
        "id": "6y0E7nQF_FXP"
      },
      "source": [
        "#we changed the values ​​of the table.\r\n",
        "#NaN instead of 0\r\n",
        "data[[\"Pregnancies\",\"Glucose\",\"BloodPressure\",\"SkinThickness\",\"Insulin\",\"BMI\",\"DiabetesPedigreeFunction\",\"Age\"\r\n",
        "    ]]=data[[\r\n",
        "    \"Pregnancies\",\"Glucose\",\"BloodPressure\",\"SkinThickness\",\"Insulin\",\"BMI\",\"DiabetesPedigreeFunction\",\"Age\"]].replace(0,np.NaN) \r\n",
        "    "
      ],
      "execution_count": null,
      "outputs": []
    },
    {
      "cell_type": "code",
      "metadata": {
        "id": "AheGgJHKWakx"
      },
      "source": [
        "#filling in the missing values\r\n",
        "data.fillna(data.mean(),inplace=True)\r\n"
      ],
      "execution_count": null,
      "outputs": []
    },
    {
      "cell_type": "code",
      "metadata": {
        "colab": {
          "base_uri": "https://localhost:8080/",
          "height": 195
        },
        "id": "mJqhKMXnWbkr",
        "outputId": "9125ce48-6141-4223-d89f-75084cfd8a53"
      },
      "source": [
        "#we filled the empty spaces with average.\r\n",
        "data.head()"
      ],
      "execution_count": null,
      "outputs": [
        {
          "output_type": "execute_result",
          "data": {
            "text/html": [
              "<div>\n",
              "<style scoped>\n",
              "    .dataframe tbody tr th:only-of-type {\n",
              "        vertical-align: middle;\n",
              "    }\n",
              "\n",
              "    .dataframe tbody tr th {\n",
              "        vertical-align: top;\n",
              "    }\n",
              "\n",
              "    .dataframe thead th {\n",
              "        text-align: right;\n",
              "    }\n",
              "</style>\n",
              "<table border=\"1\" class=\"dataframe\">\n",
              "  <thead>\n",
              "    <tr style=\"text-align: right;\">\n",
              "      <th></th>\n",
              "      <th>Pregnancies</th>\n",
              "      <th>Glucose</th>\n",
              "      <th>BloodPressure</th>\n",
              "      <th>SkinThickness</th>\n",
              "      <th>Insulin</th>\n",
              "      <th>BMI</th>\n",
              "      <th>DiabetesPedigreeFunction</th>\n",
              "      <th>Age</th>\n",
              "      <th>Outcome</th>\n",
              "    </tr>\n",
              "  </thead>\n",
              "  <tbody>\n",
              "    <tr>\n",
              "      <th>0</th>\n",
              "      <td>6.000000</td>\n",
              "      <td>148.0</td>\n",
              "      <td>72.0</td>\n",
              "      <td>35.00000</td>\n",
              "      <td>155.548223</td>\n",
              "      <td>33.6</td>\n",
              "      <td>0.627</td>\n",
              "      <td>50</td>\n",
              "      <td>1</td>\n",
              "    </tr>\n",
              "    <tr>\n",
              "      <th>1</th>\n",
              "      <td>1.000000</td>\n",
              "      <td>85.0</td>\n",
              "      <td>66.0</td>\n",
              "      <td>29.00000</td>\n",
              "      <td>155.548223</td>\n",
              "      <td>26.6</td>\n",
              "      <td>0.351</td>\n",
              "      <td>31</td>\n",
              "      <td>0</td>\n",
              "    </tr>\n",
              "    <tr>\n",
              "      <th>2</th>\n",
              "      <td>8.000000</td>\n",
              "      <td>183.0</td>\n",
              "      <td>64.0</td>\n",
              "      <td>29.15342</td>\n",
              "      <td>155.548223</td>\n",
              "      <td>23.3</td>\n",
              "      <td>0.672</td>\n",
              "      <td>32</td>\n",
              "      <td>1</td>\n",
              "    </tr>\n",
              "    <tr>\n",
              "      <th>3</th>\n",
              "      <td>1.000000</td>\n",
              "      <td>89.0</td>\n",
              "      <td>66.0</td>\n",
              "      <td>23.00000</td>\n",
              "      <td>94.000000</td>\n",
              "      <td>28.1</td>\n",
              "      <td>0.167</td>\n",
              "      <td>21</td>\n",
              "      <td>0</td>\n",
              "    </tr>\n",
              "    <tr>\n",
              "      <th>4</th>\n",
              "      <td>4.494673</td>\n",
              "      <td>137.0</td>\n",
              "      <td>40.0</td>\n",
              "      <td>35.00000</td>\n",
              "      <td>168.000000</td>\n",
              "      <td>43.1</td>\n",
              "      <td>2.288</td>\n",
              "      <td>33</td>\n",
              "      <td>1</td>\n",
              "    </tr>\n",
              "  </tbody>\n",
              "</table>\n",
              "</div>"
            ],
            "text/plain": [
              "   Pregnancies  Glucose  BloodPressure  ...  DiabetesPedigreeFunction  Age  Outcome\n",
              "0     6.000000    148.0           72.0  ...                     0.627   50        1\n",
              "1     1.000000     85.0           66.0  ...                     0.351   31        0\n",
              "2     8.000000    183.0           64.0  ...                     0.672   32        1\n",
              "3     1.000000     89.0           66.0  ...                     0.167   21        0\n",
              "4     4.494673    137.0           40.0  ...                     2.288   33        1\n",
              "\n",
              "[5 rows x 9 columns]"
            ]
          },
          "metadata": {
            "tags": []
          },
          "execution_count": 7
        }
      ]
    },
    {
      "cell_type": "code",
      "metadata": {
        "colab": {
          "base_uri": "https://localhost:8080/",
          "height": 908
        },
        "id": "q7yg-AJkWVUo",
        "outputId": "6d543140-e34e-4b02-d81e-64396816c7eb"
      },
      "source": [
        "#scatter plots of features\r\n",
        "def scatter(ax,axis,name,title):\r\n",
        "  sns.countplot(name,data=data,ax=ax[axis[0]][axis[1]])\r\n",
        "  ax[axis[0],axis[1]].set_title(title)\r\n",
        "\r\n",
        "f,ax=plt.subplots(4,2,figsize=(20,15))\r\n",
        "plt.suptitle(\"Scatter plots of features\")\r\n",
        "\r\n",
        "features = (((0,0),\"Pregnancies\",\"Pregnancy chart feature\"),((0,1),\"Glucose\",\"Glucose chart feature\"),((1,0),\"BloodPressure\",\"BloodPressure chart feature\"),((1,1),\"SkinThickness\",\"SkinThickness chart feature\")\r\n",
        ",((2,0),\"Insulin\",\"Insulin chart feature\"),((2,1),\"BMI\",\"BMI chart feature\"),((3,0),\"DiabetesPedigreeFunction\",\"DiabetesPedigreeFunction chart feature\"),((3,1),\"Age\",\"Age\" \"chart feature\"))\r\n",
        "\r\n",
        "for axis, name, title in features:\r\n",
        "  scatter(ax,axis,name,title)\r\n"
      ],
      "execution_count": null,
      "outputs": [
        {
          "output_type": "display_data",
          "data": {
            "image/png": "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\n",
            "text/plain": [
              "<Figure size 1440x1080 with 8 Axes>"
            ]
          },
          "metadata": {
            "tags": [],
            "needs_background": "light"
          }
        }
      ]
    },
    {
      "cell_type": "code",
      "metadata": {
        "colab": {
          "base_uri": "https://localhost:8080/",
          "height": 420
        },
        "id": "2r3QdsP0WBQG",
        "outputId": "06b2116c-7af1-45df-b84a-14bdbc8b63dd"
      },
      "source": [
        "#order of importance\r\n",
        "x=data[['Glucose', 'BMI', 'Age', 'Pregnancies', 'SkinThickness',\r\n",
        "       'Insulin', 'DiabetesPedigreeFunction']]\r\n",
        "y=data.iloc[:,8]\r\n",
        "from sklearn.ensemble import ExtraTreesClassifier\r\n",
        "import matplotlib.pyplot as plt\r\n",
        "model = ExtraTreesClassifier()\r\n",
        "model.fit(x,y)\r\n",
        "print(model.feature_importances_) \r\n",
        "#plot graph of feature importances for better visualization\r\n",
        "feat_importances = pd.Series(model.feature_importances_, index=x.columns)\r\n",
        "feat_importances.nlargest(20).plot(kind='bar')\r\n",
        "plt.show()"
      ],
      "execution_count": null,
      "outputs": [
        {
          "output_type": "stream",
          "text": [
            "[0.26153464 0.1581187  0.14611985 0.11221991 0.0936248  0.09605271\n",
            " 0.13232938]\n"
          ],
          "name": "stdout"
        },
        {
          "output_type": "display_data",
          "data": {
            "image/png": "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\n",
            "text/plain": [
              "<Figure size 432x288 with 1 Axes>"
            ]
          },
          "metadata": {
            "tags": [],
            "needs_background": "light"
          }
        }
      ]
    },
    {
      "cell_type": "code",
      "metadata": {
        "colab": {
          "base_uri": "https://localhost:8080/"
        },
        "id": "FHmHKChPVtmZ",
        "outputId": "11a2b2c8-efc9-4bbb-abd4-d5f30fb4787d"
      },
      "source": [
        "#clustering\r\n",
        "x=data[['Glucose', 'BMI', 'Age', 'Pregnancies', 'SkinThickness',\r\n",
        "       'Insulin', 'DiabetesPedigreeFunction']]\r\n",
        "y=data.iloc[:,8]\r\n",
        "x_train,x_test,y_train,y_test=train_test_split(x,y,test_size=0.10,random_state=0)\r\n",
        "kmeans = KMeans(n_clusters=2, random_state=0).fit(x)\r\n",
        "kmeans.labels_\r\n",
        "count = 0\r\n",
        "for first,second in zip(y,kmeans.labels_):\r\n",
        "  #print(first,second)\r\n",
        "  if first==second:\r\n",
        "      count+=1\r\n",
        "\r\n",
        "print(count)\r\n",
        "print(\"Accuracy: \",(count / len(y)) * 100)"
      ],
      "execution_count": null,
      "outputs": [
        {
          "output_type": "stream",
          "text": [
            "503\n",
            "Accuracy:  65.49479166666666\n"
          ],
          "name": "stdout"
        }
      ]
>>>>>>> 1dac1c2bf5e988c8e4e9698c94cb84c7c4eb98f2
    }
  ]
}